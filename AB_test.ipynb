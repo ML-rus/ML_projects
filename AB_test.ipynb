{
 "cells": [
  {
   "cell_type": "markdown",
   "id": "bb2c78f2",
   "metadata": {},
   "source": [
    "# Проект: Приоритизация гипотез и анализ результатов A/B-теста."
   ]
  },
  {
   "cell_type": "markdown",
   "id": "c905a3a1",
   "metadata": {},
   "source": [
    "# Описание проекта.\n",
    "\n",
    "Совместно с отделом маркетинга подготовлен список гипотез для увеличения выручки.\n",
    "Необходимо приоритизировать гипотезы, запустить A/B-тест и проанализировать полученные результаты теста. "
   ]
  },
  {
   "cell_type": "markdown",
   "id": "d0bbbeda",
   "metadata": {},
   "source": [
    "# Цель проекта.\n",
    "\n",
    "Приоритизировать гипотезы и проанализировать результаты A/B-теста."
   ]
  },
  {
   "cell_type": "markdown",
   "id": "6f750207",
   "metadata": {},
   "source": [
    "# План работ.\n",
    "\n",
    "**Часть 1. Приоритизация гипотез.**\n",
    "\n",
    "В файле `/datasets/hypothesis.csv` собраны 9 гипотез по увеличению выручки интернет-магазина с указанными параметрами Reach, Impact, Confidence, Effort.\n",
    "\n",
    "Необходимо:\n",
    "* Применить фреймворк ICE для приоритизации гипотез. Отсортировать их по убыванию приоритета.\n",
    "* Применить фреймворк RICE для приоритизации гипотез. Отсортирвать их по убыванию приоритета.\n",
    "\n",
    "Написать вывод. В выводе отразить, как изменилась приоритизация гипотез при применении RICE вместо ICE. Объяснить, почему так произошло.\n",
    "\n",
    "**Часть 2. Анализ A/B-теста**\n",
    "\n",
    "A/B-тест проведён, результаты находятся в файлах `/datasets/orders.csv` и `/datasets/visitors.csv`.\n",
    "\n",
    "Необходимо проанализировать A/B-тест по следующим пунктам:\n",
    "* Построить график кумулятивной выручки по группам. Сформулировать выводы и предположения.\n",
    "* Построить график кумулятивного среднего чека по группам. Сформулировать выводы и предположения.\n",
    "* Построить график относительного изменения кумулятивного среднего чека группы B к группе A. Сформулировать выводы и предположения.\n",
    "* Построить график кумулятивного среднего количества заказов на посетителя по группам. Сформулировать выводы и предположения.\n",
    "* Построить график относительного изменения кумулятивного среднего количества заказов на посетителя группы B к группе A. Сформулировать выводы и предположения.\n",
    "* Построить точечный график количества заказов по пользователям. Сформулировать выводы и предположения.\n",
    "* Посчитать 95-й и 99-й перцентили количества заказов на пользователя. Выбрать границу для определения аномальных пользователей.\n",
    "* Построить точечный график стоимостей заказов. Сформулировать выводы и предположения.\n",
    "* Посчитать 95-й и 99-й перцентили стоимости заказов. Выбрать границу для определения аномальных заказов.\n",
    "* Посчитать статистическую значимость различий в среднем количестве заказов на посетителя между группами по «сырым» данным. Сформулировать выводы и предположения.\n",
    "* Посчитать статистическую значимость различий в среднем чеке заказа между группами по «сырым» данным. Сформулировать выводы и предположения.\n",
    "* Посчитать статистическую значимость различий в среднем количестве заказов на посетителя между группами по «очищенным» данным. Сформулировать выводы и предположения.\n",
    "* Посчитать статистическую значимость различий в среднем чеке заказа между группами по «очищенным» данным. Сформулировать выводы и предположения.\n",
    "\n",
    "По результатам анализа принять один из трех вариантов решения:\n",
    "1. Остановить тест, зафиксировать победу одной из групп.\n",
    "2. Остановить тест, зафиксировать отсутствие различий между группами.\n",
    "3. Продолжить тест.\n",
    "\n",
    "Обосновать принятое решение.\n",
    "\n",
    "Написать вывод."
   ]
  },
  {
   "cell_type": "markdown",
   "id": "0759c2da",
   "metadata": {},
   "source": [
    "# Выполнение проекта."
   ]
  },
  {
   "cell_type": "markdown",
   "id": "41b78e81",
   "metadata": {},
   "source": [
    "## Подготовительный этап."
   ]
  },
  {
   "cell_type": "markdown",
   "id": "9048ff9e",
   "metadata": {},
   "source": [
    "### Импорт необходимых библиотек и загрузка исходных данных."
   ]
  },
  {
   "cell_type": "code",
   "execution_count": 1,
   "id": "fad68682",
   "metadata": {},
   "outputs": [],
   "source": [
    "# импорт необходимых библиотек\n",
    "import pandas as pd\n",
    "import datetime as dt\n",
    "import numpy as np\n",
    "import matplotlib.pyplot as plt\n",
    "import scipy.stats as stats"
   ]
  },
  {
   "cell_type": "code",
   "execution_count": 2,
   "id": "f0fa1273",
   "metadata": {},
   "outputs": [
    {
     "name": "stdout",
     "output_type": "stream",
     "text": [
      "Данные загружены из каталога Yandex Practicum.\n"
     ]
    }
   ],
   "source": [
    "# загрузка исходных данных\n",
    "try :\n",
    "    hyp = pd.read_csv('/datasets/hypothesis.csv')\n",
    "    orders = pd.read_csv('/datasets/orders.csv')\n",
    "    visitors = pd.read_csv('/datasets/visitors.csv')\n",
    "    print('Данные загружены из каталога Yandex Practicum.')\n",
    "\n",
    "except :\n",
    "    hyp = pd.read_csv('res/hypothesis.csv')\n",
    "    orders = pd.read_csv('res/orders.csv')\n",
    "    visitors = pd.read_csv('res/visitors.csv')\n",
    "    print('Данные загружены из локального каталога.')"
   ]
  },
  {
   "cell_type": "markdown",
   "id": "c93f75f4",
   "metadata": {},
   "source": [
    "Посмотрим на результат загрузки данных:"
   ]
  },
  {
   "cell_type": "code",
   "execution_count": 3,
   "id": "fb37efb3",
   "metadata": {
    "scrolled": true
   },
   "outputs": [
    {
     "data": {
      "text/html": [
       "<div>\n",
       "<style scoped>\n",
       "    .dataframe tbody tr th:only-of-type {\n",
       "        vertical-align: middle;\n",
       "    }\n",
       "\n",
       "    .dataframe tbody tr th {\n",
       "        vertical-align: top;\n",
       "    }\n",
       "\n",
       "    .dataframe thead th {\n",
       "        text-align: right;\n",
       "    }\n",
       "</style>\n",
       "<table border=\"1\" class=\"dataframe\">\n",
       "  <thead>\n",
       "    <tr style=\"text-align: right;\">\n",
       "      <th></th>\n",
       "      <th>Hypothesis</th>\n",
       "      <th>Reach</th>\n",
       "      <th>Impact</th>\n",
       "      <th>Confidence</th>\n",
       "      <th>Efforts</th>\n",
       "    </tr>\n",
       "  </thead>\n",
       "  <tbody>\n",
       "    <tr>\n",
       "      <th>0</th>\n",
       "      <td>Добавить два новых канала привлечения трафика,...</td>\n",
       "      <td>3</td>\n",
       "      <td>10</td>\n",
       "      <td>8</td>\n",
       "      <td>6</td>\n",
       "    </tr>\n",
       "    <tr>\n",
       "      <th>1</th>\n",
       "      <td>Запустить собственную службу доставки, что сок...</td>\n",
       "      <td>2</td>\n",
       "      <td>5</td>\n",
       "      <td>4</td>\n",
       "      <td>10</td>\n",
       "    </tr>\n",
       "    <tr>\n",
       "      <th>2</th>\n",
       "      <td>Добавить блоки рекомендаций товаров на сайт ин...</td>\n",
       "      <td>8</td>\n",
       "      <td>3</td>\n",
       "      <td>7</td>\n",
       "      <td>3</td>\n",
       "    </tr>\n",
       "    <tr>\n",
       "      <th>3</th>\n",
       "      <td>Изменить структура категорий, что увеличит кон...</td>\n",
       "      <td>8</td>\n",
       "      <td>3</td>\n",
       "      <td>3</td>\n",
       "      <td>8</td>\n",
       "    </tr>\n",
       "    <tr>\n",
       "      <th>4</th>\n",
       "      <td>Изменить цвет фона главной страницы, чтобы уве...</td>\n",
       "      <td>3</td>\n",
       "      <td>1</td>\n",
       "      <td>1</td>\n",
       "      <td>1</td>\n",
       "    </tr>\n",
       "    <tr>\n",
       "      <th>5</th>\n",
       "      <td>Добавить страницу отзывов клиентов о магазине,...</td>\n",
       "      <td>3</td>\n",
       "      <td>2</td>\n",
       "      <td>2</td>\n",
       "      <td>3</td>\n",
       "    </tr>\n",
       "    <tr>\n",
       "      <th>6</th>\n",
       "      <td>Показать на главной странице баннеры с актуаль...</td>\n",
       "      <td>5</td>\n",
       "      <td>3</td>\n",
       "      <td>8</td>\n",
       "      <td>3</td>\n",
       "    </tr>\n",
       "    <tr>\n",
       "      <th>7</th>\n",
       "      <td>Добавить форму подписки на все основные страни...</td>\n",
       "      <td>10</td>\n",
       "      <td>7</td>\n",
       "      <td>8</td>\n",
       "      <td>5</td>\n",
       "    </tr>\n",
       "    <tr>\n",
       "      <th>8</th>\n",
       "      <td>Запустить акцию, дающую скидку на товар в день...</td>\n",
       "      <td>1</td>\n",
       "      <td>9</td>\n",
       "      <td>9</td>\n",
       "      <td>5</td>\n",
       "    </tr>\n",
       "  </tbody>\n",
       "</table>\n",
       "</div>"
      ],
      "text/plain": [
       "                                          Hypothesis  Reach  Impact  \\\n",
       "0  Добавить два новых канала привлечения трафика,...      3      10   \n",
       "1  Запустить собственную службу доставки, что сок...      2       5   \n",
       "2  Добавить блоки рекомендаций товаров на сайт ин...      8       3   \n",
       "3  Изменить структура категорий, что увеличит кон...      8       3   \n",
       "4  Изменить цвет фона главной страницы, чтобы уве...      3       1   \n",
       "5  Добавить страницу отзывов клиентов о магазине,...      3       2   \n",
       "6  Показать на главной странице баннеры с актуаль...      5       3   \n",
       "7  Добавить форму подписки на все основные страни...     10       7   \n",
       "8  Запустить акцию, дающую скидку на товар в день...      1       9   \n",
       "\n",
       "   Confidence  Efforts  \n",
       "0           8        6  \n",
       "1           4       10  \n",
       "2           7        3  \n",
       "3           3        8  \n",
       "4           1        1  \n",
       "5           2        3  \n",
       "6           8        3  \n",
       "7           8        5  \n",
       "8           9        5  "
      ]
     },
     "execution_count": 3,
     "metadata": {},
     "output_type": "execute_result"
    }
   ],
   "source": [
    "hyp"
   ]
  },
  {
   "cell_type": "markdown",
   "id": "042f1705",
   "metadata": {},
   "source": [
    "Приведем названия столбцов к нормальному формату и проверим результат:"
   ]
  },
  {
   "cell_type": "code",
   "execution_count": 4,
   "id": "64565af3",
   "metadata": {},
   "outputs": [
    {
     "data": {
      "text/html": [
       "<div>\n",
       "<style scoped>\n",
       "    .dataframe tbody tr th:only-of-type {\n",
       "        vertical-align: middle;\n",
       "    }\n",
       "\n",
       "    .dataframe tbody tr th {\n",
       "        vertical-align: top;\n",
       "    }\n",
       "\n",
       "    .dataframe thead th {\n",
       "        text-align: right;\n",
       "    }\n",
       "</style>\n",
       "<table border=\"1\" class=\"dataframe\">\n",
       "  <thead>\n",
       "    <tr style=\"text-align: right;\">\n",
       "      <th></th>\n",
       "      <th>hypothesis</th>\n",
       "      <th>reach</th>\n",
       "      <th>impact</th>\n",
       "      <th>confidence</th>\n",
       "      <th>efforts</th>\n",
       "    </tr>\n",
       "  </thead>\n",
       "  <tbody>\n",
       "    <tr>\n",
       "      <th>0</th>\n",
       "      <td>Добавить два новых канала привлечения трафика,...</td>\n",
       "      <td>3</td>\n",
       "      <td>10</td>\n",
       "      <td>8</td>\n",
       "      <td>6</td>\n",
       "    </tr>\n",
       "    <tr>\n",
       "      <th>1</th>\n",
       "      <td>Запустить собственную службу доставки, что сок...</td>\n",
       "      <td>2</td>\n",
       "      <td>5</td>\n",
       "      <td>4</td>\n",
       "      <td>10</td>\n",
       "    </tr>\n",
       "    <tr>\n",
       "      <th>2</th>\n",
       "      <td>Добавить блоки рекомендаций товаров на сайт ин...</td>\n",
       "      <td>8</td>\n",
       "      <td>3</td>\n",
       "      <td>7</td>\n",
       "      <td>3</td>\n",
       "    </tr>\n",
       "    <tr>\n",
       "      <th>3</th>\n",
       "      <td>Изменить структура категорий, что увеличит кон...</td>\n",
       "      <td>8</td>\n",
       "      <td>3</td>\n",
       "      <td>3</td>\n",
       "      <td>8</td>\n",
       "    </tr>\n",
       "    <tr>\n",
       "      <th>4</th>\n",
       "      <td>Изменить цвет фона главной страницы, чтобы уве...</td>\n",
       "      <td>3</td>\n",
       "      <td>1</td>\n",
       "      <td>1</td>\n",
       "      <td>1</td>\n",
       "    </tr>\n",
       "    <tr>\n",
       "      <th>5</th>\n",
       "      <td>Добавить страницу отзывов клиентов о магазине,...</td>\n",
       "      <td>3</td>\n",
       "      <td>2</td>\n",
       "      <td>2</td>\n",
       "      <td>3</td>\n",
       "    </tr>\n",
       "    <tr>\n",
       "      <th>6</th>\n",
       "      <td>Показать на главной странице баннеры с актуаль...</td>\n",
       "      <td>5</td>\n",
       "      <td>3</td>\n",
       "      <td>8</td>\n",
       "      <td>3</td>\n",
       "    </tr>\n",
       "    <tr>\n",
       "      <th>7</th>\n",
       "      <td>Добавить форму подписки на все основные страни...</td>\n",
       "      <td>10</td>\n",
       "      <td>7</td>\n",
       "      <td>8</td>\n",
       "      <td>5</td>\n",
       "    </tr>\n",
       "    <tr>\n",
       "      <th>8</th>\n",
       "      <td>Запустить акцию, дающую скидку на товар в день...</td>\n",
       "      <td>1</td>\n",
       "      <td>9</td>\n",
       "      <td>9</td>\n",
       "      <td>5</td>\n",
       "    </tr>\n",
       "  </tbody>\n",
       "</table>\n",
       "</div>"
      ],
      "text/plain": [
       "                                          hypothesis  reach  impact  \\\n",
       "0  Добавить два новых канала привлечения трафика,...      3      10   \n",
       "1  Запустить собственную службу доставки, что сок...      2       5   \n",
       "2  Добавить блоки рекомендаций товаров на сайт ин...      8       3   \n",
       "3  Изменить структура категорий, что увеличит кон...      8       3   \n",
       "4  Изменить цвет фона главной страницы, чтобы уве...      3       1   \n",
       "5  Добавить страницу отзывов клиентов о магазине,...      3       2   \n",
       "6  Показать на главной странице баннеры с актуаль...      5       3   \n",
       "7  Добавить форму подписки на все основные страни...     10       7   \n",
       "8  Запустить акцию, дающую скидку на товар в день...      1       9   \n",
       "\n",
       "   confidence  efforts  \n",
       "0           8        6  \n",
       "1           4       10  \n",
       "2           7        3  \n",
       "3           3        8  \n",
       "4           1        1  \n",
       "5           2        3  \n",
       "6           8        3  \n",
       "7           8        5  \n",
       "8           9        5  "
      ]
     },
     "execution_count": 4,
     "metadata": {},
     "output_type": "execute_result"
    }
   ],
   "source": [
    "hyp.columns = hyp.columns.str.lower()\n",
    "hyp"
   ]
  },
  {
   "cell_type": "code",
   "execution_count": 5,
   "id": "72382d70",
   "metadata": {
    "scrolled": true
   },
   "outputs": [
    {
     "data": {
      "text/html": [
       "<div>\n",
       "<style scoped>\n",
       "    .dataframe tbody tr th:only-of-type {\n",
       "        vertical-align: middle;\n",
       "    }\n",
       "\n",
       "    .dataframe tbody tr th {\n",
       "        vertical-align: top;\n",
       "    }\n",
       "\n",
       "    .dataframe thead th {\n",
       "        text-align: right;\n",
       "    }\n",
       "</style>\n",
       "<table border=\"1\" class=\"dataframe\">\n",
       "  <thead>\n",
       "    <tr style=\"text-align: right;\">\n",
       "      <th></th>\n",
       "      <th>transactionId</th>\n",
       "      <th>visitorId</th>\n",
       "      <th>date</th>\n",
       "      <th>revenue</th>\n",
       "      <th>group</th>\n",
       "    </tr>\n",
       "  </thead>\n",
       "  <tbody>\n",
       "    <tr>\n",
       "      <th>0</th>\n",
       "      <td>3667963787</td>\n",
       "      <td>3312258926</td>\n",
       "      <td>2019-08-15</td>\n",
       "      <td>1650</td>\n",
       "      <td>B</td>\n",
       "    </tr>\n",
       "    <tr>\n",
       "      <th>1</th>\n",
       "      <td>2804400009</td>\n",
       "      <td>3642806036</td>\n",
       "      <td>2019-08-15</td>\n",
       "      <td>730</td>\n",
       "      <td>B</td>\n",
       "    </tr>\n",
       "    <tr>\n",
       "      <th>2</th>\n",
       "      <td>2961555356</td>\n",
       "      <td>4069496402</td>\n",
       "      <td>2019-08-15</td>\n",
       "      <td>400</td>\n",
       "      <td>A</td>\n",
       "    </tr>\n",
       "    <tr>\n",
       "      <th>3</th>\n",
       "      <td>3797467345</td>\n",
       "      <td>1196621759</td>\n",
       "      <td>2019-08-15</td>\n",
       "      <td>9759</td>\n",
       "      <td>B</td>\n",
       "    </tr>\n",
       "    <tr>\n",
       "      <th>4</th>\n",
       "      <td>2282983706</td>\n",
       "      <td>2322279887</td>\n",
       "      <td>2019-08-15</td>\n",
       "      <td>2308</td>\n",
       "      <td>B</td>\n",
       "    </tr>\n",
       "  </tbody>\n",
       "</table>\n",
       "</div>"
      ],
      "text/plain": [
       "   transactionId   visitorId        date  revenue group\n",
       "0     3667963787  3312258926  2019-08-15     1650     B\n",
       "1     2804400009  3642806036  2019-08-15      730     B\n",
       "2     2961555356  4069496402  2019-08-15      400     A\n",
       "3     3797467345  1196621759  2019-08-15     9759     B\n",
       "4     2282983706  2322279887  2019-08-15     2308     B"
      ]
     },
     "execution_count": 5,
     "metadata": {},
     "output_type": "execute_result"
    }
   ],
   "source": [
    "orders.head()"
   ]
  },
  {
   "cell_type": "markdown",
   "id": "b12241ba",
   "metadata": {},
   "source": [
    "Поправим названия первых двух столбцов на более удобные для восприятия и проверим результат:"
   ]
  },
  {
   "cell_type": "code",
   "execution_count": 6,
   "id": "b261c6ea",
   "metadata": {},
   "outputs": [
    {
     "data": {
      "text/html": [
       "<div>\n",
       "<style scoped>\n",
       "    .dataframe tbody tr th:only-of-type {\n",
       "        vertical-align: middle;\n",
       "    }\n",
       "\n",
       "    .dataframe tbody tr th {\n",
       "        vertical-align: top;\n",
       "    }\n",
       "\n",
       "    .dataframe thead th {\n",
       "        text-align: right;\n",
       "    }\n",
       "</style>\n",
       "<table border=\"1\" class=\"dataframe\">\n",
       "  <thead>\n",
       "    <tr style=\"text-align: right;\">\n",
       "      <th></th>\n",
       "      <th>order_id</th>\n",
       "      <th>user_id</th>\n",
       "      <th>date</th>\n",
       "      <th>revenue</th>\n",
       "      <th>group</th>\n",
       "    </tr>\n",
       "  </thead>\n",
       "  <tbody>\n",
       "    <tr>\n",
       "      <th>0</th>\n",
       "      <td>3667963787</td>\n",
       "      <td>3312258926</td>\n",
       "      <td>2019-08-15</td>\n",
       "      <td>1650</td>\n",
       "      <td>B</td>\n",
       "    </tr>\n",
       "    <tr>\n",
       "      <th>1</th>\n",
       "      <td>2804400009</td>\n",
       "      <td>3642806036</td>\n",
       "      <td>2019-08-15</td>\n",
       "      <td>730</td>\n",
       "      <td>B</td>\n",
       "    </tr>\n",
       "    <tr>\n",
       "      <th>2</th>\n",
       "      <td>2961555356</td>\n",
       "      <td>4069496402</td>\n",
       "      <td>2019-08-15</td>\n",
       "      <td>400</td>\n",
       "      <td>A</td>\n",
       "    </tr>\n",
       "    <tr>\n",
       "      <th>3</th>\n",
       "      <td>3797467345</td>\n",
       "      <td>1196621759</td>\n",
       "      <td>2019-08-15</td>\n",
       "      <td>9759</td>\n",
       "      <td>B</td>\n",
       "    </tr>\n",
       "    <tr>\n",
       "      <th>4</th>\n",
       "      <td>2282983706</td>\n",
       "      <td>2322279887</td>\n",
       "      <td>2019-08-15</td>\n",
       "      <td>2308</td>\n",
       "      <td>B</td>\n",
       "    </tr>\n",
       "  </tbody>\n",
       "</table>\n",
       "</div>"
      ],
      "text/plain": [
       "     order_id     user_id        date  revenue group\n",
       "0  3667963787  3312258926  2019-08-15     1650     B\n",
       "1  2804400009  3642806036  2019-08-15      730     B\n",
       "2  2961555356  4069496402  2019-08-15      400     A\n",
       "3  3797467345  1196621759  2019-08-15     9759     B\n",
       "4  2282983706  2322279887  2019-08-15     2308     B"
      ]
     },
     "execution_count": 6,
     "metadata": {},
     "output_type": "execute_result"
    }
   ],
   "source": [
    "orders.columns = ['order_id', 'user_id', 'date', 'revenue', 'group']\n",
    "orders.head()"
   ]
  },
  {
   "cell_type": "code",
   "execution_count": 7,
   "id": "27ca3447",
   "metadata": {
    "scrolled": true
   },
   "outputs": [
    {
     "data": {
      "text/html": [
       "<div>\n",
       "<style scoped>\n",
       "    .dataframe tbody tr th:only-of-type {\n",
       "        vertical-align: middle;\n",
       "    }\n",
       "\n",
       "    .dataframe tbody tr th {\n",
       "        vertical-align: top;\n",
       "    }\n",
       "\n",
       "    .dataframe thead th {\n",
       "        text-align: right;\n",
       "    }\n",
       "</style>\n",
       "<table border=\"1\" class=\"dataframe\">\n",
       "  <thead>\n",
       "    <tr style=\"text-align: right;\">\n",
       "      <th></th>\n",
       "      <th>date</th>\n",
       "      <th>group</th>\n",
       "      <th>visitors</th>\n",
       "    </tr>\n",
       "  </thead>\n",
       "  <tbody>\n",
       "    <tr>\n",
       "      <th>0</th>\n",
       "      <td>2019-08-01</td>\n",
       "      <td>A</td>\n",
       "      <td>719</td>\n",
       "    </tr>\n",
       "    <tr>\n",
       "      <th>1</th>\n",
       "      <td>2019-08-02</td>\n",
       "      <td>A</td>\n",
       "      <td>619</td>\n",
       "    </tr>\n",
       "    <tr>\n",
       "      <th>2</th>\n",
       "      <td>2019-08-03</td>\n",
       "      <td>A</td>\n",
       "      <td>507</td>\n",
       "    </tr>\n",
       "    <tr>\n",
       "      <th>3</th>\n",
       "      <td>2019-08-04</td>\n",
       "      <td>A</td>\n",
       "      <td>717</td>\n",
       "    </tr>\n",
       "    <tr>\n",
       "      <th>4</th>\n",
       "      <td>2019-08-05</td>\n",
       "      <td>A</td>\n",
       "      <td>756</td>\n",
       "    </tr>\n",
       "  </tbody>\n",
       "</table>\n",
       "</div>"
      ],
      "text/plain": [
       "         date group  visitors\n",
       "0  2019-08-01     A       719\n",
       "1  2019-08-02     A       619\n",
       "2  2019-08-03     A       507\n",
       "3  2019-08-04     A       717\n",
       "4  2019-08-05     A       756"
      ]
     },
     "execution_count": 7,
     "metadata": {},
     "output_type": "execute_result"
    }
   ],
   "source": [
    "visitors.head()"
   ]
  },
  {
   "cell_type": "markdown",
   "id": "8ea8ea02",
   "metadata": {},
   "source": [
    "Проверим общую информацию:"
   ]
  },
  {
   "cell_type": "code",
   "execution_count": 8,
   "id": "e927416e",
   "metadata": {
    "scrolled": true
   },
   "outputs": [
    {
     "name": "stdout",
     "output_type": "stream",
     "text": [
      "<class 'pandas.core.frame.DataFrame'>\n",
      "RangeIndex: 9 entries, 0 to 8\n",
      "Data columns (total 5 columns):\n",
      " #   Column      Non-Null Count  Dtype \n",
      "---  ------      --------------  ----- \n",
      " 0   hypothesis  9 non-null      object\n",
      " 1   reach       9 non-null      int64 \n",
      " 2   impact      9 non-null      int64 \n",
      " 3   confidence  9 non-null      int64 \n",
      " 4   efforts     9 non-null      int64 \n",
      "dtypes: int64(4), object(1)\n",
      "memory usage: 488.0+ bytes\n"
     ]
    }
   ],
   "source": [
    "hyp.info()"
   ]
  },
  {
   "cell_type": "code",
   "execution_count": 9,
   "id": "6935275d",
   "metadata": {
    "scrolled": false
   },
   "outputs": [
    {
     "name": "stdout",
     "output_type": "stream",
     "text": [
      "<class 'pandas.core.frame.DataFrame'>\n",
      "RangeIndex: 1197 entries, 0 to 1196\n",
      "Data columns (total 5 columns):\n",
      " #   Column    Non-Null Count  Dtype \n",
      "---  ------    --------------  ----- \n",
      " 0   order_id  1197 non-null   int64 \n",
      " 1   user_id   1197 non-null   int64 \n",
      " 2   date      1197 non-null   object\n",
      " 3   revenue   1197 non-null   int64 \n",
      " 4   group     1197 non-null   object\n",
      "dtypes: int64(3), object(2)\n",
      "memory usage: 46.9+ KB\n"
     ]
    }
   ],
   "source": [
    "orders.info()"
   ]
  },
  {
   "cell_type": "markdown",
   "id": "e14cd125",
   "metadata": {},
   "source": [
    "Видим, что дата сохранена как текст - необходимо преобразовать:"
   ]
  },
  {
   "cell_type": "code",
   "execution_count": 10,
   "id": "f0dd3805",
   "metadata": {
    "scrolled": true
   },
   "outputs": [
    {
     "name": "stdout",
     "output_type": "stream",
     "text": [
      "<class 'pandas.core.frame.DataFrame'>\n",
      "RangeIndex: 1197 entries, 0 to 1196\n",
      "Data columns (total 5 columns):\n",
      " #   Column    Non-Null Count  Dtype         \n",
      "---  ------    --------------  -----         \n",
      " 0   order_id  1197 non-null   int64         \n",
      " 1   user_id   1197 non-null   int64         \n",
      " 2   date      1197 non-null   datetime64[ns]\n",
      " 3   revenue   1197 non-null   int64         \n",
      " 4   group     1197 non-null   object        \n",
      "dtypes: datetime64[ns](1), int64(3), object(1)\n",
      "memory usage: 46.9+ KB\n"
     ]
    }
   ],
   "source": [
    "orders['date'] = orders['date'].map(lambda x: dt.datetime.strptime(x, '%Y-%m-%d'))\n",
    "orders.info()"
   ]
  },
  {
   "cell_type": "markdown",
   "id": "20ab2871",
   "metadata": {},
   "source": [
    "Теперь дата в нужном формате, ОК."
   ]
  },
  {
   "cell_type": "code",
   "execution_count": 11,
   "id": "0c06eae0",
   "metadata": {},
   "outputs": [
    {
     "data": {
      "text/plain": [
       "0"
      ]
     },
     "execution_count": 11,
     "metadata": {},
     "output_type": "execute_result"
    }
   ],
   "source": [
    "orders.duplicated().sum()"
   ]
  },
  {
   "cell_type": "markdown",
   "id": "46c45eee",
   "metadata": {},
   "source": [
    "Узнаем общее количество заказов:"
   ]
  },
  {
   "cell_type": "code",
   "execution_count": 12,
   "id": "b3618bba",
   "metadata": {},
   "outputs": [
    {
     "data": {
      "text/plain": [
       "1197"
      ]
     },
     "execution_count": 12,
     "metadata": {},
     "output_type": "execute_result"
    }
   ],
   "source": [
    "orders['order_id'].nunique()"
   ]
  },
  {
   "cell_type": "markdown",
   "id": "2527f96a",
   "metadata": {},
   "source": [
    "Узнаем общее количество пользователей:"
   ]
  },
  {
   "cell_type": "code",
   "execution_count": 13,
   "id": "db0ed80b",
   "metadata": {},
   "outputs": [
    {
     "data": {
      "text/plain": [
       "1031"
      ]
     },
     "execution_count": 13,
     "metadata": {},
     "output_type": "execute_result"
    }
   ],
   "source": [
    "orders['user_id'].nunique()"
   ]
  },
  {
   "cell_type": "markdown",
   "id": "27abb5df",
   "metadata": {},
   "source": [
    "Проверим минимальную и максимальную даты:"
   ]
  },
  {
   "cell_type": "code",
   "execution_count": 14,
   "id": "6cd0a224",
   "metadata": {},
   "outputs": [
    {
     "name": "stdout",
     "output_type": "stream",
     "text": [
      "Минимальная дата заказа: 2019-08-01 00:00:00\n",
      "Максимальная дата заказа: 2019-08-31 00:00:00\n"
     ]
    }
   ],
   "source": [
    "print('Минимальная дата заказа:', orders['date'].min())\n",
    "print('Максимальная дата заказа:', orders['date'].max())"
   ]
  },
  {
   "cell_type": "code",
   "execution_count": 15,
   "id": "1f9bb69d",
   "metadata": {
    "scrolled": true
   },
   "outputs": [
    {
     "name": "stdout",
     "output_type": "stream",
     "text": [
      "<class 'pandas.core.frame.DataFrame'>\n",
      "RangeIndex: 62 entries, 0 to 61\n",
      "Data columns (total 3 columns):\n",
      " #   Column    Non-Null Count  Dtype \n",
      "---  ------    --------------  ----- \n",
      " 0   date      62 non-null     object\n",
      " 1   group     62 non-null     object\n",
      " 2   visitors  62 non-null     int64 \n",
      "dtypes: int64(1), object(2)\n",
      "memory usage: 1.6+ KB\n"
     ]
    }
   ],
   "source": [
    "visitors.info()"
   ]
  },
  {
   "cell_type": "markdown",
   "id": "7402044d",
   "metadata": {},
   "source": [
    "Видим, что здесь тоже дата сохранена как текст - тоже выполним преобразование:"
   ]
  },
  {
   "cell_type": "code",
   "execution_count": 16,
   "id": "76568de5",
   "metadata": {},
   "outputs": [
    {
     "name": "stdout",
     "output_type": "stream",
     "text": [
      "<class 'pandas.core.frame.DataFrame'>\n",
      "RangeIndex: 62 entries, 0 to 61\n",
      "Data columns (total 3 columns):\n",
      " #   Column    Non-Null Count  Dtype         \n",
      "---  ------    --------------  -----         \n",
      " 0   date      62 non-null     datetime64[ns]\n",
      " 1   group     62 non-null     object        \n",
      " 2   visitors  62 non-null     int64         \n",
      "dtypes: datetime64[ns](1), int64(1), object(1)\n",
      "memory usage: 1.6+ KB\n"
     ]
    }
   ],
   "source": [
    "visitors['date'] = visitors['date'].map(lambda x: dt.datetime.strptime(x, '%Y-%m-%d'))\n",
    "visitors.info()"
   ]
  },
  {
   "cell_type": "code",
   "execution_count": 17,
   "id": "a0ae8f01",
   "metadata": {},
   "outputs": [
    {
     "data": {
      "text/plain": [
       "0"
      ]
     },
     "execution_count": 17,
     "metadata": {},
     "output_type": "execute_result"
    }
   ],
   "source": [
    "visitors.duplicated().sum()"
   ]
  },
  {
   "cell_type": "code",
   "execution_count": 18,
   "id": "c502655f",
   "metadata": {},
   "outputs": [
    {
     "name": "stdout",
     "output_type": "stream",
     "text": [
      "Дата начала теста: 2019-08-01 00:00:00\n",
      "Последняя дата теста: 2019-08-31 00:00:00\n"
     ]
    }
   ],
   "source": [
    "print('Дата начала теста:', visitors['date'].min())\n",
    "print('Последняя дата теста:', visitors['date'].max())"
   ]
  },
  {
   "cell_type": "markdown",
   "id": "1bf11f90",
   "metadata": {},
   "source": [
    "### Результат загрузки данных.\n",
    "\n",
    "Данные загружены в датафреймы:\n",
    "* `hyp` - данные по гипотезам. Пропусков нет. Содержит записи о 9 гипотезах.\n",
    "* `orders` - данные по заказам. Пропусков нет. Содержит 1197 записей, дубликатов нет. Уникальных транзакций - 1197, уникальных пользователей - 1031. Минимальная дата заказа: 2019-08-01. Максимальная дата заказа: 2019-08-31\n",
    "* `visitors` - данные по датам и количеству пользователей. Пропусков нет, дубликатов нет. Содержит данные за период с 01.08.2019 по 31.08.2019 - полный календарный месяц. Период полностью совпадает с периодом предыдущего датафрейма.\n",
    "\n",
    "В датафрейме `orders` переименованы два столбца для улучшения восприятия. В датафреймах `orders`и `visitors`дата из формата `object` приведена к формату `datetime64`."
   ]
  },
  {
   "cell_type": "markdown",
   "id": "768403a0",
   "metadata": {},
   "source": [
    "## Часть 1. Приоритизация гипотез."
   ]
  },
  {
   "cell_type": "markdown",
   "id": "896e4794",
   "metadata": {},
   "source": [
    "Выведем гипотезы на экран:"
   ]
  },
  {
   "cell_type": "code",
   "execution_count": 19,
   "id": "a96e9497",
   "metadata": {
    "scrolled": true
   },
   "outputs": [
    {
     "data": {
      "text/html": [
       "<div>\n",
       "<style scoped>\n",
       "    .dataframe tbody tr th:only-of-type {\n",
       "        vertical-align: middle;\n",
       "    }\n",
       "\n",
       "    .dataframe tbody tr th {\n",
       "        vertical-align: top;\n",
       "    }\n",
       "\n",
       "    .dataframe thead th {\n",
       "        text-align: right;\n",
       "    }\n",
       "</style>\n",
       "<table border=\"1\" class=\"dataframe\">\n",
       "  <thead>\n",
       "    <tr style=\"text-align: right;\">\n",
       "      <th></th>\n",
       "      <th>hypothesis</th>\n",
       "      <th>reach</th>\n",
       "      <th>impact</th>\n",
       "      <th>confidence</th>\n",
       "      <th>efforts</th>\n",
       "    </tr>\n",
       "  </thead>\n",
       "  <tbody>\n",
       "    <tr>\n",
       "      <th>0</th>\n",
       "      <td>Добавить два новых канала привлечения трафика, что позволит привлекать на 30% больше пользователей</td>\n",
       "      <td>3</td>\n",
       "      <td>10</td>\n",
       "      <td>8</td>\n",
       "      <td>6</td>\n",
       "    </tr>\n",
       "    <tr>\n",
       "      <th>1</th>\n",
       "      <td>Запустить собственную службу доставки, что сократит срок доставки заказов</td>\n",
       "      <td>2</td>\n",
       "      <td>5</td>\n",
       "      <td>4</td>\n",
       "      <td>10</td>\n",
       "    </tr>\n",
       "    <tr>\n",
       "      <th>2</th>\n",
       "      <td>Добавить блоки рекомендаций товаров на сайт интернет магазина, чтобы повысить конверсию и средний чек заказа</td>\n",
       "      <td>8</td>\n",
       "      <td>3</td>\n",
       "      <td>7</td>\n",
       "      <td>3</td>\n",
       "    </tr>\n",
       "    <tr>\n",
       "      <th>3</th>\n",
       "      <td>Изменить структура категорий, что увеличит конверсию, т.к. пользователи быстрее найдут нужный товар</td>\n",
       "      <td>8</td>\n",
       "      <td>3</td>\n",
       "      <td>3</td>\n",
       "      <td>8</td>\n",
       "    </tr>\n",
       "    <tr>\n",
       "      <th>4</th>\n",
       "      <td>Изменить цвет фона главной страницы, чтобы увеличить вовлеченность пользователей</td>\n",
       "      <td>3</td>\n",
       "      <td>1</td>\n",
       "      <td>1</td>\n",
       "      <td>1</td>\n",
       "    </tr>\n",
       "    <tr>\n",
       "      <th>5</th>\n",
       "      <td>Добавить страницу отзывов клиентов о магазине, что позволит увеличить количество заказов</td>\n",
       "      <td>3</td>\n",
       "      <td>2</td>\n",
       "      <td>2</td>\n",
       "      <td>3</td>\n",
       "    </tr>\n",
       "    <tr>\n",
       "      <th>6</th>\n",
       "      <td>Показать на главной странице баннеры с актуальными акциями и распродажами, чтобы увеличить конверсию</td>\n",
       "      <td>5</td>\n",
       "      <td>3</td>\n",
       "      <td>8</td>\n",
       "      <td>3</td>\n",
       "    </tr>\n",
       "    <tr>\n",
       "      <th>7</th>\n",
       "      <td>Добавить форму подписки на все основные страницы, чтобы собрать базу клиентов для email-рассылок</td>\n",
       "      <td>10</td>\n",
       "      <td>7</td>\n",
       "      <td>8</td>\n",
       "      <td>5</td>\n",
       "    </tr>\n",
       "    <tr>\n",
       "      <th>8</th>\n",
       "      <td>Запустить акцию, дающую скидку на товар в день рождения</td>\n",
       "      <td>1</td>\n",
       "      <td>9</td>\n",
       "      <td>9</td>\n",
       "      <td>5</td>\n",
       "    </tr>\n",
       "  </tbody>\n",
       "</table>\n",
       "</div>"
      ],
      "text/plain": [
       "                                                                                                     hypothesis  \\\n",
       "0            Добавить два новых канала привлечения трафика, что позволит привлекать на 30% больше пользователей   \n",
       "1                                     Запустить собственную службу доставки, что сократит срок доставки заказов   \n",
       "2  Добавить блоки рекомендаций товаров на сайт интернет магазина, чтобы повысить конверсию и средний чек заказа   \n",
       "3           Изменить структура категорий, что увеличит конверсию, т.к. пользователи быстрее найдут нужный товар   \n",
       "4                              Изменить цвет фона главной страницы, чтобы увеличить вовлеченность пользователей   \n",
       "5                      Добавить страницу отзывов клиентов о магазине, что позволит увеличить количество заказов   \n",
       "6          Показать на главной странице баннеры с актуальными акциями и распродажами, чтобы увеличить конверсию   \n",
       "7              Добавить форму подписки на все основные страницы, чтобы собрать базу клиентов для email-рассылок   \n",
       "8                                                       Запустить акцию, дающую скидку на товар в день рождения   \n",
       "\n",
       "   reach  impact  confidence  efforts  \n",
       "0      3      10           8        6  \n",
       "1      2       5           4       10  \n",
       "2      8       3           7        3  \n",
       "3      8       3           3        8  \n",
       "4      3       1           1        1  \n",
       "5      3       2           2        3  \n",
       "6      5       3           8        3  \n",
       "7     10       7           8        5  \n",
       "8      1       9           9        5  "
      ]
     },
     "execution_count": 19,
     "metadata": {},
     "output_type": "execute_result"
    }
   ],
   "source": [
    "pd.set_option('display.max_colwidth', 150)\n",
    "hyp"
   ]
  },
  {
   "cell_type": "markdown",
   "id": "55fcdc4f",
   "metadata": {},
   "source": [
    "#### ICE. Применение фреймворка."
   ]
  },
  {
   "cell_type": "code",
   "execution_count": 20,
   "id": "3261ed79",
   "metadata": {
    "scrolled": true
   },
   "outputs": [
    {
     "data": {
      "text/html": [
       "<style  type=\"text/css\" >\n",
       "</style><table id=\"T_774eb_\" ><thead>    <tr>        <th class=\"blank level0\" ></th>        <th class=\"col_heading level0 col0\" >hypothesis</th>        <th class=\"col_heading level0 col1\" >ice</th>    </tr></thead><tbody>\n",
       "                <tr>\n",
       "                        <th id=\"T_774eb_level0_row0\" class=\"row_heading level0 row0\" >8</th>\n",
       "                        <td id=\"T_774eb_row0_col0\" class=\"data row0 col0\" >Запустить акцию, дающую скидку на товар в день рождения</td>\n",
       "                        <td id=\"T_774eb_row0_col1\" class=\"data row0 col1\" >16.20</td>\n",
       "            </tr>\n",
       "            <tr>\n",
       "                        <th id=\"T_774eb_level0_row1\" class=\"row_heading level0 row1\" >0</th>\n",
       "                        <td id=\"T_774eb_row1_col0\" class=\"data row1 col0\" >Добавить два новых канала привлечения трафика, что позволит привлекать на 30% больше пользователей</td>\n",
       "                        <td id=\"T_774eb_row1_col1\" class=\"data row1 col1\" >13.33</td>\n",
       "            </tr>\n",
       "            <tr>\n",
       "                        <th id=\"T_774eb_level0_row2\" class=\"row_heading level0 row2\" >7</th>\n",
       "                        <td id=\"T_774eb_row2_col0\" class=\"data row2 col0\" >Добавить форму подписки на все основные страницы, чтобы собрать базу клиентов для email-рассылок</td>\n",
       "                        <td id=\"T_774eb_row2_col1\" class=\"data row2 col1\" >11.20</td>\n",
       "            </tr>\n",
       "            <tr>\n",
       "                        <th id=\"T_774eb_level0_row3\" class=\"row_heading level0 row3\" >6</th>\n",
       "                        <td id=\"T_774eb_row3_col0\" class=\"data row3 col0\" >Показать на главной странице баннеры с актуальными акциями и распродажами, чтобы увеличить конверсию</td>\n",
       "                        <td id=\"T_774eb_row3_col1\" class=\"data row3 col1\" >8.00</td>\n",
       "            </tr>\n",
       "            <tr>\n",
       "                        <th id=\"T_774eb_level0_row4\" class=\"row_heading level0 row4\" >2</th>\n",
       "                        <td id=\"T_774eb_row4_col0\" class=\"data row4 col0\" >Добавить блоки рекомендаций товаров на сайт интернет магазина, чтобы повысить конверсию и средний чек заказа</td>\n",
       "                        <td id=\"T_774eb_row4_col1\" class=\"data row4 col1\" >7.00</td>\n",
       "            </tr>\n",
       "            <tr>\n",
       "                        <th id=\"T_774eb_level0_row5\" class=\"row_heading level0 row5\" >1</th>\n",
       "                        <td id=\"T_774eb_row5_col0\" class=\"data row5 col0\" >Запустить собственную службу доставки, что сократит срок доставки заказов</td>\n",
       "                        <td id=\"T_774eb_row5_col1\" class=\"data row5 col1\" >2.00</td>\n",
       "            </tr>\n",
       "            <tr>\n",
       "                        <th id=\"T_774eb_level0_row6\" class=\"row_heading level0 row6\" >5</th>\n",
       "                        <td id=\"T_774eb_row6_col0\" class=\"data row6 col0\" >Добавить страницу отзывов клиентов о магазине, что позволит увеличить количество заказов</td>\n",
       "                        <td id=\"T_774eb_row6_col1\" class=\"data row6 col1\" >1.33</td>\n",
       "            </tr>\n",
       "            <tr>\n",
       "                        <th id=\"T_774eb_level0_row7\" class=\"row_heading level0 row7\" >3</th>\n",
       "                        <td id=\"T_774eb_row7_col0\" class=\"data row7 col0\" >Изменить структура категорий, что увеличит конверсию, т.к. пользователи быстрее найдут нужный товар</td>\n",
       "                        <td id=\"T_774eb_row7_col1\" class=\"data row7 col1\" >1.12</td>\n",
       "            </tr>\n",
       "            <tr>\n",
       "                        <th id=\"T_774eb_level0_row8\" class=\"row_heading level0 row8\" >4</th>\n",
       "                        <td id=\"T_774eb_row8_col0\" class=\"data row8 col0\" >Изменить цвет фона главной страницы, чтобы увеличить вовлеченность пользователей</td>\n",
       "                        <td id=\"T_774eb_row8_col1\" class=\"data row8 col1\" >1.00</td>\n",
       "            </tr>\n",
       "    </tbody></table>"
      ],
      "text/plain": [
       "<pandas.io.formats.style.Styler at 0x7fa68139e9a0>"
      ]
     },
     "execution_count": 20,
     "metadata": {},
     "output_type": "execute_result"
    }
   ],
   "source": [
    "hyp['ice'] = hyp['impact'] * hyp['confidence'] / hyp['efforts']\n",
    "hyp[['hypothesis', 'ice']].sort_values(by='ice', ascending=False).style.format({'ice' : '{:.2f}'})"
   ]
  },
  {
   "cell_type": "markdown",
   "id": "690f1094",
   "metadata": {},
   "source": [
    "Самый высокий ICE-рейтинг у гипотезы под номером 8: \n",
    "\n",
    "\"Запустить акцию, дающую скидку на товар в день рождения\"."
   ]
  },
  {
   "cell_type": "markdown",
   "id": "6dd4f467",
   "metadata": {},
   "source": [
    "#### RICE. Применение фреймворка."
   ]
  },
  {
   "cell_type": "code",
   "execution_count": 21,
   "id": "9b46d8d1",
   "metadata": {
    "scrolled": true
   },
   "outputs": [
    {
     "data": {
      "text/html": [
       "<style  type=\"text/css\" >\n",
       "</style><table id=\"T_a7c31_\" ><thead>    <tr>        <th class=\"blank level0\" ></th>        <th class=\"col_heading level0 col0\" >hypothesis</th>        <th class=\"col_heading level0 col1\" >rice</th>    </tr></thead><tbody>\n",
       "                <tr>\n",
       "                        <th id=\"T_a7c31_level0_row0\" class=\"row_heading level0 row0\" >7</th>\n",
       "                        <td id=\"T_a7c31_row0_col0\" class=\"data row0 col0\" >Добавить форму подписки на все основные страницы, чтобы собрать базу клиентов для email-рассылок</td>\n",
       "                        <td id=\"T_a7c31_row0_col1\" class=\"data row0 col1\" >112.00</td>\n",
       "            </tr>\n",
       "            <tr>\n",
       "                        <th id=\"T_a7c31_level0_row1\" class=\"row_heading level0 row1\" >2</th>\n",
       "                        <td id=\"T_a7c31_row1_col0\" class=\"data row1 col0\" >Добавить блоки рекомендаций товаров на сайт интернет магазина, чтобы повысить конверсию и средний чек заказа</td>\n",
       "                        <td id=\"T_a7c31_row1_col1\" class=\"data row1 col1\" >56.00</td>\n",
       "            </tr>\n",
       "            <tr>\n",
       "                        <th id=\"T_a7c31_level0_row2\" class=\"row_heading level0 row2\" >0</th>\n",
       "                        <td id=\"T_a7c31_row2_col0\" class=\"data row2 col0\" >Добавить два новых канала привлечения трафика, что позволит привлекать на 30% больше пользователей</td>\n",
       "                        <td id=\"T_a7c31_row2_col1\" class=\"data row2 col1\" >40.00</td>\n",
       "            </tr>\n",
       "            <tr>\n",
       "                        <th id=\"T_a7c31_level0_row3\" class=\"row_heading level0 row3\" >6</th>\n",
       "                        <td id=\"T_a7c31_row3_col0\" class=\"data row3 col0\" >Показать на главной странице баннеры с актуальными акциями и распродажами, чтобы увеличить конверсию</td>\n",
       "                        <td id=\"T_a7c31_row3_col1\" class=\"data row3 col1\" >40.00</td>\n",
       "            </tr>\n",
       "            <tr>\n",
       "                        <th id=\"T_a7c31_level0_row4\" class=\"row_heading level0 row4\" >8</th>\n",
       "                        <td id=\"T_a7c31_row4_col0\" class=\"data row4 col0\" >Запустить акцию, дающую скидку на товар в день рождения</td>\n",
       "                        <td id=\"T_a7c31_row4_col1\" class=\"data row4 col1\" >16.20</td>\n",
       "            </tr>\n",
       "            <tr>\n",
       "                        <th id=\"T_a7c31_level0_row5\" class=\"row_heading level0 row5\" >3</th>\n",
       "                        <td id=\"T_a7c31_row5_col0\" class=\"data row5 col0\" >Изменить структура категорий, что увеличит конверсию, т.к. пользователи быстрее найдут нужный товар</td>\n",
       "                        <td id=\"T_a7c31_row5_col1\" class=\"data row5 col1\" >9.00</td>\n",
       "            </tr>\n",
       "            <tr>\n",
       "                        <th id=\"T_a7c31_level0_row6\" class=\"row_heading level0 row6\" >1</th>\n",
       "                        <td id=\"T_a7c31_row6_col0\" class=\"data row6 col0\" >Запустить собственную службу доставки, что сократит срок доставки заказов</td>\n",
       "                        <td id=\"T_a7c31_row6_col1\" class=\"data row6 col1\" >4.00</td>\n",
       "            </tr>\n",
       "            <tr>\n",
       "                        <th id=\"T_a7c31_level0_row7\" class=\"row_heading level0 row7\" >5</th>\n",
       "                        <td id=\"T_a7c31_row7_col0\" class=\"data row7 col0\" >Добавить страницу отзывов клиентов о магазине, что позволит увеличить количество заказов</td>\n",
       "                        <td id=\"T_a7c31_row7_col1\" class=\"data row7 col1\" >4.00</td>\n",
       "            </tr>\n",
       "            <tr>\n",
       "                        <th id=\"T_a7c31_level0_row8\" class=\"row_heading level0 row8\" >4</th>\n",
       "                        <td id=\"T_a7c31_row8_col0\" class=\"data row8 col0\" >Изменить цвет фона главной страницы, чтобы увеличить вовлеченность пользователей</td>\n",
       "                        <td id=\"T_a7c31_row8_col1\" class=\"data row8 col1\" >3.00</td>\n",
       "            </tr>\n",
       "    </tbody></table>"
      ],
      "text/plain": [
       "<pandas.io.formats.style.Styler at 0x7fa6813efa60>"
      ]
     },
     "execution_count": 21,
     "metadata": {},
     "output_type": "execute_result"
    }
   ],
   "source": [
    "hyp['rice'] = hyp[['reach','impact','confidence']].prod(axis=1) / hyp['efforts']\n",
    "hyp[['hypothesis', 'rice']].sort_values(by='rice', ascending=False).style.format({'rice' : '{:.2f}'})"
   ]
  },
  {
   "cell_type": "markdown",
   "id": "8ff786e3",
   "metadata": {},
   "source": [
    "Самый высокий RICE-рейтинг у гипотезы под номером 7:\n",
    "\n",
    "\"Добавить форму подписки на все основные страницы, чтобы собрать базу клиентов для email-рассылок\"."
   ]
  },
  {
   "cell_type": "markdown",
   "id": "05d7df41",
   "metadata": {},
   "source": [
    "#### Вывод: Приоритизация гипотез."
   ]
  },
  {
   "cell_type": "markdown",
   "id": "42c89840",
   "metadata": {},
   "source": [
    "Различные методики дают различные результаты, что, в принципе, нормально. Конкретно в нашем случае ICE является упрощенной моделью RICE, которая учитывает 3 параметра вместо 4х.\n",
    "\n",
    "Самый высокий ICE-рейтинг у гипотезы под номером 8: \"Запустить акцию, дающую скидку на товар в день рождения\".\n",
    "\n",
    "Самый высокий RICE-рейтинг у гипотезы под номером 7: \"Добавить форму подписки на все основные страницы, чтобы собрать базу клиентов для email-рассылок\".\n",
    "\n",
    "Для нас предпочтительнее метод RICE - охват, параметр, отсутствующий в ICE, весьма важен, чтобы его игнорировать. Особенно при условии, что мы распологаем полным набором данных и для расчета RICE, и для расчета усеченного варианта - ICE.\n",
    "\n",
    "Для проверки выбираем гипотезу:\n",
    "\n",
    "**\"Добавить форму подписки на все основные страницы, чтобы собрать базу клиентов для email-рассылок\".**"
   ]
  },
  {
   "cell_type": "markdown",
   "id": "35a3dc45",
   "metadata": {},
   "source": [
    "## Часть 2. Анализ A/B-теста"
   ]
  },
  {
   "cell_type": "markdown",
   "id": "5fae236b",
   "metadata": {},
   "source": [
    "Подготовим общие данные:"
   ]
  },
  {
   "cell_type": "code",
   "execution_count": 22,
   "id": "9e32f700",
   "metadata": {
    "scrolled": true
   },
   "outputs": [
    {
     "data": {
      "text/html": [
       "<div>\n",
       "<style scoped>\n",
       "    .dataframe tbody tr th:only-of-type {\n",
       "        vertical-align: middle;\n",
       "    }\n",
       "\n",
       "    .dataframe tbody tr th {\n",
       "        vertical-align: top;\n",
       "    }\n",
       "\n",
       "    .dataframe thead th {\n",
       "        text-align: right;\n",
       "    }\n",
       "</style>\n",
       "<table border=\"1\" class=\"dataframe\">\n",
       "  <thead>\n",
       "    <tr style=\"text-align: right;\">\n",
       "      <th></th>\n",
       "      <th>date</th>\n",
       "      <th>group</th>\n",
       "      <th>order_id</th>\n",
       "      <th>user_id</th>\n",
       "      <th>revenue</th>\n",
       "    </tr>\n",
       "  </thead>\n",
       "  <tbody>\n",
       "    <tr>\n",
       "      <th>55</th>\n",
       "      <td>2019-08-01</td>\n",
       "      <td>A</td>\n",
       "      <td>24</td>\n",
       "      <td>20</td>\n",
       "      <td>148579</td>\n",
       "    </tr>\n",
       "    <tr>\n",
       "      <th>66</th>\n",
       "      <td>2019-08-01</td>\n",
       "      <td>B</td>\n",
       "      <td>21</td>\n",
       "      <td>20</td>\n",
       "      <td>101217</td>\n",
       "    </tr>\n",
       "    <tr>\n",
       "      <th>175</th>\n",
       "      <td>2019-08-02</td>\n",
       "      <td>A</td>\n",
       "      <td>44</td>\n",
       "      <td>38</td>\n",
       "      <td>242401</td>\n",
       "    </tr>\n",
       "    <tr>\n",
       "      <th>173</th>\n",
       "      <td>2019-08-02</td>\n",
       "      <td>B</td>\n",
       "      <td>45</td>\n",
       "      <td>43</td>\n",
       "      <td>266748</td>\n",
       "    </tr>\n",
       "    <tr>\n",
       "      <th>291</th>\n",
       "      <td>2019-08-03</td>\n",
       "      <td>A</td>\n",
       "      <td>68</td>\n",
       "      <td>62</td>\n",
       "      <td>354874</td>\n",
       "    </tr>\n",
       "  </tbody>\n",
       "</table>\n",
       "</div>"
      ],
      "text/plain": [
       "          date group  order_id  user_id  revenue\n",
       "55  2019-08-01     A        24       20   148579\n",
       "66  2019-08-01     B        21       20   101217\n",
       "175 2019-08-02     A        44       38   242401\n",
       "173 2019-08-02     B        45       43   266748\n",
       "291 2019-08-03     A        68       62   354874"
      ]
     },
     "execution_count": 22,
     "metadata": {},
     "output_type": "execute_result"
    }
   ],
   "source": [
    "# сгруппируем данные о заказах по дате и группе, уберем дубликаты\n",
    "datesGroups = orders[['date', 'group']].drop_duplicates()\n",
    "\n",
    "# соберем кумулятивные данные в один датафрейм\n",
    "ordersAggregated = datesGroups.apply(\n",
    "    lambda x: orders[\n",
    "        np.logical_and(\n",
    "            orders['date'] <= x['date'], orders['group'] == x['group']\n",
    "        )\n",
    "    ].agg(\n",
    "        {\n",
    "            'date': 'max',\n",
    "            'group': 'max',\n",
    "            'order_id': 'nunique',\n",
    "            'user_id': 'nunique',\n",
    "            'revenue': 'sum',\n",
    "        }\n",
    "    ),\n",
    "    axis=1,\n",
    ").sort_values(by=['date', 'group'])\n",
    "\n",
    "ordersAggregated.head()"
   ]
  },
  {
   "cell_type": "markdown",
   "id": "8e40b497",
   "metadata": {},
   "source": [
    "Часть данных готова. Названия двух столбцов - `order_id` и `user_id` - теперь не отражают суть находящихся в них данных. Просто имеем это ввиду, переименуем их в итоговом датафрейме чуть позже."
   ]
  },
  {
   "cell_type": "code",
   "execution_count": 23,
   "id": "9b99b85c",
   "metadata": {
    "scrolled": true
   },
   "outputs": [
    {
     "data": {
      "text/html": [
       "<div>\n",
       "<style scoped>\n",
       "    .dataframe tbody tr th:only-of-type {\n",
       "        vertical-align: middle;\n",
       "    }\n",
       "\n",
       "    .dataframe tbody tr th {\n",
       "        vertical-align: top;\n",
       "    }\n",
       "\n",
       "    .dataframe thead th {\n",
       "        text-align: right;\n",
       "    }\n",
       "</style>\n",
       "<table border=\"1\" class=\"dataframe\">\n",
       "  <thead>\n",
       "    <tr style=\"text-align: right;\">\n",
       "      <th></th>\n",
       "      <th>date</th>\n",
       "      <th>group</th>\n",
       "      <th>visitors</th>\n",
       "    </tr>\n",
       "  </thead>\n",
       "  <tbody>\n",
       "    <tr>\n",
       "      <th>55</th>\n",
       "      <td>2019-08-01</td>\n",
       "      <td>A</td>\n",
       "      <td>719</td>\n",
       "    </tr>\n",
       "    <tr>\n",
       "      <th>66</th>\n",
       "      <td>2019-08-01</td>\n",
       "      <td>B</td>\n",
       "      <td>713</td>\n",
       "    </tr>\n",
       "    <tr>\n",
       "      <th>175</th>\n",
       "      <td>2019-08-02</td>\n",
       "      <td>A</td>\n",
       "      <td>1338</td>\n",
       "    </tr>\n",
       "    <tr>\n",
       "      <th>173</th>\n",
       "      <td>2019-08-02</td>\n",
       "      <td>B</td>\n",
       "      <td>1294</td>\n",
       "    </tr>\n",
       "    <tr>\n",
       "      <th>291</th>\n",
       "      <td>2019-08-03</td>\n",
       "      <td>A</td>\n",
       "      <td>1845</td>\n",
       "    </tr>\n",
       "  </tbody>\n",
       "</table>\n",
       "</div>"
      ],
      "text/plain": [
       "          date group  visitors\n",
       "55  2019-08-01     A       719\n",
       "66  2019-08-01     B       713\n",
       "175 2019-08-02     A      1338\n",
       "173 2019-08-02     B      1294\n",
       "291 2019-08-03     A      1845"
      ]
     },
     "execution_count": 23,
     "metadata": {},
     "output_type": "execute_result"
    }
   ],
   "source": [
    "# подготовим кумулятивные данные по датам, группам и посетителям:\n",
    "visitorsAggregated = datesGroups.apply(\n",
    "    lambda x: visitors[\n",
    "        np.logical_and(\n",
    "            visitors['date'] <= x['date'], visitors['group'] == x['group']\n",
    "        )\n",
    "    ].agg({'date': 'max', 'group': 'max', 'visitors': 'sum'}),\n",
    "    axis=1,\n",
    ").sort_values(by=['date', 'group'])\n",
    "\n",
    "visitorsAggregated.head()"
   ]
  },
  {
   "cell_type": "code",
   "execution_count": 24,
   "id": "395a7ca7",
   "metadata": {
    "scrolled": true
   },
   "outputs": [
    {
     "data": {
      "text/html": [
       "<div>\n",
       "<style scoped>\n",
       "    .dataframe tbody tr th:only-of-type {\n",
       "        vertical-align: middle;\n",
       "    }\n",
       "\n",
       "    .dataframe tbody tr th {\n",
       "        vertical-align: top;\n",
       "    }\n",
       "\n",
       "    .dataframe thead th {\n",
       "        text-align: right;\n",
       "    }\n",
       "</style>\n",
       "<table border=\"1\" class=\"dataframe\">\n",
       "  <thead>\n",
       "    <tr style=\"text-align: right;\">\n",
       "      <th></th>\n",
       "      <th>date</th>\n",
       "      <th>group</th>\n",
       "      <th>orders</th>\n",
       "      <th>buyers</th>\n",
       "      <th>revenue</th>\n",
       "      <th>visitors</th>\n",
       "    </tr>\n",
       "  </thead>\n",
       "  <tbody>\n",
       "    <tr>\n",
       "      <th>0</th>\n",
       "      <td>2019-08-01</td>\n",
       "      <td>A</td>\n",
       "      <td>24</td>\n",
       "      <td>20</td>\n",
       "      <td>148579</td>\n",
       "      <td>719</td>\n",
       "    </tr>\n",
       "    <tr>\n",
       "      <th>1</th>\n",
       "      <td>2019-08-01</td>\n",
       "      <td>B</td>\n",
       "      <td>21</td>\n",
       "      <td>20</td>\n",
       "      <td>101217</td>\n",
       "      <td>713</td>\n",
       "    </tr>\n",
       "    <tr>\n",
       "      <th>2</th>\n",
       "      <td>2019-08-02</td>\n",
       "      <td>A</td>\n",
       "      <td>44</td>\n",
       "      <td>38</td>\n",
       "      <td>242401</td>\n",
       "      <td>1338</td>\n",
       "    </tr>\n",
       "    <tr>\n",
       "      <th>3</th>\n",
       "      <td>2019-08-02</td>\n",
       "      <td>B</td>\n",
       "      <td>45</td>\n",
       "      <td>43</td>\n",
       "      <td>266748</td>\n",
       "      <td>1294</td>\n",
       "    </tr>\n",
       "    <tr>\n",
       "      <th>4</th>\n",
       "      <td>2019-08-03</td>\n",
       "      <td>A</td>\n",
       "      <td>68</td>\n",
       "      <td>62</td>\n",
       "      <td>354874</td>\n",
       "      <td>1845</td>\n",
       "    </tr>\n",
       "  </tbody>\n",
       "</table>\n",
       "</div>"
      ],
      "text/plain": [
       "        date group  orders  buyers  revenue  visitors\n",
       "0 2019-08-01     A      24      20   148579       719\n",
       "1 2019-08-01     B      21      20   101217       713\n",
       "2 2019-08-02     A      44      38   242401      1338\n",
       "3 2019-08-02     B      45      43   266748      1294\n",
       "4 2019-08-03     A      68      62   354874      1845"
      ]
     },
     "execution_count": 24,
     "metadata": {},
     "output_type": "execute_result"
    }
   ],
   "source": [
    "# объединим данные по заказам, покупателям и посетителям в один датафрейм:\n",
    "cumulativeData = ordersAggregated.merge(\n",
    "    visitorsAggregated, left_on=['date', 'group'], right_on=['date', 'group']\n",
    ")\n",
    "# переименуем названия столбцов для соответствия хранимым в них данным:\n",
    "cumulativeData.columns = [\n",
    "    'date',\n",
    "    'group',\n",
    "    'orders',\n",
    "    'buyers',\n",
    "    'revenue',\n",
    "    'visitors',\n",
    "]\n",
    "\n",
    "cumulativeData.head()"
   ]
  },
  {
   "cell_type": "markdown",
   "id": "731b4624",
   "metadata": {},
   "source": [
    "### График кумулятивной выручки по группам. "
   ]
  },
  {
   "cell_type": "markdown",
   "id": "532311b8",
   "metadata": {},
   "source": [
    "Теперь подготовим данные по группам и построим графики:"
   ]
  },
  {
   "cell_type": "code",
   "execution_count": 25,
   "id": "cb80a1bb",
   "metadata": {},
   "outputs": [
    {
     "data": {
      "image/png": "[encoded data removed]",
      "text/plain": [
       "<Figure size 432x288 with 1 Axes>"
      ]
     },
     "metadata": {
      "needs_background": "light"
     },
     "output_type": "display_data"
    }
   ],
   "source": [
    "# датафрейм с кумулятивным количеством заказов, кумулятивным количеством посетителей \n",
    "# и кумулятивной выручкой по дням в группе А\n",
    "cumulativeDataA = cumulativeData[cumulativeData['group']=='A'][['date','revenue', 'orders', 'visitors']]\n",
    "\n",
    "# датафрейм с кумулятивным количеством заказов, кумулятивным количеством посетителей \n",
    "# и кумулятивной выручкой по дням в группе B\n",
    "cumulativeDataB = cumulativeData[cumulativeData['group']=='B'][['date','revenue', 'orders', 'visitors']]\n",
    "\n",
    "# Строим график выручки группы А\n",
    "plt.plot(cumulativeDataA['date'], cumulativeDataA['revenue'], label='Группа A')\n",
    "\n",
    "# Строим график выручки группы B\n",
    "plt.plot(cumulativeDataB['date'], cumulativeDataB['revenue'], label='Группа B')\n",
    "\n",
    "plt.xlabel('Дата')\n",
    "plt.ylabel('Кумулятивная выручка')\n",
    "plt.xticks(rotation=30)\n",
    "plt.title('Кумулятивная выручка за период')\n",
    "plt.legend();"
   ]
  },
  {
   "cell_type": "markdown",
   "id": "5c009c5f",
   "metadata": {},
   "source": [
    "На графике виден резкий скачок. Посмотрим на индекс прироста выручки:"
   ]
  },
  {
   "cell_type": "code",
   "execution_count": 26,
   "id": "5effc812",
   "metadata": {},
   "outputs": [
    {
     "data": {
      "text/html": [
       "<style  type=\"text/css\" >\n",
       "</style><table id=\"T_aa8db_\" ><thead>    <tr>        <th class=\"blank level0\" ></th>        <th class=\"col_heading level0 col0\" >date</th>        <th class=\"col_heading level0 col1\" >revenue</th>        <th class=\"col_heading level0 col2\" >revenue_ratio</th>    </tr></thead><tbody>\n",
       "                <tr>\n",
       "                        <th id=\"T_aa8db_level0_row0\" class=\"row_heading level0 row0\" >0</th>\n",
       "                        <td id=\"T_aa8db_row0_col0\" class=\"data row0 col0\" >2019-08-01 00:00:00</td>\n",
       "                        <td id=\"T_aa8db_row0_col1\" class=\"data row0 col1\" >101217</td>\n",
       "                        <td id=\"T_aa8db_row0_col2\" class=\"data row0 col2\" >nan%</td>\n",
       "            </tr>\n",
       "            <tr>\n",
       "                        <th id=\"T_aa8db_level0_row1\" class=\"row_heading level0 row1\" >1</th>\n",
       "                        <td id=\"T_aa8db_row1_col0\" class=\"data row1 col0\" >2019-08-02 00:00:00</td>\n",
       "                        <td id=\"T_aa8db_row1_col1\" class=\"data row1 col1\" >266748</td>\n",
       "                        <td id=\"T_aa8db_row1_col2\" class=\"data row1 col2\" >163.5%</td>\n",
       "            </tr>\n",
       "            <tr>\n",
       "                        <th id=\"T_aa8db_level0_row2\" class=\"row_heading level0 row2\" >2</th>\n",
       "                        <td id=\"T_aa8db_row2_col0\" class=\"data row2 col0\" >2019-08-03 00:00:00</td>\n",
       "                        <td id=\"T_aa8db_row2_col1\" class=\"data row2 col1\" >380996</td>\n",
       "                        <td id=\"T_aa8db_row2_col2\" class=\"data row2 col2\" >42.8%</td>\n",
       "            </tr>\n",
       "            <tr>\n",
       "                        <th id=\"T_aa8db_level0_row3\" class=\"row_heading level0 row3\" >3</th>\n",
       "                        <td id=\"T_aa8db_row3_col0\" class=\"data row3 col0\" >2019-08-04 00:00:00</td>\n",
       "                        <td id=\"T_aa8db_row3_col1\" class=\"data row3 col1\" >489567</td>\n",
       "                        <td id=\"T_aa8db_row3_col2\" class=\"data row3 col2\" >28.5%</td>\n",
       "            </tr>\n",
       "            <tr>\n",
       "                        <th id=\"T_aa8db_level0_row4\" class=\"row_heading level0 row4\" >4</th>\n",
       "                        <td id=\"T_aa8db_row4_col0\" class=\"data row4 col0\" >2019-08-05 00:00:00</td>\n",
       "                        <td id=\"T_aa8db_row4_col1\" class=\"data row4 col1\" >581995</td>\n",
       "                        <td id=\"T_aa8db_row4_col2\" class=\"data row4 col2\" >18.9%</td>\n",
       "            </tr>\n",
       "            <tr>\n",
       "                        <th id=\"T_aa8db_level0_row5\" class=\"row_heading level0 row5\" >5</th>\n",
       "                        <td id=\"T_aa8db_row5_col0\" class=\"data row5 col0\" >2019-08-06 00:00:00</td>\n",
       "                        <td id=\"T_aa8db_row5_col1\" class=\"data row5 col1\" >824337</td>\n",
       "                        <td id=\"T_aa8db_row5_col2\" class=\"data row5 col2\" >41.6%</td>\n",
       "            </tr>\n",
       "            <tr>\n",
       "                        <th id=\"T_aa8db_level0_row6\" class=\"row_heading level0 row6\" >6</th>\n",
       "                        <td id=\"T_aa8db_row6_col0\" class=\"data row6 col0\" >2019-08-07 00:00:00</td>\n",
       "                        <td id=\"T_aa8db_row6_col1\" class=\"data row6 col1\" >1049671</td>\n",
       "                        <td id=\"T_aa8db_row6_col2\" class=\"data row6 col2\" >27.3%</td>\n",
       "            </tr>\n",
       "            <tr>\n",
       "                        <th id=\"T_aa8db_level0_row7\" class=\"row_heading level0 row7\" >7</th>\n",
       "                        <td id=\"T_aa8db_row7_col0\" class=\"data row7 col0\" >2019-08-08 00:00:00</td>\n",
       "                        <td id=\"T_aa8db_row7_col1\" class=\"data row7 col1\" >1270589</td>\n",
       "                        <td id=\"T_aa8db_row7_col2\" class=\"data row7 col2\" >21.0%</td>\n",
       "            </tr>\n",
       "            <tr>\n",
       "                        <th id=\"T_aa8db_level0_row8\" class=\"row_heading level0 row8\" >8</th>\n",
       "                        <td id=\"T_aa8db_row8_col0\" class=\"data row8 col0\" >2019-08-09 00:00:00</td>\n",
       "                        <td id=\"T_aa8db_row8_col1\" class=\"data row8 col1\" >1431401</td>\n",
       "                        <td id=\"T_aa8db_row8_col2\" class=\"data row8 col2\" >12.7%</td>\n",
       "            </tr>\n",
       "            <tr>\n",
       "                        <th id=\"T_aa8db_level0_row9\" class=\"row_heading level0 row9\" >9</th>\n",
       "                        <td id=\"T_aa8db_row9_col0\" class=\"data row9 col0\" >2019-08-10 00:00:00</td>\n",
       "                        <td id=\"T_aa8db_row9_col1\" class=\"data row9 col1\" >1539203</td>\n",
       "                        <td id=\"T_aa8db_row9_col2\" class=\"data row9 col2\" >7.5%</td>\n",
       "            </tr>\n",
       "            <tr>\n",
       "                        <th id=\"T_aa8db_level0_row10\" class=\"row_heading level0 row10\" >10</th>\n",
       "                        <td id=\"T_aa8db_row10_col0\" class=\"data row10 col0\" >2019-08-11 00:00:00</td>\n",
       "                        <td id=\"T_aa8db_row10_col1\" class=\"data row10 col1\" >1592513</td>\n",
       "                        <td id=\"T_aa8db_row10_col2\" class=\"data row10 col2\" >3.5%</td>\n",
       "            </tr>\n",
       "            <tr>\n",
       "                        <th id=\"T_aa8db_level0_row11\" class=\"row_heading level0 row11\" >11</th>\n",
       "                        <td id=\"T_aa8db_row11_col0\" class=\"data row11 col0\" >2019-08-12 00:00:00</td>\n",
       "                        <td id=\"T_aa8db_row11_col1\" class=\"data row11 col1\" >1734067</td>\n",
       "                        <td id=\"T_aa8db_row11_col2\" class=\"data row11 col2\" >8.9%</td>\n",
       "            </tr>\n",
       "            <tr>\n",
       "                        <th id=\"T_aa8db_level0_row12\" class=\"row_heading level0 row12\" >12</th>\n",
       "                        <td id=\"T_aa8db_row12_col0\" class=\"data row12 col0\" >2019-08-13 00:00:00</td>\n",
       "                        <td id=\"T_aa8db_row12_col1\" class=\"data row12 col1\" >1853738</td>\n",
       "                        <td id=\"T_aa8db_row12_col2\" class=\"data row12 col2\" >6.9%</td>\n",
       "            </tr>\n",
       "            <tr>\n",
       "                        <th id=\"T_aa8db_level0_row13\" class=\"row_heading level0 row13\" >13</th>\n",
       "                        <td id=\"T_aa8db_row13_col0\" class=\"data row13 col0\" >2019-08-14 00:00:00</td>\n",
       "                        <td id=\"T_aa8db_row13_col1\" class=\"data row13 col1\" >2025446</td>\n",
       "                        <td id=\"T_aa8db_row13_col2\" class=\"data row13 col2\" >9.3%</td>\n",
       "            </tr>\n",
       "            <tr>\n",
       "                        <th id=\"T_aa8db_level0_row14\" class=\"row_heading level0 row14\" >14</th>\n",
       "                        <td id=\"T_aa8db_row14_col0\" class=\"data row14 col0\" >2019-08-15 00:00:00</td>\n",
       "                        <td id=\"T_aa8db_row14_col1\" class=\"data row14 col1\" >2367945</td>\n",
       "                        <td id=\"T_aa8db_row14_col2\" class=\"data row14 col2\" >16.9%</td>\n",
       "            </tr>\n",
       "            <tr>\n",
       "                        <th id=\"T_aa8db_level0_row15\" class=\"row_heading level0 row15\" >15</th>\n",
       "                        <td id=\"T_aa8db_row15_col0\" class=\"data row15 col0\" >2019-08-16 00:00:00</td>\n",
       "                        <td id=\"T_aa8db_row15_col1\" class=\"data row15 col1\" >2539635</td>\n",
       "                        <td id=\"T_aa8db_row15_col2\" class=\"data row15 col2\" >7.3%</td>\n",
       "            </tr>\n",
       "            <tr>\n",
       "                        <th id=\"T_aa8db_level0_row16\" class=\"row_heading level0 row16\" >16</th>\n",
       "                        <td id=\"T_aa8db_row16_col0\" class=\"data row16 col0\" >2019-08-17 00:00:00</td>\n",
       "                        <td id=\"T_aa8db_row16_col1\" class=\"data row16 col1\" >2620790</td>\n",
       "                        <td id=\"T_aa8db_row16_col2\" class=\"data row16 col2\" >3.2%</td>\n",
       "            </tr>\n",
       "            <tr>\n",
       "                        <th id=\"T_aa8db_level0_row17\" class=\"row_heading level0 row17\" >17</th>\n",
       "                        <td id=\"T_aa8db_row17_col0\" class=\"data row17 col0\" >2019-08-18 00:00:00</td>\n",
       "                        <td id=\"T_aa8db_row17_col1\" class=\"data row17 col1\" >2686621</td>\n",
       "                        <td id=\"T_aa8db_row17_col2\" class=\"data row17 col2\" >2.5%</td>\n",
       "            </tr>\n",
       "            <tr>\n",
       "                        <th id=\"T_aa8db_level0_row18\" class=\"row_heading level0 row18\" >18</th>\n",
       "                        <td id=\"T_aa8db_row18_col0\" class=\"data row18 col0\" >2019-08-19 00:00:00</td>\n",
       "                        <td id=\"T_aa8db_row18_col1\" class=\"data row18 col1\" >4116541</td>\n",
       "                        <td id=\"T_aa8db_row18_col2\" class=\"data row18 col2\" >53.2%</td>\n",
       "            </tr>\n",
       "            <tr>\n",
       "                        <th id=\"T_aa8db_level0_row19\" class=\"row_heading level0 row19\" >19</th>\n",
       "                        <td id=\"T_aa8db_row19_col0\" class=\"data row19 col0\" >2019-08-20 00:00:00</td>\n",
       "                        <td id=\"T_aa8db_row19_col1\" class=\"data row19 col1\" >4263815</td>\n",
       "                        <td id=\"T_aa8db_row19_col2\" class=\"data row19 col2\" >3.6%</td>\n",
       "            </tr>\n",
       "            <tr>\n",
       "                        <th id=\"T_aa8db_level0_row20\" class=\"row_heading level0 row20\" >20</th>\n",
       "                        <td id=\"T_aa8db_row20_col0\" class=\"data row20 col0\" >2019-08-21 00:00:00</td>\n",
       "                        <td id=\"T_aa8db_row20_col1\" class=\"data row20 col1\" >4426892</td>\n",
       "                        <td id=\"T_aa8db_row20_col2\" class=\"data row20 col2\" >3.8%</td>\n",
       "            </tr>\n",
       "            <tr>\n",
       "                        <th id=\"T_aa8db_level0_row21\" class=\"row_heading level0 row21\" >21</th>\n",
       "                        <td id=\"T_aa8db_row21_col0\" class=\"data row21 col0\" >2019-08-22 00:00:00</td>\n",
       "                        <td id=\"T_aa8db_row21_col1\" class=\"data row21 col1\" >4589247</td>\n",
       "                        <td id=\"T_aa8db_row21_col2\" class=\"data row21 col2\" >3.7%</td>\n",
       "            </tr>\n",
       "            <tr>\n",
       "                        <th id=\"T_aa8db_level0_row22\" class=\"row_heading level0 row22\" >22</th>\n",
       "                        <td id=\"T_aa8db_row22_col0\" class=\"data row22 col0\" >2019-08-23 00:00:00</td>\n",
       "                        <td id=\"T_aa8db_row22_col1\" class=\"data row22 col1\" >4703216</td>\n",
       "                        <td id=\"T_aa8db_row22_col2\" class=\"data row22 col2\" >2.5%</td>\n",
       "            </tr>\n",
       "            <tr>\n",
       "                        <th id=\"T_aa8db_level0_row23\" class=\"row_heading level0 row23\" >23</th>\n",
       "                        <td id=\"T_aa8db_row23_col0\" class=\"data row23 col0\" >2019-08-24 00:00:00</td>\n",
       "                        <td id=\"T_aa8db_row23_col1\" class=\"data row23 col1\" >4798722</td>\n",
       "                        <td id=\"T_aa8db_row23_col2\" class=\"data row23 col2\" >2.0%</td>\n",
       "            </tr>\n",
       "            <tr>\n",
       "                        <th id=\"T_aa8db_level0_row24\" class=\"row_heading level0 row24\" >24</th>\n",
       "                        <td id=\"T_aa8db_row24_col0\" class=\"data row24 col0\" >2019-08-25 00:00:00</td>\n",
       "                        <td id=\"T_aa8db_row24_col1\" class=\"data row24 col1\" >4901584</td>\n",
       "                        <td id=\"T_aa8db_row24_col2\" class=\"data row24 col2\" >2.1%</td>\n",
       "            </tr>\n",
       "            <tr>\n",
       "                        <th id=\"T_aa8db_level0_row25\" class=\"row_heading level0 row25\" >25</th>\n",
       "                        <td id=\"T_aa8db_row25_col0\" class=\"data row25 col0\" >2019-08-26 00:00:00</td>\n",
       "                        <td id=\"T_aa8db_row25_col1\" class=\"data row25 col1\" >5084583</td>\n",
       "                        <td id=\"T_aa8db_row25_col2\" class=\"data row25 col2\" >3.7%</td>\n",
       "            </tr>\n",
       "            <tr>\n",
       "                        <th id=\"T_aa8db_level0_row26\" class=\"row_heading level0 row26\" >26</th>\n",
       "                        <td id=\"T_aa8db_row26_col0\" class=\"data row26 col0\" >2019-08-27 00:00:00</td>\n",
       "                        <td id=\"T_aa8db_row26_col1\" class=\"data row26 col1\" >5232260</td>\n",
       "                        <td id=\"T_aa8db_row26_col2\" class=\"data row26 col2\" >2.9%</td>\n",
       "            </tr>\n",
       "            <tr>\n",
       "                        <th id=\"T_aa8db_level0_row27\" class=\"row_heading level0 row27\" >27</th>\n",
       "                        <td id=\"T_aa8db_row27_col0\" class=\"data row27 col0\" >2019-08-28 00:00:00</td>\n",
       "                        <td id=\"T_aa8db_row27_col1\" class=\"data row27 col1\" >5328268</td>\n",
       "                        <td id=\"T_aa8db_row27_col2\" class=\"data row27 col2\" >1.8%</td>\n",
       "            </tr>\n",
       "            <tr>\n",
       "                        <th id=\"T_aa8db_level0_row28\" class=\"row_heading level0 row28\" >28</th>\n",
       "                        <td id=\"T_aa8db_row28_col0\" class=\"data row28 col0\" >2019-08-29 00:00:00</td>\n",
       "                        <td id=\"T_aa8db_row28_col1\" class=\"data row28 col1\" >5559398</td>\n",
       "                        <td id=\"T_aa8db_row28_col2\" class=\"data row28 col2\" >4.3%</td>\n",
       "            </tr>\n",
       "            <tr>\n",
       "                        <th id=\"T_aa8db_level0_row29\" class=\"row_heading level0 row29\" >29</th>\n",
       "                        <td id=\"T_aa8db_row29_col0\" class=\"data row29 col0\" >2019-08-30 00:00:00</td>\n",
       "                        <td id=\"T_aa8db_row29_col1\" class=\"data row29 col1\" >5774631</td>\n",
       "                        <td id=\"T_aa8db_row29_col2\" class=\"data row29 col2\" >3.9%</td>\n",
       "            </tr>\n",
       "            <tr>\n",
       "                        <th id=\"T_aa8db_level0_row30\" class=\"row_heading level0 row30\" >30</th>\n",
       "                        <td id=\"T_aa8db_row30_col0\" class=\"data row30 col0\" >2019-08-31 00:00:00</td>\n",
       "                        <td id=\"T_aa8db_row30_col1\" class=\"data row30 col1\" >5907760</td>\n",
       "                        <td id=\"T_aa8db_row30_col2\" class=\"data row30 col2\" >2.3%</td>\n",
       "            </tr>\n",
       "    </tbody></table>"
      ],
      "text/plain": [
       "<pandas.io.formats.style.Styler at 0x7fa678e2df70>"
      ]
     },
     "execution_count": 26,
     "metadata": {},
     "output_type": "execute_result"
    }
   ],
   "source": [
    "t1 = cumulativeDataB[['date', 'revenue']][:].reset_index(drop=True)\n",
    "t1['revenue_ratio'] = t1.revenue / t1.revenue.shift() - 1\n",
    "t1.style.format({'revenue_ratio' : '{:.1%}'})"
   ]
  },
  {
   "cell_type": "markdown",
   "id": "d4302668",
   "metadata": {},
   "source": [
    "19 августа произошла аномалия в группе B. Скорре всего, аномально крупный заказ. Точно можно будет сказать позже, когда проанализируем средний чек.\n",
    "\n",
    "15 августа тоже наблюдается выброс."
   ]
  },
  {
   "cell_type": "markdown",
   "id": "3c8cae29",
   "metadata": {},
   "source": [
    "#### Выводы и предположения: График кумулятивной выручки по группам.\n",
    "\n",
    "В сырых данных имеются аномалии. Начало периода теста хаотично, что является нормой. Стабилизация происходит к концу первой декады проведения теста. Затем наблюдаются 2 выброса - 15 и 19 августа. Максимальный - 19 августа.\n",
    "\n",
    "Группа В показывает результат лучше группы А."
   ]
  },
  {
   "cell_type": "markdown",
   "id": "4f39c7ea",
   "metadata": {},
   "source": [
    "### График кумулятивного среднего чека по группам. "
   ]
  },
  {
   "cell_type": "markdown",
   "id": "2f7a3c6b",
   "metadata": {},
   "source": [
    "Все необходимые данные у нас уже есть, построим сами графики:"
   ]
  },
  {
   "cell_type": "code",
   "execution_count": 27,
   "id": "2360dcad",
   "metadata": {},
   "outputs": [
    {
     "data": {
      "image/png": "[encoded data removed]",
      "text/plain": [
       "<Figure size 432x288 with 1 Axes>"
      ]
     },
     "metadata": {
      "needs_background": "light"
     },
     "output_type": "display_data"
    }
   ],
   "source": [
    "plt.plot(cumulativeDataA['date'], cumulativeDataA['revenue']/cumulativeDataA['orders'], label='Группа A')\n",
    "plt.plot(cumulativeDataB['date'], cumulativeDataB['revenue']/cumulativeDataB['orders'], label='Группа B')\n",
    "\n",
    "plt.xlabel('Дата')\n",
    "plt.ylabel('Кумулятивный средний чек')\n",
    "plt.xticks(rotation=30)\n",
    "plt.title('Кумулятивный средний чек за период')\n",
    "\n",
    "plt.legend();"
   ]
  },
  {
   "cell_type": "markdown",
   "id": "0e560e49",
   "metadata": {},
   "source": [
    "Тоже скачок, как на выручке, и тоже в группе B. Добавим индекс изменения среднего чека:"
   ]
  },
  {
   "cell_type": "code",
   "execution_count": 28,
   "id": "d8224d7c",
   "metadata": {},
   "outputs": [
    {
     "data": {
      "text/html": [
       "<style  type=\"text/css\" >\n",
       "</style><table id=\"T_428e6_\" ><thead>    <tr>        <th class=\"blank level0\" ></th>        <th class=\"col_heading level0 col0\" >date</th>        <th class=\"col_heading level0 col1\" >orders</th>        <th class=\"col_heading level0 col2\" >revenue</th>        <th class=\"col_heading level0 col3\" >aov</th>        <th class=\"col_heading level0 col4\" >aov_ratio</th>    </tr></thead><tbody>\n",
       "                <tr>\n",
       "                        <th id=\"T_428e6_level0_row0\" class=\"row_heading level0 row0\" >0</th>\n",
       "                        <td id=\"T_428e6_row0_col0\" class=\"data row0 col0\" >2019-08-01 00:00:00</td>\n",
       "                        <td id=\"T_428e6_row0_col1\" class=\"data row0 col1\" >21</td>\n",
       "                        <td id=\"T_428e6_row0_col2\" class=\"data row0 col2\" >101217</td>\n",
       "                        <td id=\"T_428e6_row0_col3\" class=\"data row0 col3\" >4819.86</td>\n",
       "                        <td id=\"T_428e6_row0_col4\" class=\"data row0 col4\" >nan%</td>\n",
       "            </tr>\n",
       "            <tr>\n",
       "                        <th id=\"T_428e6_level0_row1\" class=\"row_heading level0 row1\" >1</th>\n",
       "                        <td id=\"T_428e6_row1_col0\" class=\"data row1 col0\" >2019-08-02 00:00:00</td>\n",
       "                        <td id=\"T_428e6_row1_col1\" class=\"data row1 col1\" >45</td>\n",
       "                        <td id=\"T_428e6_row1_col2\" class=\"data row1 col2\" >266748</td>\n",
       "                        <td id=\"T_428e6_row1_col3\" class=\"data row1 col3\" >5927.73</td>\n",
       "                        <td id=\"T_428e6_row1_col4\" class=\"data row1 col4\" >23.0%</td>\n",
       "            </tr>\n",
       "            <tr>\n",
       "                        <th id=\"T_428e6_level0_row2\" class=\"row_heading level0 row2\" >2</th>\n",
       "                        <td id=\"T_428e6_row2_col0\" class=\"data row2 col0\" >2019-08-03 00:00:00</td>\n",
       "                        <td id=\"T_428e6_row2_col1\" class=\"data row2 col1\" >61</td>\n",
       "                        <td id=\"T_428e6_row2_col2\" class=\"data row2 col2\" >380996</td>\n",
       "                        <td id=\"T_428e6_row2_col3\" class=\"data row2 col3\" >6245.84</td>\n",
       "                        <td id=\"T_428e6_row2_col4\" class=\"data row2 col4\" >5.4%</td>\n",
       "            </tr>\n",
       "            <tr>\n",
       "                        <th id=\"T_428e6_level0_row3\" class=\"row_heading level0 row3\" >3</th>\n",
       "                        <td id=\"T_428e6_row3_col0\" class=\"data row3 col0\" >2019-08-04 00:00:00</td>\n",
       "                        <td id=\"T_428e6_row3_col1\" class=\"data row3 col1\" >78</td>\n",
       "                        <td id=\"T_428e6_row3_col2\" class=\"data row3 col2\" >489567</td>\n",
       "                        <td id=\"T_428e6_row3_col3\" class=\"data row3 col3\" >6276.50</td>\n",
       "                        <td id=\"T_428e6_row3_col4\" class=\"data row3 col4\" >0.5%</td>\n",
       "            </tr>\n",
       "            <tr>\n",
       "                        <th id=\"T_428e6_level0_row4\" class=\"row_heading level0 row4\" >4</th>\n",
       "                        <td id=\"T_428e6_row4_col0\" class=\"data row4 col0\" >2019-08-05 00:00:00</td>\n",
       "                        <td id=\"T_428e6_row4_col1\" class=\"data row4 col1\" >101</td>\n",
       "                        <td id=\"T_428e6_row4_col2\" class=\"data row4 col2\" >581995</td>\n",
       "                        <td id=\"T_428e6_row4_col3\" class=\"data row4 col3\" >5762.33</td>\n",
       "                        <td id=\"T_428e6_row4_col4\" class=\"data row4 col4\" >-8.2%</td>\n",
       "            </tr>\n",
       "            <tr>\n",
       "                        <th id=\"T_428e6_level0_row5\" class=\"row_heading level0 row5\" >5</th>\n",
       "                        <td id=\"T_428e6_row5_col0\" class=\"data row5 col0\" >2019-08-06 00:00:00</td>\n",
       "                        <td id=\"T_428e6_row5_col1\" class=\"data row5 col1\" >129</td>\n",
       "                        <td id=\"T_428e6_row5_col2\" class=\"data row5 col2\" >824337</td>\n",
       "                        <td id=\"T_428e6_row5_col3\" class=\"data row5 col3\" >6390.21</td>\n",
       "                        <td id=\"T_428e6_row5_col4\" class=\"data row5 col4\" >10.9%</td>\n",
       "            </tr>\n",
       "            <tr>\n",
       "                        <th id=\"T_428e6_level0_row6\" class=\"row_heading level0 row6\" >6</th>\n",
       "                        <td id=\"T_428e6_row6_col0\" class=\"data row6 col0\" >2019-08-07 00:00:00</td>\n",
       "                        <td id=\"T_428e6_row6_col1\" class=\"data row6 col1\" >153</td>\n",
       "                        <td id=\"T_428e6_row6_col2\" class=\"data row6 col2\" >1049671</td>\n",
       "                        <td id=\"T_428e6_row6_col3\" class=\"data row6 col3\" >6860.59</td>\n",
       "                        <td id=\"T_428e6_row6_col4\" class=\"data row6 col4\" >7.4%</td>\n",
       "            </tr>\n",
       "            <tr>\n",
       "                        <th id=\"T_428e6_level0_row7\" class=\"row_heading level0 row7\" >7</th>\n",
       "                        <td id=\"T_428e6_row7_col0\" class=\"data row7 col0\" >2019-08-08 00:00:00</td>\n",
       "                        <td id=\"T_428e6_row7_col1\" class=\"data row7 col1\" >180</td>\n",
       "                        <td id=\"T_428e6_row7_col2\" class=\"data row7 col2\" >1270589</td>\n",
       "                        <td id=\"T_428e6_row7_col3\" class=\"data row7 col3\" >7058.83</td>\n",
       "                        <td id=\"T_428e6_row7_col4\" class=\"data row7 col4\" >2.9%</td>\n",
       "            </tr>\n",
       "            <tr>\n",
       "                        <th id=\"T_428e6_level0_row8\" class=\"row_heading level0 row8\" >8</th>\n",
       "                        <td id=\"T_428e6_row8_col0\" class=\"data row8 col0\" >2019-08-09 00:00:00</td>\n",
       "                        <td id=\"T_428e6_row8_col1\" class=\"data row8 col1\" >205</td>\n",
       "                        <td id=\"T_428e6_row8_col2\" class=\"data row8 col2\" >1431401</td>\n",
       "                        <td id=\"T_428e6_row8_col3\" class=\"data row8 col3\" >6982.44</td>\n",
       "                        <td id=\"T_428e6_row8_col4\" class=\"data row8 col4\" >-1.1%</td>\n",
       "            </tr>\n",
       "            <tr>\n",
       "                        <th id=\"T_428e6_level0_row9\" class=\"row_heading level0 row9\" >9</th>\n",
       "                        <td id=\"T_428e6_row9_col0\" class=\"data row9 col0\" >2019-08-10 00:00:00</td>\n",
       "                        <td id=\"T_428e6_row9_col1\" class=\"data row9 col1\" >228</td>\n",
       "                        <td id=\"T_428e6_row9_col2\" class=\"data row9 col2\" >1539203</td>\n",
       "                        <td id=\"T_428e6_row9_col3\" class=\"data row9 col3\" >6750.89</td>\n",
       "                        <td id=\"T_428e6_row9_col4\" class=\"data row9 col4\" >-3.3%</td>\n",
       "            </tr>\n",
       "            <tr>\n",
       "                        <th id=\"T_428e6_level0_row10\" class=\"row_heading level0 row10\" >10</th>\n",
       "                        <td id=\"T_428e6_row10_col0\" class=\"data row10 col0\" >2019-08-11 00:00:00</td>\n",
       "                        <td id=\"T_428e6_row10_col1\" class=\"data row10 col1\" >241</td>\n",
       "                        <td id=\"T_428e6_row10_col2\" class=\"data row10 col2\" >1592513</td>\n",
       "                        <td id=\"T_428e6_row10_col3\" class=\"data row10 col3\" >6607.94</td>\n",
       "                        <td id=\"T_428e6_row10_col4\" class=\"data row10 col4\" >-2.1%</td>\n",
       "            </tr>\n",
       "            <tr>\n",
       "                        <th id=\"T_428e6_level0_row11\" class=\"row_heading level0 row11\" >11</th>\n",
       "                        <td id=\"T_428e6_row11_col0\" class=\"data row11 col0\" >2019-08-12 00:00:00</td>\n",
       "                        <td id=\"T_428e6_row11_col1\" class=\"data row11 col1\" >264</td>\n",
       "                        <td id=\"T_428e6_row11_col2\" class=\"data row11 col2\" >1734067</td>\n",
       "                        <td id=\"T_428e6_row11_col3\" class=\"data row11 col3\" >6568.44</td>\n",
       "                        <td id=\"T_428e6_row11_col4\" class=\"data row11 col4\" >-0.6%</td>\n",
       "            </tr>\n",
       "            <tr>\n",
       "                        <th id=\"T_428e6_level0_row12\" class=\"row_heading level0 row12\" >12</th>\n",
       "                        <td id=\"T_428e6_row12_col0\" class=\"data row12 col0\" >2019-08-13 00:00:00</td>\n",
       "                        <td id=\"T_428e6_row12_col1\" class=\"data row12 col1\" >285</td>\n",
       "                        <td id=\"T_428e6_row12_col2\" class=\"data row12 col2\" >1853738</td>\n",
       "                        <td id=\"T_428e6_row12_col3\" class=\"data row12 col3\" >6504.34</td>\n",
       "                        <td id=\"T_428e6_row12_col4\" class=\"data row12 col4\" >-1.0%</td>\n",
       "            </tr>\n",
       "            <tr>\n",
       "                        <th id=\"T_428e6_level0_row13\" class=\"row_heading level0 row13\" >13</th>\n",
       "                        <td id=\"T_428e6_row13_col0\" class=\"data row13 col0\" >2019-08-14 00:00:00</td>\n",
       "                        <td id=\"T_428e6_row13_col1\" class=\"data row13 col1\" >308</td>\n",
       "                        <td id=\"T_428e6_row13_col2\" class=\"data row13 col2\" >2025446</td>\n",
       "                        <td id=\"T_428e6_row13_col3\" class=\"data row13 col3\" >6576.12</td>\n",
       "                        <td id=\"T_428e6_row13_col4\" class=\"data row13 col4\" >1.1%</td>\n",
       "            </tr>\n",
       "            <tr>\n",
       "                        <th id=\"T_428e6_level0_row14\" class=\"row_heading level0 row14\" >14</th>\n",
       "                        <td id=\"T_428e6_row14_col0\" class=\"data row14 col0\" >2019-08-15 00:00:00</td>\n",
       "                        <td id=\"T_428e6_row14_col1\" class=\"data row14 col1\" >339</td>\n",
       "                        <td id=\"T_428e6_row14_col2\" class=\"data row14 col2\" >2367945</td>\n",
       "                        <td id=\"T_428e6_row14_col3\" class=\"data row14 col3\" >6985.09</td>\n",
       "                        <td id=\"T_428e6_row14_col4\" class=\"data row14 col4\" >6.2%</td>\n",
       "            </tr>\n",
       "            <tr>\n",
       "                        <th id=\"T_428e6_level0_row15\" class=\"row_heading level0 row15\" >15</th>\n",
       "                        <td id=\"T_428e6_row15_col0\" class=\"data row15 col0\" >2019-08-16 00:00:00</td>\n",
       "                        <td id=\"T_428e6_row15_col1\" class=\"data row15 col1\" >359</td>\n",
       "                        <td id=\"T_428e6_row15_col2\" class=\"data row15 col2\" >2539635</td>\n",
       "                        <td id=\"T_428e6_row15_col3\" class=\"data row15 col3\" >7074.19</td>\n",
       "                        <td id=\"T_428e6_row15_col4\" class=\"data row15 col4\" >1.3%</td>\n",
       "            </tr>\n",
       "            <tr>\n",
       "                        <th id=\"T_428e6_level0_row16\" class=\"row_heading level0 row16\" >16</th>\n",
       "                        <td id=\"T_428e6_row16_col0\" class=\"data row16 col0\" >2019-08-17 00:00:00</td>\n",
       "                        <td id=\"T_428e6_row16_col1\" class=\"data row16 col1\" >373</td>\n",
       "                        <td id=\"T_428e6_row16_col2\" class=\"data row16 col2\" >2620790</td>\n",
       "                        <td id=\"T_428e6_row16_col3\" class=\"data row16 col3\" >7026.25</td>\n",
       "                        <td id=\"T_428e6_row16_col4\" class=\"data row16 col4\" >-0.7%</td>\n",
       "            </tr>\n",
       "            <tr>\n",
       "                        <th id=\"T_428e6_level0_row17\" class=\"row_heading level0 row17\" >17</th>\n",
       "                        <td id=\"T_428e6_row17_col0\" class=\"data row17 col0\" >2019-08-18 00:00:00</td>\n",
       "                        <td id=\"T_428e6_row17_col1\" class=\"data row17 col1\" >382</td>\n",
       "                        <td id=\"T_428e6_row17_col2\" class=\"data row17 col2\" >2686621</td>\n",
       "                        <td id=\"T_428e6_row17_col3\" class=\"data row17 col3\" >7033.04</td>\n",
       "                        <td id=\"T_428e6_row17_col4\" class=\"data row17 col4\" >0.1%</td>\n",
       "            </tr>\n",
       "            <tr>\n",
       "                        <th id=\"T_428e6_level0_row18\" class=\"row_heading level0 row18\" >18</th>\n",
       "                        <td id=\"T_428e6_row18_col0\" class=\"data row18 col0\" >2019-08-19 00:00:00</td>\n",
       "                        <td id=\"T_428e6_row18_col1\" class=\"data row18 col1\" >403</td>\n",
       "                        <td id=\"T_428e6_row18_col2\" class=\"data row18 col2\" >4116541</td>\n",
       "                        <td id=\"T_428e6_row18_col3\" class=\"data row18 col3\" >10214.74</td>\n",
       "                        <td id=\"T_428e6_row18_col4\" class=\"data row18 col4\" >45.2%</td>\n",
       "            </tr>\n",
       "            <tr>\n",
       "                        <th id=\"T_428e6_level0_row19\" class=\"row_heading level0 row19\" >19</th>\n",
       "                        <td id=\"T_428e6_row19_col0\" class=\"data row19 col0\" >2019-08-20 00:00:00</td>\n",
       "                        <td id=\"T_428e6_row19_col1\" class=\"data row19 col1\" >423</td>\n",
       "                        <td id=\"T_428e6_row19_col2\" class=\"data row19 col2\" >4263815</td>\n",
       "                        <td id=\"T_428e6_row19_col3\" class=\"data row19 col3\" >10079.94</td>\n",
       "                        <td id=\"T_428e6_row19_col4\" class=\"data row19 col4\" >-1.3%</td>\n",
       "            </tr>\n",
       "            <tr>\n",
       "                        <th id=\"T_428e6_level0_row20\" class=\"row_heading level0 row20\" >20</th>\n",
       "                        <td id=\"T_428e6_row20_col0\" class=\"data row20 col0\" >2019-08-21 00:00:00</td>\n",
       "                        <td id=\"T_428e6_row20_col1\" class=\"data row20 col1\" >437</td>\n",
       "                        <td id=\"T_428e6_row20_col2\" class=\"data row20 col2\" >4426892</td>\n",
       "                        <td id=\"T_428e6_row20_col3\" class=\"data row20 col3\" >10130.19</td>\n",
       "                        <td id=\"T_428e6_row20_col4\" class=\"data row20 col4\" >0.5%</td>\n",
       "            </tr>\n",
       "            <tr>\n",
       "                        <th id=\"T_428e6_level0_row21\" class=\"row_heading level0 row21\" >21</th>\n",
       "                        <td id=\"T_428e6_row21_col0\" class=\"data row21 col0\" >2019-08-22 00:00:00</td>\n",
       "                        <td id=\"T_428e6_row21_col1\" class=\"data row21 col1\" >462</td>\n",
       "                        <td id=\"T_428e6_row21_col2\" class=\"data row21 col2\" >4589247</td>\n",
       "                        <td id=\"T_428e6_row21_col3\" class=\"data row21 col3\" >9933.44</td>\n",
       "                        <td id=\"T_428e6_row21_col4\" class=\"data row21 col4\" >-1.9%</td>\n",
       "            </tr>\n",
       "            <tr>\n",
       "                        <th id=\"T_428e6_level0_row22\" class=\"row_heading level0 row22\" >22</th>\n",
       "                        <td id=\"T_428e6_row22_col0\" class=\"data row22 col0\" >2019-08-23 00:00:00</td>\n",
       "                        <td id=\"T_428e6_row22_col1\" class=\"data row22 col1\" >477</td>\n",
       "                        <td id=\"T_428e6_row22_col2\" class=\"data row22 col2\" >4703216</td>\n",
       "                        <td id=\"T_428e6_row22_col3\" class=\"data row22 col3\" >9859.99</td>\n",
       "                        <td id=\"T_428e6_row22_col4\" class=\"data row22 col4\" >-0.7%</td>\n",
       "            </tr>\n",
       "            <tr>\n",
       "                        <th id=\"T_428e6_level0_row23\" class=\"row_heading level0 row23\" >23</th>\n",
       "                        <td id=\"T_428e6_row23_col0\" class=\"data row23 col0\" >2019-08-24 00:00:00</td>\n",
       "                        <td id=\"T_428e6_row23_col1\" class=\"data row23 col1\" >493</td>\n",
       "                        <td id=\"T_428e6_row23_col2\" class=\"data row23 col2\" >4798722</td>\n",
       "                        <td id=\"T_428e6_row23_col3\" class=\"data row23 col3\" >9733.72</td>\n",
       "                        <td id=\"T_428e6_row23_col4\" class=\"data row23 col4\" >-1.3%</td>\n",
       "            </tr>\n",
       "            <tr>\n",
       "                        <th id=\"T_428e6_level0_row24\" class=\"row_heading level0 row24\" >24</th>\n",
       "                        <td id=\"T_428e6_row24_col0\" class=\"data row24 col0\" >2019-08-25 00:00:00</td>\n",
       "                        <td id=\"T_428e6_row24_col1\" class=\"data row24 col1\" >507</td>\n",
       "                        <td id=\"T_428e6_row24_col2\" class=\"data row24 col2\" >4901584</td>\n",
       "                        <td id=\"T_428e6_row24_col3\" class=\"data row24 col3\" >9667.82</td>\n",
       "                        <td id=\"T_428e6_row24_col4\" class=\"data row24 col4\" >-0.7%</td>\n",
       "            </tr>\n",
       "            <tr>\n",
       "                        <th id=\"T_428e6_level0_row25\" class=\"row_heading level0 row25\" >25</th>\n",
       "                        <td id=\"T_428e6_row25_col0\" class=\"data row25 col0\" >2019-08-26 00:00:00</td>\n",
       "                        <td id=\"T_428e6_row25_col1\" class=\"data row25 col1\" >532</td>\n",
       "                        <td id=\"T_428e6_row25_col2\" class=\"data row25 col2\" >5084583</td>\n",
       "                        <td id=\"T_428e6_row25_col3\" class=\"data row25 col3\" >9557.49</td>\n",
       "                        <td id=\"T_428e6_row25_col4\" class=\"data row25 col4\" >-1.1%</td>\n",
       "            </tr>\n",
       "            <tr>\n",
       "                        <th id=\"T_428e6_level0_row26\" class=\"row_heading level0 row26\" >26</th>\n",
       "                        <td id=\"T_428e6_row26_col0\" class=\"data row26 col0\" >2019-08-27 00:00:00</td>\n",
       "                        <td id=\"T_428e6_row26_col1\" class=\"data row26 col1\" >548</td>\n",
       "                        <td id=\"T_428e6_row26_col2\" class=\"data row26 col2\" >5232260</td>\n",
       "                        <td id=\"T_428e6_row26_col3\" class=\"data row26 col3\" >9547.92</td>\n",
       "                        <td id=\"T_428e6_row26_col4\" class=\"data row26 col4\" >-0.1%</td>\n",
       "            </tr>\n",
       "            <tr>\n",
       "                        <th id=\"T_428e6_level0_row27\" class=\"row_heading level0 row27\" >27</th>\n",
       "                        <td id=\"T_428e6_row27_col0\" class=\"data row27 col0\" >2019-08-28 00:00:00</td>\n",
       "                        <td id=\"T_428e6_row27_col1\" class=\"data row27 col1\" >576</td>\n",
       "                        <td id=\"T_428e6_row27_col2\" class=\"data row27 col2\" >5328268</td>\n",
       "                        <td id=\"T_428e6_row27_col3\" class=\"data row27 col3\" >9250.47</td>\n",
       "                        <td id=\"T_428e6_row27_col4\" class=\"data row27 col4\" >-3.1%</td>\n",
       "            </tr>\n",
       "            <tr>\n",
       "                        <th id=\"T_428e6_level0_row28\" class=\"row_heading level0 row28\" >28</th>\n",
       "                        <td id=\"T_428e6_row28_col0\" class=\"data row28 col0\" >2019-08-29 00:00:00</td>\n",
       "                        <td id=\"T_428e6_row28_col1\" class=\"data row28 col1\" >596</td>\n",
       "                        <td id=\"T_428e6_row28_col2\" class=\"data row28 col2\" >5559398</td>\n",
       "                        <td id=\"T_428e6_row28_col3\" class=\"data row28 col3\" >9327.85</td>\n",
       "                        <td id=\"T_428e6_row28_col4\" class=\"data row28 col4\" >0.8%</td>\n",
       "            </tr>\n",
       "            <tr>\n",
       "                        <th id=\"T_428e6_level0_row29\" class=\"row_heading level0 row29\" >29</th>\n",
       "                        <td id=\"T_428e6_row29_col0\" class=\"data row29 col0\" >2019-08-30 00:00:00</td>\n",
       "                        <td id=\"T_428e6_row29_col1\" class=\"data row29 col1\" >620</td>\n",
       "                        <td id=\"T_428e6_row29_col2\" class=\"data row29 col2\" >5774631</td>\n",
       "                        <td id=\"T_428e6_row29_col3\" class=\"data row29 col3\" >9313.92</td>\n",
       "                        <td id=\"T_428e6_row29_col4\" class=\"data row29 col4\" >-0.1%</td>\n",
       "            </tr>\n",
       "            <tr>\n",
       "                        <th id=\"T_428e6_level0_row30\" class=\"row_heading level0 row30\" >30</th>\n",
       "                        <td id=\"T_428e6_row30_col0\" class=\"data row30 col0\" >2019-08-31 00:00:00</td>\n",
       "                        <td id=\"T_428e6_row30_col1\" class=\"data row30 col1\" >640</td>\n",
       "                        <td id=\"T_428e6_row30_col2\" class=\"data row30 col2\" >5907760</td>\n",
       "                        <td id=\"T_428e6_row30_col3\" class=\"data row30 col3\" >9230.88</td>\n",
       "                        <td id=\"T_428e6_row30_col4\" class=\"data row30 col4\" >-0.9%</td>\n",
       "            </tr>\n",
       "    </tbody></table>"
      ],
      "text/plain": [
       "<pandas.io.formats.style.Styler at 0x7fa678d66af0>"
      ]
     },
     "execution_count": 28,
     "metadata": {},
     "output_type": "execute_result"
    }
   ],
   "source": [
    "t1 = cumulativeDataB[['date', 'orders', 'revenue']][:].reset_index(drop=True)\n",
    "t1['aov'] = t1['revenue'] / t1['orders']\n",
    "t1['aov_ratio'] = t1.aov / t1.aov.shift() - 1\n",
    "t1.style.format({'aov' : '{:.2f}', 'aov_ratio' : '{:.1%}'})"
   ]
  },
  {
   "cell_type": "markdown",
   "id": "1f5da5d8",
   "metadata": {},
   "source": [
    "Так как в этот же день аномально выросла не только выручка, но и средний чек, можно утверждать, что имел место аномально большой заказ в группе B.\n",
    "15 августа также есть выброс, но меньший."
   ]
  },
  {
   "cell_type": "markdown",
   "id": "4bfb3ba9",
   "metadata": {},
   "source": [
    "#### Выводы и предположения: График кумулятивного среднего чека по группам.\n",
    "\n",
    "Картина такая же, как и с выручкой. Стабилизация параметров наблюдается к концу первой декады наблюдений. Затем наблюдаются 2 выброса - 15 и 19 августа. Максимальный - 19 августа.\n",
    "\n",
    "Теперь можно утверждать, что это влияние аномально крупных заказов.\n",
    "\n",
    "Группа В показывает результат лучше группы А."
   ]
  },
  {
   "cell_type": "markdown",
   "id": "72042799",
   "metadata": {},
   "source": [
    "### График относительного изменения кумулятивного среднего чека группы B к группе A. "
   ]
  },
  {
   "cell_type": "markdown",
   "id": "46c2d9e5",
   "metadata": {},
   "source": [
    "Подготовим необходимые данные и построим график:"
   ]
  },
  {
   "cell_type": "code",
   "execution_count": 29,
   "id": "ac63690e",
   "metadata": {},
   "outputs": [
    {
     "data": {
      "image/png": "[encoded data removed]",
      "text/plain": [
       "<Figure size 432x288 with 1 Axes>"
      ]
     },
     "metadata": {
      "needs_background": "light"
     },
     "output_type": "display_data"
    }
   ],
   "source": [
    "# собираем данные в одном датафрейме\n",
    "mergedCumulativeData = cumulativeDataA.merge(cumulativeDataB, left_on='date', right_on='date', \n",
    "                                             how='left', suffixes=['A', 'B'])\n",
    "\n",
    "# cтроим отношение средних чеков\n",
    "plt.plot(mergedCumulativeData['date'], \n",
    "         (mergedCumulativeData['revenueB']/mergedCumulativeData['ordersB'])\n",
    "         /(mergedCumulativeData['revenueA']/mergedCumulativeData['ordersA'])-1)\n",
    "\n",
    "# добавляем ось X\n",
    "plt.axhline(y=0, color='black', linestyle='--') \n",
    "\n",
    "plt.xlabel('Дата')\n",
    "plt.ylabel('Относительное изменение')\n",
    "plt.xticks(rotation=30)\n",
    "plt.title('График относительного изменения\\n кумулятивного среднего чека группы B к группе A.');"
   ]
  },
  {
   "cell_type": "markdown",
   "id": "023307e1",
   "metadata": {},
   "source": [
    "#### Выводы и предположения: График относительного изменения кумулятивного среднего чека группы B к группе A.\n",
    "\n",
    "Стабилизация параметров наступает к концу второй декады наблюдений. После резкого роста (выброс от 19 августа) начинается плавное снижение - корректировка выброса. Резкие колебания после выброса больше не наблюдаются.\n",
    "\n",
    "Группа В показывает результат лучше группы А."
   ]
  },
  {
   "cell_type": "markdown",
   "id": "1799b700",
   "metadata": {},
   "source": [
    "### График кумулятивного среднего количества заказов на посетителя по группам. "
   ]
  },
  {
   "cell_type": "code",
   "execution_count": 30,
   "id": "bc893989",
   "metadata": {},
   "outputs": [
    {
     "data": {
      "image/png": "[encoded data removed]",
      "text/plain": [
       "<Figure size 432x288 with 1 Axes>"
      ]
     },
     "metadata": {
      "needs_background": "light"
     },
     "output_type": "display_data"
    }
   ],
   "source": [
    "plt.plot(cumulativeDataA['date'], cumulativeDataA['orders']/cumulativeDataA['visitors'], label='Группа A')\n",
    "plt.plot(cumulativeDataB['date'], cumulativeDataB['orders']/cumulativeDataB['visitors'], label='Группа B')\n",
    "\n",
    "plt.xlabel('Дата')\n",
    "plt.ylabel('Кумулятивное среднее количество заказов')\n",
    "plt.xticks(rotation=30)\n",
    "plt.title('Кумулятивное среднее количество заказов за период')\n",
    "\n",
    "plt.legend();"
   ]
  },
  {
   "cell_type": "markdown",
   "id": "ae292740",
   "metadata": {},
   "source": [
    "#### Выводы и предположения: График кумулятивного среднего количества заказов на посетителя по группам.\n",
    "\n",
    "Параметры стабилизируются к концу первой декады наблюдений.\n",
    "\n",
    "Группа В показывает результат лучше группы А."
   ]
  },
  {
   "cell_type": "markdown",
   "id": "1968a0b4",
   "metadata": {},
   "source": [
    "### График относительного изменения кумулятивного среднего количества заказов на посетителя группы B к группе A. "
   ]
  },
  {
   "cell_type": "code",
   "execution_count": 31,
   "id": "81716d61",
   "metadata": {},
   "outputs": [
    {
     "data": {
      "image/png": "[encoded data removed]",
      "text/plain": [
       "<Figure size 432x288 with 1 Axes>"
      ]
     },
     "metadata": {
      "needs_background": "light"
     },
     "output_type": "display_data"
    }
   ],
   "source": [
    "# cтроим отношение среднего количества заказов\n",
    "plt.plot(mergedCumulativeData['date'], \n",
    "         (mergedCumulativeData['ordersB']/mergedCumulativeData['visitorsB'])\n",
    "         /(mergedCumulativeData['ordersA']/mergedCumulativeData['visitorsA'])-1)\n",
    "\n",
    "# добавляем оси X\n",
    "plt.axhline(y=0, color='black', linestyle='--') \n",
    "plt.axhline(y=0.15, color='lightgray', linestyle='--') \n",
    "\n",
    "plt.xlabel('Дата')\n",
    "plt.ylabel('Относительное изменение')\n",
    "plt.xticks(rotation=30)\n",
    "plt.title('График относительного изменения\\n кумулятивного среднего количества заказов группы B к группе A.');"
   ]
  },
  {
   "cell_type": "markdown",
   "id": "9b449b84",
   "metadata": {},
   "source": [
    "#### Выводы и предположения: График относительного изменения кумулятивного среднего количества заказов на посетителя группы B к группе A.\n",
    "\n",
    "После стабилизации, которая также наблюдается к конце первой декады наблюдений, график стабильно держится в положительной зоне.\n",
    "\n",
    "Группа В показывает результат лучше группы А."
   ]
  },
  {
   "cell_type": "markdown",
   "id": "16fa85d0",
   "metadata": {},
   "source": [
    "### Точечный график количества заказов по пользователям. "
   ]
  },
  {
   "cell_type": "code",
   "execution_count": 32,
   "id": "badb5536",
   "metadata": {},
   "outputs": [
    {
     "data": {
      "image/png": "[encoded data removed]",
      "text/plain": [
       "<Figure size 432x288 with 1 Axes>"
      ]
     },
     "metadata": {
      "needs_background": "light"
     },
     "output_type": "display_data"
    }
   ],
   "source": [
    "ordersByUsers = (\n",
    "    orders.groupby('user_id', as_index=False)\n",
    "    .agg({'order_id': 'nunique'})\n",
    ")\n",
    "ordersByUsers.columns = ['user_id', 'orders']\n",
    "\n",
    "# серия из чисел от 0 до количества наблюдений в ordersByUsers\n",
    "x_values = pd.Series(range(0, len(ordersByUsers)))\n",
    "plt.scatter(x_values, ordersByUsers['orders'])\n",
    "\n",
    "plt.xlabel('Пользователи')\n",
    "plt.ylabel('Количество заказов')\n",
    "plt.title('Распределение количества заказов по пользователям');"
   ]
  },
  {
   "cell_type": "markdown",
   "id": "ee19131f",
   "metadata": {},
   "source": [
    "#### Выводы и предположения: Точечный график количества заказов по пользователям.\n",
    "\n",
    "На графике хорошо видны выбросы.\n",
    "Основное количество заказов по пользователям - это 1 или 2."
   ]
  },
  {
   "cell_type": "markdown",
   "id": "b0770641",
   "metadata": {},
   "source": [
    "### Расчет 95 и 99 перцентиля количества заказов на пользователя. "
   ]
  },
  {
   "cell_type": "code",
   "execution_count": 33,
   "id": "84de0dc5",
   "metadata": {},
   "outputs": [
    {
     "name": "stdout",
     "output_type": "stream",
     "text": [
      "95 перцентиль количества заказов равен: 2\n",
      "99 перцентиль количества заказов равен: 4\n"
     ]
    }
   ],
   "source": [
    "percentile_list = [95, 99]\n",
    "for i in percentile_list :\n",
    "    p_tmp = np.percentile(ordersByUsers['orders'], [i])\n",
    "    p_tmp = p_tmp[0]\n",
    "    print(f'{i} перцентиль количества заказов равен: {p_tmp:.0f}')"
   ]
  },
  {
   "cell_type": "markdown",
   "id": "c722c932",
   "metadata": {},
   "source": [
    "#### Определение границы для аномальных пользователей.\n",
    "\n",
    "Как и график, расчет перцентилей дает нам границу для определения аномальных пользователей.\n",
    "\n",
    "На основании графика и расчета установим границу количества заказов на пользователя: 2. \n",
    "\n",
    "Свыше этого количество заказов принимаем как аномальное."
   ]
  },
  {
   "cell_type": "markdown",
   "id": "bc185e4d",
   "metadata": {},
   "source": [
    "### Точечный график стоимостей заказов. "
   ]
  },
  {
   "cell_type": "code",
   "execution_count": 34,
   "id": "48d7da06",
   "metadata": {},
   "outputs": [
    {
     "data": {
      "image/png": "[encoded data removed]",
      "text/plain": [
       "<Figure size 432x288 with 1 Axes>"
      ]
     },
     "metadata": {
      "needs_background": "light"
     },
     "output_type": "display_data"
    }
   ],
   "source": [
    "x_values = pd.Series(range(0, len(orders['revenue'])))\n",
    "plt.scatter(x_values, orders['revenue'])\n",
    "\n",
    "plt.xlabel('Пользователи')\n",
    "plt.ylabel('Стоимость заказа')\n",
    "plt.title('Распределение стоимостей заказов по пользователям');"
   ]
  },
  {
   "cell_type": "markdown",
   "id": "8a811a7b",
   "metadata": {},
   "source": [
    "Основная масса заказов приходится на заказы существенно ниже 100К. Видны выбросы."
   ]
  },
  {
   "cell_type": "code",
   "execution_count": 35,
   "id": "6a1741b3",
   "metadata": {},
   "outputs": [
    {
     "data": {
      "image/png": "[encoded data removed]",
      "text/plain": [
       "<Figure size 432x288 with 1 Axes>"
      ]
     },
     "metadata": {
      "needs_background": "light"
     },
     "output_type": "display_data"
    }
   ],
   "source": [
    "plt.scatter(orders['date'], orders['revenue'])\n",
    "\n",
    "plt.xticks(rotation=30)\n",
    "plt.xlabel('Дата')\n",
    "plt.ylabel('Стоимость заказа')\n",
    "plt.title('Распределение стоимостей заказов по датам');"
   ]
  },
  {
   "cell_type": "markdown",
   "id": "f5f76b82",
   "metadata": {},
   "source": [
    "На этом графике, как и на предыдущем, хорошо видны 2 выброса. Этот график построен только для того, чтобы сопоставить выбросы с датами и подтвердить наши промежуточные выводы - 19 августа максимальный выброс, 15 - августа второй по величине."
   ]
  },
  {
   "cell_type": "markdown",
   "id": "a3fa7401",
   "metadata": {},
   "source": [
    "#### Выводы и предположения: Точечный график стоимостей заказов.\n",
    "\n",
    "Наблюдаются выбросы. Основная масса заказов приходится на заказы существенно ниже 100К. Точную сумму границы определим после расчета перцентилей."
   ]
  },
  {
   "cell_type": "markdown",
   "id": "989d3d71",
   "metadata": {},
   "source": [
    "### Расчет 95 и 99 перцентиля стоимости заказов. "
   ]
  },
  {
   "cell_type": "code",
   "execution_count": 36,
   "id": "a650e9ac",
   "metadata": {},
   "outputs": [
    {
     "name": "stdout",
     "output_type": "stream",
     "text": [
      "95 перцентиль суммы заказа равен: 28000.0\n",
      "99 перцентиль суммы заказа равен: 58233.2\n"
     ]
    }
   ],
   "source": [
    "percentile_list = [95, 99]\n",
    "for i in percentile_list :\n",
    "    p_tmp = np.percentile(orders['revenue'], [i]).round(1)\n",
    "    p_tmp = p_tmp[0]\n",
    "    print(f'{i} перцентиль суммы заказа равен: {p_tmp}')"
   ]
  },
  {
   "cell_type": "markdown",
   "id": "d0c37309",
   "metadata": {},
   "source": [
    "#### Определение границы для аномальных заказов.\n",
    "\n",
    "На основании графика и расчета принимаем границу стоимости заказа: 28000. \n",
    "\n",
    "Выше - аномалии."
   ]
  },
  {
   "cell_type": "markdown",
   "id": "1506ecde",
   "metadata": {},
   "source": [
    "### Расчет статистической значимости различий в среднем количестве заказов на посетителя между группами по «сырым» данным. "
   ]
  },
  {
   "cell_type": "markdown",
   "id": "62ebab9c",
   "metadata": {},
   "source": [
    "Сформулируем гипотезы:\n",
    "* Нулевая: **статистически значимых различий в среднем количестве заказов между группами нет.**\n",
    "* Альтернативная: **статистически значимые различия в среднем количестве заказов между группами есть.**"
   ]
  },
  {
   "cell_type": "markdown",
   "id": "ddd74bd7",
   "metadata": {},
   "source": [
    "Подготовим данные для расчета:"
   ]
  },
  {
   "cell_type": "code",
   "execution_count": 37,
   "id": "df9b51c8",
   "metadata": {},
   "outputs": [
    {
     "data": {
      "text/html": [
       "<div>\n",
       "<style scoped>\n",
       "    .dataframe tbody tr th:only-of-type {\n",
       "        vertical-align: middle;\n",
       "    }\n",
       "\n",
       "    .dataframe tbody tr th {\n",
       "        vertical-align: top;\n",
       "    }\n",
       "\n",
       "    .dataframe thead th {\n",
       "        text-align: right;\n",
       "    }\n",
       "</style>\n",
       "<table border=\"1\" class=\"dataframe\">\n",
       "  <thead>\n",
       "    <tr style=\"text-align: right;\">\n",
       "      <th></th>\n",
       "      <th>date</th>\n",
       "      <th>visitorsCummulativeA</th>\n",
       "    </tr>\n",
       "  </thead>\n",
       "  <tbody>\n",
       "    <tr>\n",
       "      <th>0</th>\n",
       "      <td>2019-08-01</td>\n",
       "      <td>719</td>\n",
       "    </tr>\n",
       "    <tr>\n",
       "      <th>1</th>\n",
       "      <td>2019-08-02</td>\n",
       "      <td>1338</td>\n",
       "    </tr>\n",
       "    <tr>\n",
       "      <th>2</th>\n",
       "      <td>2019-08-03</td>\n",
       "      <td>1845</td>\n",
       "    </tr>\n",
       "    <tr>\n",
       "      <th>3</th>\n",
       "      <td>2019-08-04</td>\n",
       "      <td>2562</td>\n",
       "    </tr>\n",
       "    <tr>\n",
       "      <th>4</th>\n",
       "      <td>2019-08-05</td>\n",
       "      <td>3318</td>\n",
       "    </tr>\n",
       "  </tbody>\n",
       "</table>\n",
       "</div>"
      ],
      "text/plain": [
       "        date  visitorsCummulativeA\n",
       "0 2019-08-01                   719\n",
       "1 2019-08-02                  1338\n",
       "2 2019-08-03                  1845\n",
       "3 2019-08-04                  2562\n",
       "4 2019-08-05                  3318"
      ]
     },
     "execution_count": 37,
     "metadata": {},
     "output_type": "execute_result"
    }
   ],
   "source": [
    "# выберем по дням количество посетителей из группы А\n",
    "visitorsADaily = visitors[visitors['group'] == 'A'][['date', 'visitors']]\n",
    "visitorsADaily.columns = ['date', 'visitorsPerDateA']\n",
    "\n",
    "# посчитаем их кумулятивное количество\n",
    "visitorsACummulative = visitorsADaily.apply(\n",
    "    lambda x: visitorsADaily[visitorsADaily['date'] <= x['date']].agg(\n",
    "        {'date': 'max', 'visitorsPerDateA': 'sum'}\n",
    "    ),\n",
    "    axis=1,\n",
    ")\n",
    "\n",
    "# присвоим правильные названия столбцам\n",
    "visitorsACummulative.columns = ['date', 'visitorsCummulativeA']\n",
    "visitorsACummulative.head()"
   ]
  },
  {
   "cell_type": "code",
   "execution_count": 38,
   "id": "f7029535",
   "metadata": {},
   "outputs": [
    {
     "data": {
      "text/html": [
       "<div>\n",
       "<style scoped>\n",
       "    .dataframe tbody tr th:only-of-type {\n",
       "        vertical-align: middle;\n",
       "    }\n",
       "\n",
       "    .dataframe tbody tr th {\n",
       "        vertical-align: top;\n",
       "    }\n",
       "\n",
       "    .dataframe thead th {\n",
       "        text-align: right;\n",
       "    }\n",
       "</style>\n",
       "<table border=\"1\" class=\"dataframe\">\n",
       "  <thead>\n",
       "    <tr style=\"text-align: right;\">\n",
       "      <th></th>\n",
       "      <th>date</th>\n",
       "      <th>visitorsCummulativeB</th>\n",
       "    </tr>\n",
       "  </thead>\n",
       "  <tbody>\n",
       "    <tr>\n",
       "      <th>31</th>\n",
       "      <td>2019-08-01</td>\n",
       "      <td>713</td>\n",
       "    </tr>\n",
       "    <tr>\n",
       "      <th>32</th>\n",
       "      <td>2019-08-02</td>\n",
       "      <td>1294</td>\n",
       "    </tr>\n",
       "    <tr>\n",
       "      <th>33</th>\n",
       "      <td>2019-08-03</td>\n",
       "      <td>1803</td>\n",
       "    </tr>\n",
       "    <tr>\n",
       "      <th>34</th>\n",
       "      <td>2019-08-04</td>\n",
       "      <td>2573</td>\n",
       "    </tr>\n",
       "    <tr>\n",
       "      <th>35</th>\n",
       "      <td>2019-08-05</td>\n",
       "      <td>3280</td>\n",
       "    </tr>\n",
       "  </tbody>\n",
       "</table>\n",
       "</div>"
      ],
      "text/plain": [
       "         date  visitorsCummulativeB\n",
       "31 2019-08-01                   713\n",
       "32 2019-08-02                  1294\n",
       "33 2019-08-03                  1803\n",
       "34 2019-08-04                  2573\n",
       "35 2019-08-05                  3280"
      ]
     },
     "execution_count": 38,
     "metadata": {},
     "output_type": "execute_result"
    }
   ],
   "source": [
    "# выберем по дням количество посетителей из группы В\n",
    "visitorsBDaily = visitors[visitors['group'] == 'B'][['date', 'visitors']]\n",
    "visitorsBDaily.columns = ['date', 'visitorsPerDateB']\n",
    "\n",
    "# посчитаем их кумулятивное количество\n",
    "visitorsBCummulative = visitorsBDaily.apply(\n",
    "    lambda x: visitorsBDaily[visitorsBDaily['date'] <= x['date']].agg(\n",
    "        {'date': 'max', 'visitorsPerDateB': 'sum'}\n",
    "    ),\n",
    "    axis=1,\n",
    ")\n",
    "\n",
    "# присвоим правильные названия столбцам\n",
    "visitorsBCummulative.columns = ['date', 'visitorsCummulativeB']\n",
    "visitorsBCummulative.head()"
   ]
  },
  {
   "cell_type": "code",
   "execution_count": 39,
   "id": "867227b7",
   "metadata": {},
   "outputs": [
    {
     "data": {
      "text/html": [
       "<div>\n",
       "<style scoped>\n",
       "    .dataframe tbody tr th:only-of-type {\n",
       "        vertical-align: middle;\n",
       "    }\n",
       "\n",
       "    .dataframe tbody tr th {\n",
       "        vertical-align: top;\n",
       "    }\n",
       "\n",
       "    .dataframe thead th {\n",
       "        text-align: right;\n",
       "    }\n",
       "</style>\n",
       "<table border=\"1\" class=\"dataframe\">\n",
       "  <thead>\n",
       "    <tr style=\"text-align: right;\">\n",
       "      <th></th>\n",
       "      <th>date</th>\n",
       "      <th>ordersCummulativeA</th>\n",
       "      <th>revenueCummulativeA</th>\n",
       "    </tr>\n",
       "  </thead>\n",
       "  <tbody>\n",
       "    <tr>\n",
       "      <th>0</th>\n",
       "      <td>2019-08-01</td>\n",
       "      <td>24</td>\n",
       "      <td>148579</td>\n",
       "    </tr>\n",
       "    <tr>\n",
       "      <th>1</th>\n",
       "      <td>2019-08-02</td>\n",
       "      <td>44</td>\n",
       "      <td>242401</td>\n",
       "    </tr>\n",
       "    <tr>\n",
       "      <th>2</th>\n",
       "      <td>2019-08-03</td>\n",
       "      <td>68</td>\n",
       "      <td>354874</td>\n",
       "    </tr>\n",
       "    <tr>\n",
       "      <th>3</th>\n",
       "      <td>2019-08-04</td>\n",
       "      <td>84</td>\n",
       "      <td>425699</td>\n",
       "    </tr>\n",
       "    <tr>\n",
       "      <th>4</th>\n",
       "      <td>2019-08-05</td>\n",
       "      <td>109</td>\n",
       "      <td>549917</td>\n",
       "    </tr>\n",
       "  </tbody>\n",
       "</table>\n",
       "</div>"
      ],
      "text/plain": [
       "        date  ordersCummulativeA  revenueCummulativeA\n",
       "0 2019-08-01                  24               148579\n",
       "1 2019-08-02                  44               242401\n",
       "2 2019-08-03                  68               354874\n",
       "3 2019-08-04                  84               425699\n",
       "4 2019-08-05                 109               549917"
      ]
     },
     "execution_count": 39,
     "metadata": {},
     "output_type": "execute_result"
    }
   ],
   "source": [
    "# выберем по дням количество заказов и их суммы из группы А\n",
    "ordersADaily = (\n",
    "    orders[orders['group'] == 'A'][['date', 'order_id', 'user_id', 'revenue']]\n",
    "    .groupby('date', as_index=False)\n",
    "    .agg({'order_id': pd.Series.nunique, 'revenue': 'sum'})\n",
    ")\n",
    "ordersADaily.columns = ['date', 'ordersPerDateA', 'revenuePerDateA']\n",
    "\n",
    "# посчитаем их кумулятивные значения\n",
    "ordersACummulative = ordersADaily.apply(\n",
    "    lambda x: ordersADaily[ordersADaily['date'] <= x['date']].agg(\n",
    "        {'date': 'max', 'ordersPerDateA': 'sum', 'revenuePerDateA': 'sum'}\n",
    "    ),\n",
    "    axis=1,\n",
    ").sort_values(by=['date'])\n",
    "\n",
    "# присвоим правильные названия столбцам\n",
    "ordersACummulative.columns = [\n",
    "    'date',\n",
    "    'ordersCummulativeA',\n",
    "    'revenueCummulativeA',\n",
    "]\n",
    "ordersACummulative.head()"
   ]
  },
  {
   "cell_type": "code",
   "execution_count": 40,
   "id": "5dfd8adb",
   "metadata": {},
   "outputs": [
    {
     "data": {
      "text/html": [
       "<div>\n",
       "<style scoped>\n",
       "    .dataframe tbody tr th:only-of-type {\n",
       "        vertical-align: middle;\n",
       "    }\n",
       "\n",
       "    .dataframe tbody tr th {\n",
       "        vertical-align: top;\n",
       "    }\n",
       "\n",
       "    .dataframe thead th {\n",
       "        text-align: right;\n",
       "    }\n",
       "</style>\n",
       "<table border=\"1\" class=\"dataframe\">\n",
       "  <thead>\n",
       "    <tr style=\"text-align: right;\">\n",
       "      <th></th>\n",
       "      <th>date</th>\n",
       "      <th>ordersCummulativeB</th>\n",
       "      <th>revenueCummulativeB</th>\n",
       "    </tr>\n",
       "  </thead>\n",
       "  <tbody>\n",
       "    <tr>\n",
       "      <th>0</th>\n",
       "      <td>2019-08-01</td>\n",
       "      <td>21</td>\n",
       "      <td>101217</td>\n",
       "    </tr>\n",
       "    <tr>\n",
       "      <th>1</th>\n",
       "      <td>2019-08-02</td>\n",
       "      <td>45</td>\n",
       "      <td>266748</td>\n",
       "    </tr>\n",
       "    <tr>\n",
       "      <th>2</th>\n",
       "      <td>2019-08-03</td>\n",
       "      <td>61</td>\n",
       "      <td>380996</td>\n",
       "    </tr>\n",
       "    <tr>\n",
       "      <th>3</th>\n",
       "      <td>2019-08-04</td>\n",
       "      <td>78</td>\n",
       "      <td>489567</td>\n",
       "    </tr>\n",
       "    <tr>\n",
       "      <th>4</th>\n",
       "      <td>2019-08-05</td>\n",
       "      <td>101</td>\n",
       "      <td>581995</td>\n",
       "    </tr>\n",
       "  </tbody>\n",
       "</table>\n",
       "</div>"
      ],
      "text/plain": [
       "        date  ordersCummulativeB  revenueCummulativeB\n",
       "0 2019-08-01                  21               101217\n",
       "1 2019-08-02                  45               266748\n",
       "2 2019-08-03                  61               380996\n",
       "3 2019-08-04                  78               489567\n",
       "4 2019-08-05                 101               581995"
      ]
     },
     "execution_count": 40,
     "metadata": {},
     "output_type": "execute_result"
    }
   ],
   "source": [
    "# выберем по дням количество заказов и их суммы из группы В\n",
    "ordersBDaily = (\n",
    "    orders[orders['group'] == 'B'][['date', 'order_id', 'user_id', 'revenue']]\n",
    "    .groupby('date', as_index=False)\n",
    "    .agg({'order_id': pd.Series.nunique, 'revenue': 'sum'})\n",
    ")\n",
    "ordersBDaily.columns = ['date', 'ordersPerDateB', 'revenuePerDateB']\n",
    "\n",
    "# посчитаем их кумулятивные значения\n",
    "ordersBCummulative = ordersBDaily.apply(\n",
    "    lambda x: ordersBDaily[ordersBDaily['date'] <= x['date']].agg(\n",
    "        {'date': 'max', 'ordersPerDateB': 'sum', 'revenuePerDateB': 'sum'}\n",
    "    ),\n",
    "    axis=1,\n",
    ").sort_values(by=['date'])\n",
    "\n",
    "# присвоим правильные названия столбцам\n",
    "ordersBCummulative.columns = [\n",
    "    'date',\n",
    "    'ordersCummulativeB',\n",
    "    'revenueCummulativeB',\n",
    "]\n",
    "ordersBCummulative.head()"
   ]
  },
  {
   "cell_type": "code",
   "execution_count": 41,
   "id": "104b6627",
   "metadata": {},
   "outputs": [
    {
     "data": {
      "text/html": [
       "<div>\n",
       "<style scoped>\n",
       "    .dataframe tbody tr th:only-of-type {\n",
       "        vertical-align: middle;\n",
       "    }\n",
       "\n",
       "    .dataframe tbody tr th {\n",
       "        vertical-align: top;\n",
       "    }\n",
       "\n",
       "    .dataframe thead th {\n",
       "        text-align: right;\n",
       "    }\n",
       "</style>\n",
       "<table border=\"1\" class=\"dataframe\">\n",
       "  <thead>\n",
       "    <tr style=\"text-align: right;\">\n",
       "      <th></th>\n",
       "      <th>date</th>\n",
       "      <th>ordersPerDateA</th>\n",
       "      <th>revenuePerDateA</th>\n",
       "      <th>ordersPerDateB</th>\n",
       "      <th>revenuePerDateB</th>\n",
       "      <th>ordersCummulativeA</th>\n",
       "      <th>revenueCummulativeA</th>\n",
       "      <th>ordersCummulativeB</th>\n",
       "      <th>revenueCummulativeB</th>\n",
       "      <th>visitorsPerDateA</th>\n",
       "      <th>visitorsPerDateB</th>\n",
       "      <th>visitorsCummulativeA</th>\n",
       "      <th>visitorsCummulativeB</th>\n",
       "    </tr>\n",
       "  </thead>\n",
       "  <tbody>\n",
       "    <tr>\n",
       "      <th>0</th>\n",
       "      <td>2019-08-01</td>\n",
       "      <td>24</td>\n",
       "      <td>148579</td>\n",
       "      <td>21</td>\n",
       "      <td>101217</td>\n",
       "      <td>24</td>\n",
       "      <td>148579</td>\n",
       "      <td>21</td>\n",
       "      <td>101217</td>\n",
       "      <td>719</td>\n",
       "      <td>713</td>\n",
       "      <td>719</td>\n",
       "      <td>713</td>\n",
       "    </tr>\n",
       "    <tr>\n",
       "      <th>1</th>\n",
       "      <td>2019-08-02</td>\n",
       "      <td>20</td>\n",
       "      <td>93822</td>\n",
       "      <td>24</td>\n",
       "      <td>165531</td>\n",
       "      <td>44</td>\n",
       "      <td>242401</td>\n",
       "      <td>45</td>\n",
       "      <td>266748</td>\n",
       "      <td>619</td>\n",
       "      <td>581</td>\n",
       "      <td>1338</td>\n",
       "      <td>1294</td>\n",
       "    </tr>\n",
       "    <tr>\n",
       "      <th>2</th>\n",
       "      <td>2019-08-03</td>\n",
       "      <td>24</td>\n",
       "      <td>112473</td>\n",
       "      <td>16</td>\n",
       "      <td>114248</td>\n",
       "      <td>68</td>\n",
       "      <td>354874</td>\n",
       "      <td>61</td>\n",
       "      <td>380996</td>\n",
       "      <td>507</td>\n",
       "      <td>509</td>\n",
       "      <td>1845</td>\n",
       "      <td>1803</td>\n",
       "    </tr>\n",
       "    <tr>\n",
       "      <th>3</th>\n",
       "      <td>2019-08-04</td>\n",
       "      <td>16</td>\n",
       "      <td>70825</td>\n",
       "      <td>17</td>\n",
       "      <td>108571</td>\n",
       "      <td>84</td>\n",
       "      <td>425699</td>\n",
       "      <td>78</td>\n",
       "      <td>489567</td>\n",
       "      <td>717</td>\n",
       "      <td>770</td>\n",
       "      <td>2562</td>\n",
       "      <td>2573</td>\n",
       "    </tr>\n",
       "    <tr>\n",
       "      <th>4</th>\n",
       "      <td>2019-08-05</td>\n",
       "      <td>25</td>\n",
       "      <td>124218</td>\n",
       "      <td>23</td>\n",
       "      <td>92428</td>\n",
       "      <td>109</td>\n",
       "      <td>549917</td>\n",
       "      <td>101</td>\n",
       "      <td>581995</td>\n",
       "      <td>756</td>\n",
       "      <td>707</td>\n",
       "      <td>3318</td>\n",
       "      <td>3280</td>\n",
       "    </tr>\n",
       "  </tbody>\n",
       "</table>\n",
       "</div>"
      ],
      "text/plain": [
       "        date  ordersPerDateA  revenuePerDateA  ordersPerDateB  \\\n",
       "0 2019-08-01              24           148579              21   \n",
       "1 2019-08-02              20            93822              24   \n",
       "2 2019-08-03              24           112473              16   \n",
       "3 2019-08-04              16            70825              17   \n",
       "4 2019-08-05              25           124218              23   \n",
       "\n",
       "   revenuePerDateB  ordersCummulativeA  revenueCummulativeA  \\\n",
       "0           101217                  24               148579   \n",
       "1           165531                  44               242401   \n",
       "2           114248                  68               354874   \n",
       "3           108571                  84               425699   \n",
       "4            92428                 109               549917   \n",
       "\n",
       "   ordersCummulativeB  revenueCummulativeB  visitorsPerDateA  \\\n",
       "0                  21               101217               719   \n",
       "1                  45               266748               619   \n",
       "2                  61               380996               507   \n",
       "3                  78               489567               717   \n",
       "4                 101               581995               756   \n",
       "\n",
       "   visitorsPerDateB  visitorsCummulativeA  visitorsCummulativeB  \n",
       "0               713                   719                   713  \n",
       "1               581                  1338                  1294  \n",
       "2               509                  1845                  1803  \n",
       "3               770                  2562                  2573  \n",
       "4               707                  3318                  3280  "
      ]
     },
     "execution_count": 41,
     "metadata": {},
     "output_type": "execute_result"
    }
   ],
   "source": [
    "# объединим по дате ранее подготовленные данные в один датафрейм\n",
    "data = (\n",
    "    ordersADaily\n",
    "    .merge(ordersBDaily, left_on='date', right_on='date', how='left')\n",
    "    .merge(ordersACummulative, left_on='date', right_on='date', how='left')\n",
    "    .merge(ordersBCummulative, left_on='date', right_on='date', how='left')\n",
    "    .merge(visitorsADaily, left_on='date', right_on='date', how='left')\n",
    "    .merge(visitorsBDaily, left_on='date', right_on='date', how='left')\n",
    "    .merge(visitorsACummulative, left_on='date', right_on='date', how='left')\n",
    "    .merge(visitorsBCummulative, left_on='date', right_on='date', how='left')\n",
    ")\n",
    "\n",
    "data.head(5)"
   ]
  },
  {
   "cell_type": "code",
   "execution_count": 42,
   "id": "e3ca6114",
   "metadata": {},
   "outputs": [
    {
     "data": {
      "text/html": [
       "<div>\n",
       "<style scoped>\n",
       "    .dataframe tbody tr th:only-of-type {\n",
       "        vertical-align: middle;\n",
       "    }\n",
       "\n",
       "    .dataframe tbody tr th {\n",
       "        vertical-align: top;\n",
       "    }\n",
       "\n",
       "    .dataframe thead th {\n",
       "        text-align: right;\n",
       "    }\n",
       "</style>\n",
       "<table border=\"1\" class=\"dataframe\">\n",
       "  <thead>\n",
       "    <tr style=\"text-align: right;\">\n",
       "      <th></th>\n",
       "      <th>user_id</th>\n",
       "      <th>orders</th>\n",
       "    </tr>\n",
       "  </thead>\n",
       "  <tbody>\n",
       "    <tr>\n",
       "      <th>0</th>\n",
       "      <td>8300375</td>\n",
       "      <td>1</td>\n",
       "    </tr>\n",
       "    <tr>\n",
       "      <th>1</th>\n",
       "      <td>11685486</td>\n",
       "      <td>1</td>\n",
       "    </tr>\n",
       "    <tr>\n",
       "      <th>2</th>\n",
       "      <td>54447517</td>\n",
       "      <td>1</td>\n",
       "    </tr>\n",
       "    <tr>\n",
       "      <th>3</th>\n",
       "      <td>66685450</td>\n",
       "      <td>1</td>\n",
       "    </tr>\n",
       "    <tr>\n",
       "      <th>4</th>\n",
       "      <td>78758296</td>\n",
       "      <td>1</td>\n",
       "    </tr>\n",
       "  </tbody>\n",
       "</table>\n",
       "</div>"
      ],
      "text/plain": [
       "    user_id  orders\n",
       "0   8300375       1\n",
       "1  11685486       1\n",
       "2  54447517       1\n",
       "3  66685450       1\n",
       "4  78758296       1"
      ]
     },
     "execution_count": 42,
     "metadata": {},
     "output_type": "execute_result"
    }
   ],
   "source": [
    "# выберем заказы только для группы А\n",
    "ordersByUsersA = (\n",
    "    orders[orders['group'] == 'A']\n",
    "    .groupby('user_id', as_index=False)\n",
    "    .agg({'order_id': pd.Series.nunique})\n",
    ")\n",
    "\n",
    "# переименуем столбцы\n",
    "ordersByUsersA.columns = ['user_id', 'orders']\n",
    "ordersByUsersA.head()"
   ]
  },
  {
   "cell_type": "code",
   "execution_count": 43,
   "id": "9b6834ec",
   "metadata": {},
   "outputs": [
    {
     "data": {
      "text/html": [
       "<div>\n",
       "<style scoped>\n",
       "    .dataframe tbody tr th:only-of-type {\n",
       "        vertical-align: middle;\n",
       "    }\n",
       "\n",
       "    .dataframe tbody tr th {\n",
       "        vertical-align: top;\n",
       "    }\n",
       "\n",
       "    .dataframe thead th {\n",
       "        text-align: right;\n",
       "    }\n",
       "</style>\n",
       "<table border=\"1\" class=\"dataframe\">\n",
       "  <thead>\n",
       "    <tr style=\"text-align: right;\">\n",
       "      <th></th>\n",
       "      <th>user_id</th>\n",
       "      <th>orders</th>\n",
       "    </tr>\n",
       "  </thead>\n",
       "  <tbody>\n",
       "    <tr>\n",
       "      <th>0</th>\n",
       "      <td>5114589</td>\n",
       "      <td>1</td>\n",
       "    </tr>\n",
       "    <tr>\n",
       "      <th>1</th>\n",
       "      <td>6958315</td>\n",
       "      <td>1</td>\n",
       "    </tr>\n",
       "    <tr>\n",
       "      <th>2</th>\n",
       "      <td>8300375</td>\n",
       "      <td>1</td>\n",
       "    </tr>\n",
       "    <tr>\n",
       "      <th>3</th>\n",
       "      <td>39475350</td>\n",
       "      <td>1</td>\n",
       "    </tr>\n",
       "    <tr>\n",
       "      <th>4</th>\n",
       "      <td>47206413</td>\n",
       "      <td>1</td>\n",
       "    </tr>\n",
       "  </tbody>\n",
       "</table>\n",
       "</div>"
      ],
      "text/plain": [
       "    user_id  orders\n",
       "0   5114589       1\n",
       "1   6958315       1\n",
       "2   8300375       1\n",
       "3  39475350       1\n",
       "4  47206413       1"
      ]
     },
     "execution_count": 43,
     "metadata": {},
     "output_type": "execute_result"
    }
   ],
   "source": [
    "# выберем заказы только для группы В\n",
    "ordersByUsersB = (\n",
    "    orders[orders['group'] == 'B']\n",
    "    .groupby('user_id', as_index=False)\n",
    "    .agg({'order_id': pd.Series.nunique})\n",
    ")\n",
    "\n",
    "# переименуем столбцы\n",
    "ordersByUsersB.columns = ['user_id', 'orders']\n",
    "ordersByUsersB.head()"
   ]
  },
  {
   "cell_type": "code",
   "execution_count": 44,
   "id": "e3d48885",
   "metadata": {},
   "outputs": [
    {
     "name": "stdout",
     "output_type": "stream",
     "text": [
      "Значение критерия Манна-Уитни для среднего количества заказов групп A и B = 0.017\n"
     ]
    }
   ],
   "source": [
    "# для группы А создадим переменную sampleA с число заказов пользователя, а пользователям без заказов — нули\n",
    "sampleA = pd.concat([ordersByUsersA['orders'],\n",
    "                     pd.Series(0, index=np.arange(data['visitorsPerDateA'].sum() - len(ordersByUsersA['orders'])), \n",
    "                               name='orders')],axis=0)\n",
    "\n",
    "# для группы В создадим переменную sampleB с число заказов пользователя, а пользователям без заказов — нули\n",
    "sampleB = pd.concat([ordersByUsersB['orders'],\n",
    "                     pd.Series(0, index=np.arange(data['visitorsPerDateB'].sum() - len(ordersByUsersB['orders'])), \n",
    "                               name='orders')],axis=0)\n",
    "\n",
    "res = stats.mannwhitneyu(sampleA, sampleB)\n",
    "print(f'Значение критерия Манна-Уитни для среднего количества заказов групп A и B = {res[1]:.3f}')"
   ]
  },
  {
   "cell_type": "markdown",
   "id": "23b4a842",
   "metadata": {},
   "source": [
    "Значение критерия Манна-Уитни по \"сырым\" данным составляет 0.017, что меньше 0.05.\n",
    "Таким образом, на основании полученного результата нулевую гипотезу отвергаем и принимаем альтернативную:\n",
    "\n",
    "**статистически значимые различия в среднем количестве заказов между группами есть.**"
   ]
  },
  {
   "cell_type": "code",
   "execution_count": 45,
   "id": "a1775df1",
   "metadata": {
    "scrolled": true
   },
   "outputs": [
    {
     "name": "stdout",
     "output_type": "stream",
     "text": [
      "Разница между средним количеством заказов групп B и A составляет 13.8%\n"
     ]
    }
   ],
   "source": [
    "print('Разница между средним количеством заказов групп B и A составляет {0:.1%}'\n",
    "      .format(sampleB.mean() / sampleA.mean() - 1))"
   ]
  },
  {
   "cell_type": "markdown",
   "id": "76c2295d",
   "metadata": {},
   "source": [
    "#### Выводы и предположения: Расчет статистической значимости различий в среднем количестве заказов на посетителя между группами по «сырым» данным.\n",
    "\n",
    "Значение критерия Манна-Уитни по \"сырым\" данным составляет 0.017, что меньше 0.05.\n",
    "Таким образом, на основании полученного результата нулевую гипотезу отвергаем и принимаем альтернативную:\n",
    "\n",
    "**статистически значимые различия в среднем количестве заказов между группами есть.**\n",
    "\n",
    "Разница между средним количеством заказов групп B и A составляет 13.8%"
   ]
  },
  {
   "cell_type": "markdown",
   "id": "96021baf",
   "metadata": {},
   "source": [
    "### Расчет статистической значимости различий в среднем чеке заказа между группами по «сырым» данным. "
   ]
  },
  {
   "cell_type": "markdown",
   "id": "0b9f7f28",
   "metadata": {},
   "source": [
    "Сформулируем гипотезы:\n",
    "* Нулевая: **статистически значимых различий в среднем чеке между группами нет.**\n",
    "* Альтернативная: **статистически значимые различия в среднем чеке между группами есть.**"
   ]
  },
  {
   "cell_type": "code",
   "execution_count": 46,
   "id": "0f6c826b",
   "metadata": {},
   "outputs": [
    {
     "name": "stdout",
     "output_type": "stream",
     "text": [
      "Значение критерия Манна-Уитни для среднего чека групп A и B = 0.729\n"
     ]
    }
   ],
   "source": [
    "res = stats.mannwhitneyu(orders[orders['group']=='A']['revenue'], orders[orders['group']=='B']['revenue'])\n",
    "print(f'Значение критерия Манна-Уитни для среднего чека групп A и B = {res[1]:.3f}')"
   ]
  },
  {
   "cell_type": "markdown",
   "id": "42017f8c",
   "metadata": {},
   "source": [
    "Значение критерия Манна-Уитни по \"сырым\" данным составляет 0.729, что существенно выше 0.05. Таким образом, на основании полученного результата нулевую гипотезу отвергнуть не можем.\n",
    "\n",
    "Принимаем нулевую гипитезу:\n",
    "\n",
    "**статистически значимых различий в среднем чеке между группами нет.**"
   ]
  },
  {
   "cell_type": "code",
   "execution_count": 47,
   "id": "5779d2f6",
   "metadata": {},
   "outputs": [
    {
     "name": "stdout",
     "output_type": "stream",
     "text": [
      "Разница между средним чеком групп B и A составляет 25.9%\n"
     ]
    }
   ],
   "source": [
    "print('Разница между средним чеком групп B и A составляет {0:.1%}'\n",
    "      .format(orders[orders['group']=='B']['revenue'].mean()/orders[orders['group']=='A']['revenue'].mean()-1))"
   ]
  },
  {
   "cell_type": "markdown",
   "id": "6eabf117",
   "metadata": {},
   "source": [
    "#### Выводы и предположения: Расчет статистической значимости различий в среднем чеке заказа между группами по «сырым» данным.\n",
    "\n",
    "Значение критерия Манна-Уитни по \"сырым\" данным составляет 0.729, что существенно выше 0.05. Таким образом, на основании полученного результата нулевую гипотезу отвергнуть не можем.\n",
    "\n",
    "Принимаем нулеыую гипитезу:\n",
    "\n",
    "**статистически значимых различий в среднем чеке между группами нет.**\n",
    "\n",
    "Разница между средним чеком групп B и A составляет 25.9%, что в нашем случае не является статистически значимым."
   ]
  },
  {
   "cell_type": "markdown",
   "id": "82665a91",
   "metadata": {},
   "source": [
    "### Расчет статистической значимости различий в среднем количестве заказов на посетителя между группами по «очищенным» данным. "
   ]
  },
  {
   "cell_type": "markdown",
   "id": "c3f73bc4",
   "metadata": {},
   "source": [
    "Сформулируем гипотезы для проверки по \"очищенным\" данным:\n",
    "* Нулевая: **статистически значимых различий в среднем количестве заказов между группами нет.**\n",
    "* Альтернативная: **статистически значимые различия в среднем количестве заказов между группами есть.**"
   ]
  },
  {
   "cell_type": "code",
   "execution_count": 48,
   "id": "0bbf30c6",
   "metadata": {},
   "outputs": [
    {
     "name": "stdout",
     "output_type": "stream",
     "text": [
      "После удаления выбросов останутся данные по 92.8% пользователей.\n"
     ]
    }
   ],
   "source": [
    "# подготовим данные для фильтрации аномальных пользователей\n",
    "\n",
    "# выберем пользователей, с количеством заказов >2 - ранее мы определили их как аномальных\n",
    "usersWithManyOrders = pd.concat(\n",
    "    [\n",
    "        ordersByUsersA[ordersByUsersA['orders'] > 2]['user_id'],\n",
    "        ordersByUsersB[ordersByUsersB['orders'] > 2]['user_id'],\n",
    "    ],\n",
    "    axis=0,\n",
    ")\n",
    "\n",
    "# выберем пользователей, с суммой заказа >28000 - ранее мы определили их как аномальных\n",
    "usersWithExpensiveOrders = orders[orders['revenue'] > 28000]['user_id']\n",
    "\n",
    "# объединим эти данные\n",
    "abnormalUsers = (\n",
    "    pd.concat([usersWithManyOrders, usersWithExpensiveOrders], axis=0)\n",
    "    .drop_duplicates()\n",
    "    .sort_values()\n",
    ")\n",
    "\n",
    "# проверим, какую часть данных мы исключаем\n",
    "print( 'После удаления выбросов останутся данные по {:.1%} пользователей.'.format(1 - len(abnormalUsers) / 1031))"
   ]
  },
  {
   "cell_type": "code",
   "execution_count": 49,
   "id": "360b5a61",
   "metadata": {},
   "outputs": [],
   "source": [
    "# для группы А создадим переменную sampleAFiltered с число заказов пользователя, а пользователям без заказов — нули\n",
    "# при этом удалив данные аномальных пользователей\n",
    "sampleAFiltered = pd.concat(\n",
    "    [\n",
    "        ordersByUsersA[\n",
    "            np.logical_not(ordersByUsersA['user_id'].isin(abnormalUsers))\n",
    "        ]['orders'],\n",
    "        pd.Series(\n",
    "            0,\n",
    "            index=np.arange(\n",
    "                data['visitorsPerDateA'].sum() - len(ordersByUsersA['orders'])\n",
    "            ),\n",
    "            name='orders',\n",
    "        ),\n",
    "    ],\n",
    "    axis=0,\n",
    ")\n",
    "\n",
    "# для группы B создадим переменную sampleBFiltered с число заказов пользователя, а пользователям без заказов — нули\n",
    "# при этом удалив данные аномальных пользователей\n",
    "sampleBFiltered = pd.concat(\n",
    "    [\n",
    "        ordersByUsersB[\n",
    "            np.logical_not(ordersByUsersB['user_id'].isin(abnormalUsers))\n",
    "        ]['orders'],\n",
    "        pd.Series(\n",
    "            0,\n",
    "            index=np.arange(\n",
    "                data['visitorsPerDateB'].sum() - len(ordersByUsersB['orders'])\n",
    "            ),\n",
    "            name='orders',\n",
    "        ),\n",
    "    ],\n",
    "    axis=0,\n",
    ")"
   ]
  },
  {
   "cell_type": "code",
   "execution_count": 50,
   "id": "036bef14",
   "metadata": {
    "scrolled": true
   },
   "outputs": [
    {
     "name": "stdout",
     "output_type": "stream",
     "text": [
      "Значение критерия Манна-Уитни для среднего количества заказов по очищенным данным групп A и B = 0.013\n"
     ]
    }
   ],
   "source": [
    "res = stats.mannwhitneyu(sampleAFiltered, sampleBFiltered)\n",
    "print(f'Значение критерия Манна-Уитни для среднего количества заказов по очищенным данным групп A и B = {res[1]:.3f}')"
   ]
  },
  {
   "cell_type": "markdown",
   "id": "95340e64",
   "metadata": {},
   "source": [
    "Значение критерия Манна-Уитни по \"очищенным\" данным составляет 0.013, что меньше 0.05.\n",
    "Таким образом, на основании полученного результата нулевую гипотезу отвергаем и принимаем альтернативную:\n",
    "\n",
    "**статистически значимые различия в среднем количестве заказов между группами есть.**"
   ]
  },
  {
   "cell_type": "code",
   "execution_count": 51,
   "id": "772cbda7",
   "metadata": {},
   "outputs": [
    {
     "name": "stdout",
     "output_type": "stream",
     "text": [
      "Разница между значением среднего количества заказов групп В и А составляет 17.3%\n"
     ]
    }
   ],
   "source": [
    "mean_diff = sampleBFiltered.mean()/sampleAFiltered.mean()-1\n",
    "print(f'Разница между значением среднего количества заказов групп В и А составляет {mean_diff:.1%}')"
   ]
  },
  {
   "cell_type": "markdown",
   "id": "5a005c70",
   "metadata": {},
   "source": [
    "#### Выводы и предположения: Расчет статистической значимости различий в среднем количестве заказов на посетителя между группами по «очищенным» данным.\n",
    "\n",
    "Значение критерия Манна-Уитни по \"очищенным\" данным составляет 0.013, что меньше 0.05.\n",
    "Таким образом, на основании полученного результата нулевую гипотезу отвергаем и принимаем альтернативную:\n",
    "\n",
    "**статистически значимые различия в среднем количестве заказов между группами есть.**\n",
    "\n",
    "Разница между средним количеством заказов групп B и A составляет 17.3%"
   ]
  },
  {
   "cell_type": "markdown",
   "id": "73869672",
   "metadata": {},
   "source": [
    "### Расчет статистической значимости различий в среднем чеке заказа между группами по «очищенным» данным. "
   ]
  },
  {
   "cell_type": "markdown",
   "id": "666d7b2c",
   "metadata": {},
   "source": [
    "Сформулируем гипотезы для проверки по \"очищенным\" данным:\n",
    "* Нулевая: **статистически значимых различий в среднем чеке между группами нет.**\n",
    "* Альтернативная: **статистически значимые различия в среднем чеке между группами есть.**"
   ]
  },
  {
   "cell_type": "code",
   "execution_count": 52,
   "id": "7d2bb0dc",
   "metadata": {},
   "outputs": [
    {
     "name": "stdout",
     "output_type": "stream",
     "text": [
      "Значение критерия Манна-Уитни для среднего чека по очищенным данным групп A и B = 0.738\n"
     ]
    }
   ],
   "source": [
    "res = stats.mannwhitneyu(\n",
    "    orders[np.logical_and(orders['group'] == 'A', np.logical_not(orders['user_id'].isin(abnormalUsers)))]['revenue'],\n",
    "    orders[np.logical_and(orders['group'] == 'B', np.logical_not(orders['user_id'].isin(abnormalUsers)))]['revenue']\n",
    "    )\n",
    "    \n",
    "print(f'Значение критерия Манна-Уитни для среднего чека по очищенным данным групп A и B = {res[1]:.3f}')"
   ]
  },
  {
   "cell_type": "markdown",
   "id": "02ad4a0d",
   "metadata": {},
   "source": [
    "Значение критерия Манна-Уитни по \"сырым\" данным составляет 0.738, что существенно выше 0.05. Таким образом, на основании полученного результата нулевую гипотезу отвергнуть не можем.\n",
    "\n",
    "Принимаем нулевую гипитезу:\n",
    "\n",
    "**статистически значимых различий в среднем чеке между группами нет.**"
   ]
  },
  {
   "cell_type": "code",
   "execution_count": 53,
   "id": "2b7e96f3",
   "metadata": {},
   "outputs": [
    {
     "name": "stdout",
     "output_type": "stream",
     "text": [
      "Разница между значением среднего чека по очищенным данным групп В и А составляет -2.0%\n"
     ]
    }
   ],
   "source": [
    "mean_diff = (\n",
    "  orders[np.logical_and(orders['group'] == 'B',np.logical_not(orders['user_id'].isin(abnormalUsers)))]['revenue'].mean()\n",
    "  / orders[np.logical_and(orders['group'] == 'A',np.logical_not(orders['user_id'].isin(abnormalUsers)))]['revenue'].mean()\n",
    "    - 1)\n",
    "    \n",
    "\n",
    "print(f'Разница между значением среднего чека по очищенным данным групп В и А составляет {mean_diff:.1%}')"
   ]
  },
  {
   "cell_type": "markdown",
   "id": "343421d6",
   "metadata": {},
   "source": [
    "#### Выводы и предположения: Расчет статистической значимости различий в среднем чеке заказа между группами по «очищенным» данным.\n",
    "\n",
    "Значение критерия Манна-Уитни по \"очищенным\" данным составляет 0.738, что существенно выше 0.05. Таким образом, на основании полученного результата нулевую гипотезу отвергнуть не можем.\n",
    "\n",
    "Принимаем нулевую гипитезу:\n",
    "\n",
    "**статистически значимых различий в среднем чеке между группами нет.**\n",
    "\n",
    "Разница между средним чеком групп B и A составляет -2%, что в нашем случае не является статистически значимым."
   ]
  },
  {
   "cell_type": "markdown",
   "id": "a77755e9",
   "metadata": {},
   "source": [
    "### Вывод: анализ A/B-теста.\n",
    "\n",
    "Мы установили следующие факты:\n",
    "* Есть статистически значимое различие по среднему количеству заказов между группами и по «сырым», и по данным после фильтрации аномалий.\n",
    "* Нет статистически значимого различия по среднему чеку между группами ни по «сырым», ни по данным после фильтрации аномалий.\n",
    "* График различия среднего количества заказов говорит о том, что результаты группы А и B стабилизировались и группа В показывает результат значительно лучше, чем контрольная группа.\n",
    "* Колебания параметров стабилизировались к концу первой декады наблюдений (аномалии обрабатываем отдельно).\n",
    "\n",
    "При этом, несмотря на увеличение в группе В среднего чека по неотфильтрованным данным на 25.9%, мы имеем его падение по отфильтрованным данным: -2%.\n",
    "\n",
    "Увеличение среднего количества заказов в группе В по неотфильтрованным данным составляет 13.8%, а по отфильтрованным уже 17.3%.\n",
    "\n",
    "Таким образом, совокупность изменений привела к увеличеню выручки, причем параметр, имеющий статистическии значимое различие как по необработанным, так и по отфильтрованным данным - среднее количество заказов - вырос.\n",
    "\n",
    "Параметр, не имеющий статистическии значимого различия - средней чек - снизился на 2%.\n",
    "\n",
    "**На основании имеющихся фактов признаем тест успешным а изменение:\n",
    "<br>\"Добавить форму подписки на все основные страницы, чтобы собрать базу клиентов для email-рассылок\"\n",
    "<br>рекомендованным к внедрению на платформе.**"
   ]
  },
  {
   "cell_type": "markdown",
   "id": "e63784ed",
   "metadata": {},
   "source": [
    "# Общий вывод.\n",
    "---\n",
    "**Результат загрузки данных.**\n",
    "\n",
    "Данные загружены в датафреймы:\n",
    "* `hyp` - данные по гипотезам. Пропусков нет. Содержит записи о 9 гипотезах.\n",
    "* `orders` - данные по заказам. Пропусков нет. Содержит 1197 записей, дубликатов нет. Уникальных транзакций - 1197, уникальных пользователей - 1031. Минимальная дата заказа: 2019-08-01. Максимальная дата заказа: 2019-08-31\n",
    "* `visitors` - данные по датам и количеству пользователей. Пропусков нет, дубликатов нет. Содержит данные за период с 01.08.2019 по 31.08.2019 - полный календарный месяц. Период полностью совпадает с периодом предыдущего датафрейма.\n",
    "\n",
    "В датафрейме `orders` переименованы два столбца для улучшения восприятия. В датафреймах `orders`и `visitors`дата из формата `object` приведена к формату `datetime64`.\n",
    "\n",
    "---\n",
    "\n",
    "**Приоритизация гипотез.**\n",
    "\n",
    "Различные методики дают различные результаты, что, в принципе, нормально. Конкретно в нашем случае ICE является упрощенной моделью RICE, которая учитывает 3 параметра вместо 4х.\n",
    "\n",
    "Самый высокий ICE-рейтинг у гипотезы под номером 8: \"Запустить акцию, дающую скидку на товар в день рождения\".\n",
    "\n",
    "Самый высокий RICE-рейтинг у гипотезы под номером 7: \"Добавить форму подписки на все основные страницы, чтобы собрать базу клиентов для email-рассылок\".\n",
    "\n",
    "Для нас предпочтительнее метод RICE - охват, параметр, отсутствующий в ICE, весьма важен, чтобы его игнорировать. Особенно при условии, что мы распологаем полным набором данных и для расчета RICE, и для расчета усеченного варианта - ICE.\n",
    "\n",
    "Для проверки выбираем гипотезу: **\"Добавить форму подписки на все основные страницы, чтобы собрать базу клиентов для email-рассылок\".**\n",
    "\n",
    "---\n",
    "\n",
    "**График кумулятивной выручки по группам.**\n",
    "\n",
    "В сырых данных имеются аномалии. Начало периода теста хаотично, что является нормой. Стабилизация происходит к концу первой декады проведения теста. Затем наблюдаются 2 выброса - 15 и 19 августа. Максимальный - 19 августа.\n",
    "\n",
    "Группа В показывает результат лучше группы А.\n",
    "\n",
    "---\n",
    "\n",
    "**График кумулятивного среднего чека по группам.**\n",
    "\n",
    "Картина такая же, как и с выручкой. Стабилизация параметров наблюдается к концу первой декады наблюдений. Затем наблюдаются 2 выброса - 15 и 19 августа. Максимальный - 19 августа.\n",
    "<br>Теперь можно утверждать, что это влияние аномально крупных заказов.\n",
    "\n",
    "Группа В показывает результат лучше группы А.\n",
    "\n",
    "---\n",
    "\n",
    "**График относительного изменения кумулятивного среднего чека группы B к группе A.**\n",
    "\n",
    "Стабилизация параметров наступает к концу второй декады наблюдений. После резкого роста (выброс от 19 августа) начинается плавное снижение - корректировка выброса. Резкие колебания после выброса больше не наблюдаются.\n",
    "\n",
    "Группа В показывает результат лучше группы А.\n",
    "\n",
    "---\n",
    "\n",
    "**График кумулятивного среднего количества заказов на посетителя по группам.**\n",
    "\n",
    "Параметры стабилизируются к концу первой декады наблюдений.\n",
    "\n",
    "Группа В показывает результат лучше группы А.\n",
    "\n",
    "---\n",
    "\n",
    "**График относительного изменения кумулятивного среднего количества заказов на посетителя группы B к группе A.**\n",
    "\n",
    "После стабилизации, которая также наблюдается к конце первой декады наблюдений, график стабильно держится в положительной зоне.\n",
    "\n",
    "Группа В показывает результат лучше группы А.\n",
    "\n",
    "---\n",
    "\n",
    "**Точечный график количества заказов по пользователям.**\n",
    "\n",
    "На графике хорошо видны выбросы.\n",
    "Основное количество заказов по пользователям - это 1 или 2.\n",
    "\n",
    "---\n",
    "\n",
    "**Определение границы для аномальных пользователей.**\n",
    "\n",
    "* 95 перцентиль количества заказов равен: 2 заказа.\n",
    "* 99 перцентиль количества заказов равен: 4 заказа.\n",
    "\n",
    "Как и график, расчет перцентилей дает нам границу для определения аномальных пользователей.\n",
    "<br>На основании графика и расчета установим границу количества заказов на пользователя: 2. \n",
    "<br>Свыше этого количество заказов принимаем как аномальное.\n",
    "\n",
    "---\n",
    "\n",
    "**Точечный график стоимостей заказов.**\n",
    "\n",
    "Наблюдаются выбросы. Основная масса заказов приходится на заказы существенно ниже 100К. Точную сумму границы определим после расчета перцентилей.\n",
    "\n",
    "---\n",
    "\n",
    "**Определение границы для аномальных заказов.**\n",
    "* 95 перцентиль суммы заказа равен: 28000.0\n",
    "* 99 перцентиль суммы заказа равен: 58233.2\n",
    "\n",
    "На основании графика и расчета принимаем границу стоимости заказа: 28000. \n",
    "<br>Выше - аномалии.\n",
    "\n",
    "---\n",
    "\n",
    "**Расчет статистической значимости различий в среднем количестве заказов на посетителя между группами по «сырым» данным.**\n",
    "\n",
    "Значение критерия Манна-Уитни по \"сырым\" данным составляет 0.017, что меньше 0.05.\n",
    "Таким образом, на основании полученного результата нулевую гипотезу отвергаем и принимаем альтернативную:\n",
    "\n",
    "**статистически значимые различия в среднем количестве заказов между группами есть.**\n",
    "\n",
    "Разница между средним количеством заказов групп B и A составляет 13.8%\n",
    "\n",
    "---\n",
    "\n",
    "**Расчет статистической значимости различий в среднем чеке заказа между группами по «сырым» данным.**\n",
    "\n",
    "Значение критерия Манна-Уитни по \"сырым\" данным составляет 0.729, что существенно выше 0.05. Таким образом, на основании полученного результата нулевую гипотезу отвергнуть не можем.\n",
    "\n",
    "Принимаем нулевую гипитезу:\n",
    "\n",
    "**статистически значимых различий в среднем чеке между группами нет.**\n",
    "\n",
    "Разница между средним чеком групп B и A составляет 25.9%, что в нашем случае не является статистически значимым.\n",
    "\n",
    "---\n",
    "\n",
    "**Расчет статистической значимости различий в среднем количестве заказов на посетителя между группами по «очищенным» данным.**\n",
    "\n",
    "Значение критерия Манна-Уитни по \"очищенным\" данным составляет 0.013, что меньше 0.05.\n",
    "Таким образом, на основании полученного результата нулевую гипотезу отвергаем и принимаем альтернативную:\n",
    "\n",
    "**статистически значимые различия в среднем количестве заказов между группами есть.**\n",
    "\n",
    "Разница между средним количеством заказов групп B и A составляет 17.3%\n",
    "\n",
    "---\n",
    "\n",
    "***Расчет статистической значимости различий в среднем чеке заказа между группами по «очищенным» данным.***\n",
    "\n",
    "Значение критерия Манна-Уитни по \"очищенным\" данным составляет 0.738, что существенно выше 0.05. Таким образом, на основании полученного результата нулевую гипотезу отвергнуть не можем.\n",
    "\n",
    "Принимаем нулевую гипитезу:\n",
    "\n",
    "**статистически значимых различий в среднем чеке между группами нет.**\n",
    "\n",
    "Разница между средним чеком групп B и A составляет -2%, что в нашем случае не является статистически значимым.\n",
    "\n",
    "---\n",
    "\n",
    "**Анализ A/B-теста.**\n",
    "\n",
    "Мы установили следующие факты:\n",
    "* Есть статистически значимое различие по среднему количеству заказов между группами и по «сырым», и по данным после фильтрации аномалий.\n",
    "* Нет статистически значимого различия по среднему чеку между группами ни по «сырым», ни по данным после фильтрации аномалий.\n",
    "* График различия среднего количества заказов говорит о том, что результаты группы А и B стабилизировались и группа В показывает результат значительно лучше, чем контрольная группа.\n",
    "* Колебания параметров стабилизировались к концу первой и второй декады наблюдений (аномалии обрабатываем отдельно).\n",
    "\n",
    "При этом, несмотря на увеличение в группе В среднего чека по неотфильтрованным данным на 25.9%, мы имеем его падение по отфильтрованным данным: -2%.\n",
    "\n",
    "Увеличение среднего количества заказов в группе В по неотфильтрованным данным составляет 13.8%, а по отфильтрованным уже 17.3%.\n",
    "\n",
    "Таким образом, совокупность изменений привела к увеличеню выручки, причем параметр, имеющий статистическии значимое различие как по необработанным, так и по отфильтрованным данным - среднее количество заказов - вырос.\n",
    "\n",
    "Параметр, не имеющий статистическии значимого различия - средней чек - снизился на 2% по отфильтровнным данным.\n",
    "\n",
    "**На основании имеющихся фактов признаем тест успешным а изменение:\n",
    "<br>\"Добавить форму подписки на все основные страницы, чтобы собрать базу клиентов для email-рассылок\"\n",
    "<br>рекомендованным к внедрению на платформе.**"
   ]
  }
 ],
 "metadata": {
  "ExecuteTimeLog": [
   {
    "duration": 1143,
    "start_time": "2023-06-17T14:59:21.268Z"
   },
   {
    "duration": 238,
    "start_time": "2023-06-17T14:59:22.413Z"
   },
   {
    "duration": 18,
    "start_time": "2023-06-17T14:59:22.653Z"
   },
   {
    "duration": 10,
    "start_time": "2023-06-17T14:59:22.673Z"
   },
   {
    "duration": 8,
    "start_time": "2023-06-17T14:59:22.685Z"
   },
   {
    "duration": 9,
    "start_time": "2023-06-17T14:59:22.695Z"
   },
   {
    "duration": 9,
    "start_time": "2023-06-17T14:59:22.705Z"
   },
   {
    "duration": 46,
    "start_time": "2023-06-17T14:59:22.715Z"
   },
   {
    "duration": 23,
    "start_time": "2023-06-17T14:59:22.768Z"
   },
   {
    "duration": 68,
    "start_time": "2023-06-17T14:59:22.793Z"
   },
   {
    "duration": 17,
    "start_time": "2023-06-17T14:59:22.863Z"
   },
   {
    "duration": 7,
    "start_time": "2023-06-17T14:59:22.882Z"
   },
   {
    "duration": 6,
    "start_time": "2023-06-17T14:59:22.892Z"
   },
   {
    "duration": 7,
    "start_time": "2023-06-17T14:59:22.900Z"
   },
   {
    "duration": 64,
    "start_time": "2023-06-17T14:59:22.910Z"
   },
   {
    "duration": 33,
    "start_time": "2023-06-17T14:59:22.976Z"
   },
   {
    "duration": 12,
    "start_time": "2023-06-17T14:59:23.011Z"
   },
   {
    "duration": 7,
    "start_time": "2023-06-17T14:59:23.026Z"
   },
   {
    "duration": 10,
    "start_time": "2023-06-17T14:59:23.034Z"
   },
   {
    "duration": 79,
    "start_time": "2023-06-17T14:59:23.046Z"
   },
   {
    "duration": 33,
    "start_time": "2023-06-17T14:59:23.127Z"
   },
   {
    "duration": 202,
    "start_time": "2023-06-17T14:59:23.163Z"
   },
   {
    "duration": 151,
    "start_time": "2023-06-17T14:59:23.366Z"
   },
   {
    "duration": 13,
    "start_time": "2023-06-17T14:59:23.518Z"
   },
   {
    "duration": 329,
    "start_time": "2023-06-17T14:59:23.533Z"
   },
   {
    "duration": 17,
    "start_time": "2023-06-17T14:59:23.863Z"
   },
   {
    "duration": 248,
    "start_time": "2023-06-17T14:59:23.882Z"
   },
   {
    "duration": 49,
    "start_time": "2023-06-17T14:59:24.136Z"
   },
   {
    "duration": 332,
    "start_time": "2023-06-17T14:59:24.187Z"
   },
   {
    "duration": 255,
    "start_time": "2023-06-17T14:59:24.520Z"
   },
   {
    "duration": 301,
    "start_time": "2023-06-17T14:59:24.777Z"
   },
   {
    "duration": 158,
    "start_time": "2023-06-17T14:59:25.079Z"
   },
   {
    "duration": 14,
    "start_time": "2023-06-17T14:59:25.239Z"
   },
   {
    "duration": 166,
    "start_time": "2023-06-17T14:59:25.262Z"
   },
   {
    "duration": 365,
    "start_time": "2023-06-17T14:59:25.430Z"
   },
   {
    "duration": 6,
    "start_time": "2023-06-17T14:59:25.797Z"
   },
   {
    "duration": 72,
    "start_time": "2023-06-17T14:59:25.805Z"
   },
   {
    "duration": 81,
    "start_time": "2023-06-17T14:59:25.879Z"
   },
   {
    "duration": 68,
    "start_time": "2023-06-17T14:59:25.968Z"
   },
   {
    "duration": 83,
    "start_time": "2023-06-17T14:59:26.038Z"
   },
   {
    "duration": 41,
    "start_time": "2023-06-17T14:59:26.123Z"
   },
   {
    "duration": 106,
    "start_time": "2023-06-17T14:59:26.165Z"
   },
   {
    "duration": 96,
    "start_time": "2023-06-17T14:59:26.273Z"
   },
   {
    "duration": 37,
    "start_time": "2023-06-17T14:59:26.371Z"
   },
   {
    "duration": 5,
    "start_time": "2023-06-17T14:59:26.410Z"
   },
   {
    "duration": 11,
    "start_time": "2023-06-17T14:59:26.417Z"
   },
   {
    "duration": 14,
    "start_time": "2023-06-17T14:59:26.452Z"
   },
   {
    "duration": 13,
    "start_time": "2023-06-17T14:59:26.468Z"
   },
   {
    "duration": 9,
    "start_time": "2023-06-17T14:59:26.484Z"
   },
   {
    "duration": 24,
    "start_time": "2023-06-17T14:59:26.495Z"
   },
   {
    "duration": 6,
    "start_time": "2023-06-17T14:59:26.521Z"
   },
   {
    "duration": 42,
    "start_time": "2023-06-17T14:59:26.528Z"
   },
   {
    "duration": 8,
    "start_time": "2023-06-17T14:59:26.572Z"
   }
  ],
  "kernelspec": {
   "display_name": "Python 3 (ipykernel)",
   "language": "python",
   "name": "python3"
  },
  "language_info": {
   "codemirror_mode": {
    "name": "ipython",
    "version": 3
   },
   "file_extension": ".py",
   "mimetype": "text/x-python",
   "name": "python",
   "nbconvert_exporter": "python",
   "pygments_lexer": "ipython3",
   "version": "3.11.4"
  },
  "toc": {
   "base_numbering": 1,
   "nav_menu": {},
   "number_sections": true,
   "sideBar": true,
   "skip_h1_title": false,
   "title_cell": "Table of Contents",
   "title_sidebar": "Contents",
   "toc_cell": false,
   "toc_position": {
    "height": "calc(100% - 180px)",
    "left": "10px",
    "top": "150px",
    "width": "281.266px"
   },
   "toc_section_display": true,
   "toc_window_display": false
  },
  "varInspector": {
   "cols": {
    "lenName": 16,
    "lenType": 16,
    "lenVar": 40
   },
   "kernels_config": {
    "python": {
     "delete_cmd_postfix": "",
     "delete_cmd_prefix": "del ",
     "library": "var_list.py",
     "varRefreshCmd": "print(var_dic_list())"
    },
    "r": {
     "delete_cmd_postfix": ") ",
     "delete_cmd_prefix": "rm(",
     "library": "var_list.r",
     "varRefreshCmd": "cat(var_dic_list()) "
    }
   },
   "types_to_exclude": [
    "module",
    "function",
    "builtin_function_or_method",
    "instance",
    "_Feature"
   ],
   "window_display": false
  }
 },
 "nbformat": 4,
 "nbformat_minor": 5
}
