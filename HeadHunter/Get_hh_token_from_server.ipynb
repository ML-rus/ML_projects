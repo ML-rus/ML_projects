{
 "cells": [
  {
   "cell_type": "markdown",
   "id": "1cb0c9d7-2255-4134-99ff-71c265c74d83",
   "metadata": {},
   "source": [
    "<b>Комментарий.</b>\n",
    "<br>В поля `client_id` и `client_secret` заносим данные из личного кабинета HeadHunter, полученные после одобрения заявки на регистрацию приложения. \n",
    "<br>Выполняем.\n",
    "<br>Проверяем результат.\n",
    "<br>Все."
   ]
  },
  {
   "cell_type": "code",
   "execution_count": 1,
   "id": "51d72222-09f7-4e12-8fad-2e88342528d0",
   "metadata": {},
   "outputs": [],
   "source": [
    "import requests"
   ]
  },
  {
   "cell_type": "code",
   "execution_count": 2,
   "id": "d21b4ec7-36f0-4958-8fc4-e4a3fc2c039f",
   "metadata": {},
   "outputs": [],
   "source": [
    "params = {\n",
    "    'client_id' : '',\n",
    "    'client_secret' : '',\n",
    "    'grant_type' : 'client_credentials'\n",
    "}\n",
    "\n",
    "authorisation_url = 'https://hh.ru/oauth/token'\n",
    "\n",
    "result = requests.post(authorisation_url, data=params)\n",
    "result"
   ]
  },
  {
   "cell_type": "code",
   "execution_count": 3,
   "id": "73d7b093-9d98-48af-a2f6-b11a967fa4e7",
   "metadata": {},
   "outputs": [],
   "source": [
    "result.text"
   ]
  }
 ],
 "metadata": {
  "kernelspec": {
   "display_name": "Python 3 (ipykernel)",
   "language": "python",
   "name": "python3"
  },
  "language_info": {
   "codemirror_mode": {
    "name": "ipython",
    "version": 3
   },
   "file_extension": ".py",
   "mimetype": "text/x-python",
   "name": "python",
   "nbconvert_exporter": "python",
   "pygments_lexer": "ipython3",
   "version": "3.12.0"
  }
 },
 "nbformat": 4,
 "nbformat_minor": 5
}
