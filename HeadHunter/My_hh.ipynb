{
 "cells": [
  {
   "cell_type": "markdown",
   "id": "7c70fc4f-5ad6-4f61-a020-b92e2c608a1e",
   "metadata": {},
   "source": [
    "### Импорт библиотек."
   ]
  },
  {
   "cell_type": "code",
   "execution_count": 1,
   "id": "2155cdef-bb28-40bc-a399-f72f6885a37a",
   "metadata": {},
   "outputs": [],
   "source": [
    "import pandas as pd\n",
    "import pyperclip as clp\n",
    "import requests\n",
    "import re\n",
    "\n",
    "from datetime import date\n",
    "from time import sleep\n",
    "from extra_modules.hh_funcs import get_hh_token"
   ]
  },
  {
   "cell_type": "markdown",
   "id": "991b1722-cc21-42a7-8987-74ecd5de3002",
   "metadata": {},
   "source": [
    "### Загрузка токена."
   ]
  },
  {
   "cell_type": "code",
   "execution_count": 2,
   "id": "158f1d98-aadb-45bd-8315-6c3d2be76e54",
   "metadata": {},
   "outputs": [],
   "source": [
    "# Загрузим полученный на оф.сайте токен:\n",
    "hh_token = get_hh_token()"
   ]
  },
  {
   "cell_type": "markdown",
   "id": "078b5db0-a4ac-4ce2-a216-bb8947550b8c",
   "metadata": {},
   "source": [
    "### Определение функции для совершения запроса."
   ]
  },
  {
   "cell_type": "code",
   "execution_count": 3,
   "id": "da520028-4915-4da9-8fba-5825481aad91",
   "metadata": {},
   "outputs": [],
   "source": [
    "def get_vacancy_info(vacancy_id):\n",
    "    '''\n",
    "    Функция для получения информации о вакансии. В качестве аргумента получает ID вакансии.\n",
    "    '''\n",
    "\n",
    "    # Создаем заголовок для авторизации на HH с заранее полученным токеном приложения:\n",
    "    header = {'Authorization' : f'Bearer {hh_token}'}\n",
    "    # Формируем ссылку на основе ID вакансии:\n",
    "    url = f'https://api.hh.ru/vacancies/{vacancy_id}'\n",
    "\n",
    "    # Делаем таймаут при обращении к серверу, чтобы нас не забанили:\n",
    "    sleep(1)\n",
    "    # Делаем запрос:\n",
    "    response = requests.get(url, headers=header)\n",
    "    \n",
    "    # Следующая строка может понадобиться при отладке: \n",
    "    # response.raise_for_status()\n",
    "\n",
    "    # Возвращаем результат сразу в json-формате:\n",
    "    return response.json()"
   ]
  },
  {
   "cell_type": "markdown",
   "id": "fdc19bcc-349d-4978-804f-4bc2ee6c194b",
   "metadata": {},
   "source": [
    "### Создание списка интересующих вакансий."
   ]
  },
  {
   "cell_type": "code",
   "execution_count": 4,
   "id": "8707e9d6-94a2-4067-946f-e6c6e4478cab",
   "metadata": {},
   "outputs": [
    {
     "data": {
      "text/plain": [
       "['89211781', '88651643', '88900995']"
      ]
     },
     "execution_count": 4,
     "metadata": {},
     "output_type": "execute_result"
    }
   ],
   "source": [
    "# Накидываем в строку ID нужных вакансий через любой разделитель:\n",
    "vacancies_str = '89211781 88651643 88900995'\n",
    "\n",
    "# Формируем список ID вакансий:\n",
    "vacancy_list = re.findall('\\d+', vacancies_str)\n",
    "\n",
    "vacancy_list"
   ]
  },
  {
   "cell_type": "markdown",
   "id": "6e1334ea-60fd-4883-9977-dd386d567d96",
   "metadata": {},
   "source": [
    "### Запросы."
   ]
  },
  {
   "cell_type": "code",
   "execution_count": 5,
   "id": "3fcb78f6-3e66-4200-9ef6-6d642d3c1bb0",
   "metadata": {},
   "outputs": [],
   "source": [
    "# Создаем список ответов сервера и записываем в него результаты наших запросов:\n",
    "results = []\n",
    "for vac_id in vacancy_list :\n",
    "    result = get_vacancy_info(vac_id) # Смело можем делать запросы в цикле - таймаут зашит в саму функцию.\n",
    "    results.append(result)"
   ]
  },
  {
   "cell_type": "markdown",
   "id": "1cceda4f-2a11-46b7-ba48-ba62c6acb1f7",
   "metadata": {},
   "source": [
    "### Обработка результатов."
   ]
  },
  {
   "cell_type": "code",
   "execution_count": 6,
   "id": "1e3d3329-bd9a-4f43-ad8c-6ed20859d5c1",
   "metadata": {},
   "outputs": [
    {
     "data": {
      "text/html": [
       "<style type=\"text/css\">\n",
       "</style>\n",
       "<table id=\"T_4af2b\">\n",
       "  <thead>\n",
       "    <tr>\n",
       "      <th id=\"T_4af2b_level0_col0\" class=\"col_heading level0 col0\" >date</th>\n",
       "      <th id=\"T_4af2b_level0_col1\" class=\"col_heading level0 col1\" >employer_name</th>\n",
       "      <th id=\"T_4af2b_level0_col2\" class=\"col_heading level0 col2\" >vacancy_name</th>\n",
       "      <th id=\"T_4af2b_level0_col3\" class=\"col_heading level0 col3\" >vacancy_url</th>\n",
       "      <th id=\"T_4af2b_level0_col4\" class=\"col_heading level0 col4\" >employer_id</th>\n",
       "      <th id=\"T_4af2b_level0_col5\" class=\"col_heading level0 col5\" >vacancy_id</th>\n",
       "    </tr>\n",
       "  </thead>\n",
       "  <tbody>\n",
       "    <tr>\n",
       "      <td id=\"T_4af2b_row0_col0\" class=\"data row0 col0\" >2023-11-16</td>\n",
       "      <td id=\"T_4af2b_row0_col1\" class=\"data row0 col1\" >ГАЛА-ЦЕНТР</td>\n",
       "      <td id=\"T_4af2b_row0_col2\" class=\"data row0 col2\" >Аналитик ТН \"Дача и Сад\"</td>\n",
       "      <td id=\"T_4af2b_row0_col3\" class=\"data row0 col3\" >https://hh.ru/vacancy/89211781</td>\n",
       "      <td id=\"T_4af2b_row0_col4\" class=\"data row0 col4\" >1274827</td>\n",
       "      <td id=\"T_4af2b_row0_col5\" class=\"data row0 col5\" >89211781</td>\n",
       "    </tr>\n",
       "    <tr>\n",
       "      <td id=\"T_4af2b_row1_col0\" class=\"data row1 col0\" >2023-11-16</td>\n",
       "      <td id=\"T_4af2b_row1_col1\" class=\"data row1 col1\" >Медико-фармацевтическое объединение малого бизнеса</td>\n",
       "      <td id=\"T_4af2b_row1_col2\" class=\"data row1 col2\" >Аналитик в отдел по работе с производителями (фарм.рынок)</td>\n",
       "      <td id=\"T_4af2b_row1_col3\" class=\"data row1 col3\" >https://hh.ru/vacancy/88651643</td>\n",
       "      <td id=\"T_4af2b_row1_col4\" class=\"data row1 col4\" >2060223</td>\n",
       "      <td id=\"T_4af2b_row1_col5\" class=\"data row1 col5\" >88651643</td>\n",
       "    </tr>\n",
       "    <tr>\n",
       "      <td id=\"T_4af2b_row2_col0\" class=\"data row2 col0\" >2023-11-16</td>\n",
       "      <td id=\"T_4af2b_row2_col1\" class=\"data row2 col1\" >Самокат (ООО Умный ритейл)</td>\n",
       "      <td id=\"T_4af2b_row2_col2\" class=\"data row2 col2\" >Бизнес-аналитик отдела продаж</td>\n",
       "      <td id=\"T_4af2b_row2_col3\" class=\"data row2 col3\" >https://hh.ru/vacancy/88900995</td>\n",
       "      <td id=\"T_4af2b_row2_col4\" class=\"data row2 col4\" >2460946</td>\n",
       "      <td id=\"T_4af2b_row2_col5\" class=\"data row2 col5\" >88900995</td>\n",
       "    </tr>\n",
       "  </tbody>\n",
       "</table>\n"
      ],
      "text/plain": [
       "<pandas.io.formats.style.Styler at 0x1f55e33a2d0>"
      ]
     },
     "execution_count": 6,
     "metadata": {},
     "output_type": "execute_result"
    }
   ],
   "source": [
    "# Создаем пустой датафрейм, куда будем записывать нужную нам информацию:\n",
    "df = pd.DataFrame(columns=['date', 'employer_name','vacancy_name', 'vacancy_url','employer_id', 'vacancy_id'])\n",
    "\n",
    "# Получаем сегодняшнюю дату:\n",
    "today = date.today().strftime('%Y-%m-%d')\n",
    "\n",
    "# Добавим в датафрейм интересующие нас поля:\n",
    "for i, res in enumerate(results) :\n",
    "    vac_id = res.get('id')\n",
    "    vac_name = res.get('name')\n",
    "    empl_name = res.get('employer').get('name')[:60]\n",
    "    empl_id = res.get('employer').get('id')\n",
    "    vac_url = res.get('alternate_url')\n",
    "    current_str = [today, empl_name, vac_name, vac_url, empl_id, vac_id]\n",
    "    df.loc[i] = current_str\n",
    "\n",
    "# Посмотрим на результат:\n",
    "df[['date', 'employer_name','vacancy_name', 'vacancy_url','employer_id', 'vacancy_id']].style.hide(axis=\"index\")"
   ]
  },
  {
   "cell_type": "markdown",
   "id": "d47fee6d-3653-46a9-b590-12caea7daf2b",
   "metadata": {},
   "source": [
    "### Создание драфтов сопроводительных писем для каждой из вакансий."
   ]
  },
  {
   "cell_type": "code",
   "execution_count": 7,
   "id": "2d23411a-bfc2-4554-930a-5378f6ba5824",
   "metadata": {},
   "outputs": [],
   "source": [
    "# Загрузка драфта сопроводительного письма:\n",
    "with open('res/cv_text.txt', 'r', encoding='utf-8') as f :\n",
    "    body_txt = f.read()\n",
    "\n",
    "body_txt = body_txt.strip()\n",
    "\n",
    "# Создание адресных сопроводительных писем и копирование их в буфер обмена:\n",
    "for company in df.employer_name.to_list() : \n",
    "    # Вставляем в шаблон название конкретной компании:\n",
    "    text = body_txt.format(company_name=company)\n",
    "    # Копируем в буфер обмена:\n",
    "    clp.copy(text)\n",
    "    # Время ожидания подобрано эмпирически, если его уменьшить, буфер не успевает среагировать:\n",
    "    sleep(0.25)"
   ]
  }
 ],
 "metadata": {
  "kernelspec": {
   "display_name": "Python 3 (ipykernel)",
   "language": "python",
   "name": "python3"
  },
  "language_info": {
   "codemirror_mode": {
    "name": "ipython",
    "version": 3
   },
   "file_extension": ".py",
   "mimetype": "text/x-python",
   "name": "python",
   "nbconvert_exporter": "python",
   "pygments_lexer": "ipython3",
   "version": "3.11.2"
  }
 },
 "nbformat": 4,
 "nbformat_minor": 5
}
