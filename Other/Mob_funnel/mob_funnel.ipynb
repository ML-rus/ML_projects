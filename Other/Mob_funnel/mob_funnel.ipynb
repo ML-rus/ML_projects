{
 "cells": [
  {
   "cell_type": "markdown",
   "id": "bb90b3f4",
   "metadata": {},
   "source": [
    "# Проект: Анализ поведения пользователей мобильного приложения."
   ]
  },
  {
   "cell_type": "markdown",
   "id": "6792c114",
   "metadata": {},
   "source": [
    "# Описание проекта.\n",
    "\n",
    "Мы имеем логи мобильного приложения стартапа, который продаёт продукты питания. Нужно разобраться, как ведут себя пользователи этого приложения. "
   ]
  },
  {
   "cell_type": "markdown",
   "id": "59717e8a",
   "metadata": {},
   "source": [
    "# Цель проекта.\n",
    "\n",
    "Анализ поведения пользователей мобильного приложения."
   ]
  },
  {
   "cell_type": "markdown",
   "id": "a3429db2",
   "metadata": {},
   "source": [
    "# План работы.\n",
    "\n",
    "**Этап 1. Открыть файл с данными и изучить общую информацию.**\n",
    "\n",
    "**Этап 2. Подготовить данные.**\n",
    "* Заменить названия столбцов на удобные для нас.\n",
    "* Провертиь пропуски и типы данных. Откорректировать, если нужно.\n",
    "* Добавить столбец даты и времени, а также отдельный столбец дат.\n",
    "\n",
    "**Этап 3. Изучить и проверить данные.**\n",
    "\n",
    "Ответить на следующие вопросы:\n",
    "* Сколько всего событий в логе?\n",
    "* Сколько всего пользователей в логе?\n",
    "* Сколько в среднем событий приходится на пользователя?\n",
    "* Данными за какой период мы располагаем? Найти максимальную и минимальную дату. Построить гистограмму по дате и времени. Можно ли быть уверенным, что у нас одинаково полные данные за весь период? Принять во внимание, что технически в логи новых дней по некоторым пользователям могут «доезжать» события из прошлого — это может «перекашивать данные». С какого момента данные являются полными (отбросить более старые)? Данными за какой период времени мы располагаем на самом деле?\n",
    "\n",
    "* Много ли событий и пользователей мы потеряли, отбросив старые данные?\n",
    "* Есть ли пользователи из всех трёх экспериментальных групп?\n",
    "\n",
    "**Этап 4. Изучить воронку событий.**\n",
    "\n",
    "* Определить, какие события есть в логах, как часто они встречаются. Отсортировать события по частоте.\n",
    "* Определить, сколько пользователей совершали каждое из этих событий. Отсортировать события по числу пользователей. Посчитать долю пользователей, которые хоть раз совершали событие.\n",
    "* Предположить, в каком порядке происходят события. Определить, все ли они выстраиваются в последовательную цепочку. Их не нужно учитывать при расчёте воронки.\n",
    "* По воронке событий посчитать, какая доля пользователей проходит на следующий шаг воронки (от числа пользователей на предыдущем). То есть для последовательности событий A → B → C посчитать отношение числа пользователей с событием B к количеству пользователей с событием A, а также отношение числа пользователей с событием C к количеству пользователей с событием B.\n",
    "* Определить, на каком шаге теряете больше всего пользователей.\n",
    "* Определить, какая доля пользователей доходит от первого события до оплаты.\n",
    "\n",
    "**Этап 5. Определить необходимые функции.**\n",
    "\n",
    "**Этап 6. Изучить результаты эксперимента.**\n",
    "\n",
    "* Определить, сколько пользователей в каждой экспериментальной группе.\n",
    "* Есть 2 контрольные группы для А/А-эксперимента, чтобы проверить корректность всех механизмов и расчётов. Проверить, находят ли статистические критерии разницу между выборками 246 и 247.\n",
    "* Определить самое популярное событие. Посчитать число пользователей, совершивших это событие в каждой из контрольных групп. Посчитать долю пользователей, совершивших это событие. Проверить, будет ли отличие между группами статистически достоверным. Проделать то же самое для всех других событий (удобно обернуть проверку в отдельную функцию). Определить, корректно ли работает разбиение на группы.\n",
    "* Аналогично поступите с группой В (экспериментальной). Сравнить результаты с каждой из контрольных групп в отдельности по каждому событию. Сравнить результаты с объединённой контрольной группой. корректно, какие выводы из эксперимента можно сделать.\n",
    "* Объяснить, какой уровень значимости мы выбрали при проверке статистических гипотез выше. Посчитать, сколько проверок статистических гипотез было сделано. При уровне значимости 0.1 каждый десятый раз можно получать ложный результат. Определить, какой уровень значимости стоит применить. \n",
    "\n",
    "**Написать общий вывод.**"
   ]
  },
  {
   "cell_type": "markdown",
   "id": "9586e735",
   "metadata": {},
   "source": [
    "# Выполнение проекта."
   ]
  },
  {
   "cell_type": "markdown",
   "id": "be6768cb",
   "metadata": {},
   "source": [
    "## Этап 1. Загрузка файла с данными и изучение общей информации."
   ]
  },
  {
   "cell_type": "code",
   "execution_count": 1,
   "id": "075016b6",
   "metadata": {},
   "outputs": [],
   "source": [
    "# импорт необходимых библиотек\n",
    "import pandas as pd\n",
    "import numpy as np\n",
    "import matplotlib.pyplot as plt\n",
    "import scipy.stats as stats\n",
    "import seaborn as sns\n",
    "import math as mth"
   ]
  },
  {
   "cell_type": "code",
   "execution_count": 2,
   "id": "8a219f06",
   "metadata": {},
   "outputs": [
    {
     "name": "stdout",
     "output_type": "stream",
     "text": [
      "Данные загружены из локального каталога.\n"
     ]
    }
   ],
   "source": [
    "# загрузка исходных данных\n",
    "try :\n",
    "    logs = pd.read_csv('/datasets/logs_exp.csv', sep='\\t')\n",
    "    print('Данные загружены из каталога Yandex Practicum.')\n",
    "\n",
    "except :\n",
    "    logs = pd.read_csv('res/logs_exp.csv', sep='\\t')\n",
    "    print('Данные загружены из локального каталога.')"
   ]
  },
  {
   "cell_type": "code",
   "execution_count": 3,
   "id": "422a66a5",
   "metadata": {
    "scrolled": true
   },
   "outputs": [
    {
     "data": {
      "text/html": [
       "<div>\n",
       "<style scoped>\n",
       "    .dataframe tbody tr th:only-of-type {\n",
       "        vertical-align: middle;\n",
       "    }\n",
       "\n",
       "    .dataframe tbody tr th {\n",
       "        vertical-align: top;\n",
       "    }\n",
       "\n",
       "    .dataframe thead th {\n",
       "        text-align: right;\n",
       "    }\n",
       "</style>\n",
       "<table border=\"1\" class=\"dataframe\">\n",
       "  <thead>\n",
       "    <tr style=\"text-align: right;\">\n",
       "      <th></th>\n",
       "      <th>EventName</th>\n",
       "      <th>DeviceIDHash</th>\n",
       "      <th>EventTimestamp</th>\n",
       "      <th>ExpId</th>\n",
       "    </tr>\n",
       "  </thead>\n",
       "  <tbody>\n",
       "    <tr>\n",
       "      <th>0</th>\n",
       "      <td>MainScreenAppear</td>\n",
       "      <td>4575588528974610257</td>\n",
       "      <td>1564029816</td>\n",
       "      <td>246</td>\n",
       "    </tr>\n",
       "    <tr>\n",
       "      <th>1</th>\n",
       "      <td>MainScreenAppear</td>\n",
       "      <td>7416695313311560658</td>\n",
       "      <td>1564053102</td>\n",
       "      <td>246</td>\n",
       "    </tr>\n",
       "    <tr>\n",
       "      <th>2</th>\n",
       "      <td>PaymentScreenSuccessful</td>\n",
       "      <td>3518123091307005509</td>\n",
       "      <td>1564054127</td>\n",
       "      <td>248</td>\n",
       "    </tr>\n",
       "    <tr>\n",
       "      <th>3</th>\n",
       "      <td>CartScreenAppear</td>\n",
       "      <td>3518123091307005509</td>\n",
       "      <td>1564054127</td>\n",
       "      <td>248</td>\n",
       "    </tr>\n",
       "    <tr>\n",
       "      <th>4</th>\n",
       "      <td>PaymentScreenSuccessful</td>\n",
       "      <td>6217807653094995999</td>\n",
       "      <td>1564055322</td>\n",
       "      <td>248</td>\n",
       "    </tr>\n",
       "  </tbody>\n",
       "</table>\n",
       "</div>"
      ],
      "text/plain": [
       "                 EventName         DeviceIDHash  EventTimestamp  ExpId\n",
       "0         MainScreenAppear  4575588528974610257      1564029816    246\n",
       "1         MainScreenAppear  7416695313311560658      1564053102    246\n",
       "2  PaymentScreenSuccessful  3518123091307005509      1564054127    248\n",
       "3         CartScreenAppear  3518123091307005509      1564054127    248\n",
       "4  PaymentScreenSuccessful  6217807653094995999      1564055322    248"
      ]
     },
     "execution_count": 3,
     "metadata": {},
     "output_type": "execute_result"
    }
   ],
   "source": [
    "logs.head()"
   ]
  },
  {
   "cell_type": "code",
   "execution_count": 4,
   "id": "f9205168",
   "metadata": {
    "scrolled": true
   },
   "outputs": [
    {
     "name": "stdout",
     "output_type": "stream",
     "text": [
      "<class 'pandas.core.frame.DataFrame'>\n",
      "RangeIndex: 244126 entries, 0 to 244125\n",
      "Data columns (total 4 columns):\n",
      " #   Column          Non-Null Count   Dtype \n",
      "---  ------          --------------   ----- \n",
      " 0   EventName       244126 non-null  object\n",
      " 1   DeviceIDHash    244126 non-null  int64 \n",
      " 2   EventTimestamp  244126 non-null  int64 \n",
      " 3   ExpId           244126 non-null  int64 \n",
      "dtypes: int64(3), object(1)\n",
      "memory usage: 7.5+ MB\n"
     ]
    }
   ],
   "source": [
    "logs.info()"
   ]
  },
  {
   "cell_type": "code",
   "execution_count": 5,
   "id": "bc1a9b89",
   "metadata": {},
   "outputs": [
    {
     "data": {
      "text/plain": [
       "array([246, 248, 247], dtype=int64)"
      ]
     },
     "execution_count": 5,
     "metadata": {},
     "output_type": "execute_result"
    }
   ],
   "source": [
    "logs.ExpId.unique()"
   ]
  },
  {
   "cell_type": "code",
   "execution_count": 6,
   "id": "b2853431",
   "metadata": {},
   "outputs": [
    {
     "data": {
      "text/plain": [
       "array(['MainScreenAppear', 'PaymentScreenSuccessful', 'CartScreenAppear',\n",
       "       'OffersScreenAppear', 'Tutorial'], dtype=object)"
      ]
     },
     "execution_count": 6,
     "metadata": {},
     "output_type": "execute_result"
    }
   ],
   "source": [
    "logs.EventName.unique()"
   ]
  },
  {
   "cell_type": "markdown",
   "id": "dbc73002",
   "metadata": {},
   "source": [
    "### Этап 1. Вывод.\n",
    "\n",
    "Успешно загружены данные из файла `logs_exp.csv`.\n",
    "\n",
    "Файл содержит в себе 244126 записей событий и 4 поля в каждой записи: \n",
    "* название события (содержит всего 5 различных названий), \n",
    "* идентификатор устройства пользователя, \n",
    "* дата и время события,\n",
    "* идентификатор группы (246 и 247 - контрольные группы, 248 - экспериментальная).\n",
    "\n",
    "Поля пропусков не имеют.\n",
    "<br>Первое поле имеет формат `object`, остальные три - `int64`. \n",
    "<br>Для даты необходимо будет изменить формат - сделаем это на 2м этапе."
   ]
  },
  {
   "cell_type": "markdown",
   "id": "53911447",
   "metadata": {},
   "source": [
    "## Этап 2. Подготовка данных."
   ]
  },
  {
   "cell_type": "markdown",
   "id": "b11f8afd",
   "metadata": {},
   "source": [
    "### Проверим на дубликаты."
   ]
  },
  {
   "cell_type": "code",
   "execution_count": 7,
   "id": "d285ba9a",
   "metadata": {},
   "outputs": [
    {
     "data": {
      "text/plain": [
       "413"
      ]
     },
     "execution_count": 7,
     "metadata": {},
     "output_type": "execute_result"
    }
   ],
   "source": [
    "logs.duplicated().sum()"
   ]
  },
  {
   "cell_type": "code",
   "execution_count": 8,
   "id": "88ef0cc0",
   "metadata": {},
   "outputs": [
    {
     "name": "stdout",
     "output_type": "stream",
     "text": [
      "Доля дубликатов составляет 0.17% от общего количества записей.\n"
     ]
    }
   ],
   "source": [
    "print('Доля дубликатов составляет {0:.2%} от общего количества записей.'.format(logs.duplicated().sum() / len(logs)))"
   ]
  },
  {
   "cell_type": "markdown",
   "id": "9be3ca43",
   "metadata": {},
   "source": [
    "Посмотрим на распределение дубликатов по группам:"
   ]
  },
  {
   "cell_type": "code",
   "execution_count": 9,
   "id": "b65b3414",
   "metadata": {},
   "outputs": [
    {
     "name": "stdout",
     "output_type": "stream",
     "text": [
      "Количество дубликатов в группе 246: 123\n",
      "Количество дубликатов в группе 247: 125\n",
      "Количество дубликатов в группе 248: 165\n",
      "\n",
      "Количество записей в группе 246: 80304\n",
      "Количество записей в группе 247: 78075\n",
      "Количество записей в группе 248: 85747\n",
      "\n",
      "Доля дубликатов в группе 246 составляет 0.15%\n",
      "Доля дубликатов в группе 247 составляет 0.16%\n",
      "Доля дубликатов в группе 248 составляет 0.19%\n"
     ]
    }
   ],
   "source": [
    "# создадим датафрейм с дубликатами:\n",
    "dup = logs.duplicated().to_frame()\n",
    "dup_rows = dup[dup[0] == True].index.to_list()\n",
    "duplicates = logs.loc[dup_rows]\n",
    "\n",
    "# удалим промежуточный датафрейм:\n",
    "del dup\n",
    "\n",
    "# выведем информацию по группам:\n",
    "groups = [246, 247, 248]\n",
    "for i in groups :\n",
    "    print('Количество дубликатов в группе {0}: {1}'.format(i, len(duplicates[duplicates['ExpId'] == i])))\n",
    "print()\n",
    "for i in groups :\n",
    "    print('Количество записей в группе {0}: {1}'.format(i, len(logs[logs.ExpId == i])))\n",
    "print()\n",
    "for i in groups :\n",
    "    print('Доля дубликатов в группе {0} составляет {1:.2%}'\n",
    "          .format(i,len(duplicates[duplicates['ExpId'] == i]) / len(logs[logs.ExpId == i])))"
   ]
  },
  {
   "cell_type": "code",
   "execution_count": 10,
   "id": "17f1d2f0",
   "metadata": {},
   "outputs": [
    {
     "name": "stdout",
     "output_type": "stream",
     "text": [
      "После удаления дубликатов осталось 243713 записей о событиях.\n"
     ]
    }
   ],
   "source": [
    "logs.drop_duplicates(inplace=True)\n",
    "\n",
    "# сохраним в переменную количество уникальных данных:\n",
    "initial_data_len = len(logs)\n",
    "print('После удаления дубликатов осталось {0} записей о событиях.'.format(initial_data_len))"
   ]
  },
  {
   "cell_type": "markdown",
   "id": "3b51b37e",
   "metadata": {},
   "source": [
    "Доля дубликатов очень небольшая, их распределене по группам тоже без серьезных отклонений."
   ]
  },
  {
   "cell_type": "code",
   "execution_count": 11,
   "id": "bae1d7fe",
   "metadata": {
    "scrolled": true
   },
   "outputs": [],
   "source": [
    "logs = logs.reset_index(drop=True)"
   ]
  },
  {
   "cell_type": "markdown",
   "id": "c3c2fabf",
   "metadata": {},
   "source": [
    "### Заменим названия столбцов на удобные для нас."
   ]
  },
  {
   "cell_type": "code",
   "execution_count": 12,
   "id": "7dc2498a",
   "metadata": {},
   "outputs": [
    {
     "data": {
      "text/html": [
       "<div>\n",
       "<style scoped>\n",
       "    .dataframe tbody tr th:only-of-type {\n",
       "        vertical-align: middle;\n",
       "    }\n",
       "\n",
       "    .dataframe tbody tr th {\n",
       "        vertical-align: top;\n",
       "    }\n",
       "\n",
       "    .dataframe thead th {\n",
       "        text-align: right;\n",
       "    }\n",
       "</style>\n",
       "<table border=\"1\" class=\"dataframe\">\n",
       "  <thead>\n",
       "    <tr style=\"text-align: right;\">\n",
       "      <th></th>\n",
       "      <th>event_name</th>\n",
       "      <th>device_id</th>\n",
       "      <th>event_ts_in_sec</th>\n",
       "      <th>group_id</th>\n",
       "    </tr>\n",
       "  </thead>\n",
       "  <tbody>\n",
       "    <tr>\n",
       "      <th>0</th>\n",
       "      <td>MainScreenAppear</td>\n",
       "      <td>4575588528974610257</td>\n",
       "      <td>1564029816</td>\n",
       "      <td>246</td>\n",
       "    </tr>\n",
       "    <tr>\n",
       "      <th>1</th>\n",
       "      <td>MainScreenAppear</td>\n",
       "      <td>7416695313311560658</td>\n",
       "      <td>1564053102</td>\n",
       "      <td>246</td>\n",
       "    </tr>\n",
       "    <tr>\n",
       "      <th>2</th>\n",
       "      <td>PaymentScreenSuccessful</td>\n",
       "      <td>3518123091307005509</td>\n",
       "      <td>1564054127</td>\n",
       "      <td>248</td>\n",
       "    </tr>\n",
       "    <tr>\n",
       "      <th>3</th>\n",
       "      <td>CartScreenAppear</td>\n",
       "      <td>3518123091307005509</td>\n",
       "      <td>1564054127</td>\n",
       "      <td>248</td>\n",
       "    </tr>\n",
       "    <tr>\n",
       "      <th>4</th>\n",
       "      <td>PaymentScreenSuccessful</td>\n",
       "      <td>6217807653094995999</td>\n",
       "      <td>1564055322</td>\n",
       "      <td>248</td>\n",
       "    </tr>\n",
       "  </tbody>\n",
       "</table>\n",
       "</div>"
      ],
      "text/plain": [
       "                event_name            device_id  event_ts_in_sec  group_id\n",
       "0         MainScreenAppear  4575588528974610257       1564029816       246\n",
       "1         MainScreenAppear  7416695313311560658       1564053102       246\n",
       "2  PaymentScreenSuccessful  3518123091307005509       1564054127       248\n",
       "3         CartScreenAppear  3518123091307005509       1564054127       248\n",
       "4  PaymentScreenSuccessful  6217807653094995999       1564055322       248"
      ]
     },
     "execution_count": 12,
     "metadata": {},
     "output_type": "execute_result"
    }
   ],
   "source": [
    "logs.columns = ['event_name', 'device_id', 'event_ts_in_sec', 'group_id']\n",
    "logs.head()"
   ]
  },
  {
   "cell_type": "markdown",
   "id": "fef64a5d",
   "metadata": {},
   "source": [
    "### Изменим тип данных для даты и времени. Добавим необходимые столбцы."
   ]
  },
  {
   "cell_type": "markdown",
   "id": "ab8e7916",
   "metadata": {},
   "source": [
    "Как мы выяснили ранее, данные пропусков не имеют, но тип данных для `timestamp` не соответсвует необходимому. Изменим его и сохраним в новом столбце:"
   ]
  },
  {
   "cell_type": "code",
   "execution_count": 13,
   "id": "bb4964f2",
   "metadata": {
    "scrolled": true
   },
   "outputs": [
    {
     "name": "stdout",
     "output_type": "stream",
     "text": [
      "<class 'pandas.core.frame.DataFrame'>\n",
      "RangeIndex: 243713 entries, 0 to 243712\n",
      "Data columns (total 5 columns):\n",
      " #   Column           Non-Null Count   Dtype         \n",
      "---  ------           --------------   -----         \n",
      " 0   event_name       243713 non-null  object        \n",
      " 1   device_id        243713 non-null  int64         \n",
      " 2   event_ts_in_sec  243713 non-null  int64         \n",
      " 3   group_id         243713 non-null  int64         \n",
      " 4   event_dt         243713 non-null  datetime64[ns]\n",
      "dtypes: datetime64[ns](1), int64(3), object(1)\n",
      "memory usage: 9.3+ MB\n"
     ]
    }
   ],
   "source": [
    "logs['event_dt'] = pd.to_datetime(logs['event_ts_in_sec'], unit='s')\n",
    "logs.info()"
   ]
  },
  {
   "cell_type": "markdown",
   "id": "48836867",
   "metadata": {},
   "source": [
    "Теперь Ок. Добавим еще один столбец - только с датой:"
   ]
  },
  {
   "cell_type": "code",
   "execution_count": 14,
   "id": "92f9165b",
   "metadata": {
    "scrolled": true
   },
   "outputs": [
    {
     "data": {
      "text/html": [
       "<div>\n",
       "<style scoped>\n",
       "    .dataframe tbody tr th:only-of-type {\n",
       "        vertical-align: middle;\n",
       "    }\n",
       "\n",
       "    .dataframe tbody tr th {\n",
       "        vertical-align: top;\n",
       "    }\n",
       "\n",
       "    .dataframe thead th {\n",
       "        text-align: right;\n",
       "    }\n",
       "</style>\n",
       "<table border=\"1\" class=\"dataframe\">\n",
       "  <thead>\n",
       "    <tr style=\"text-align: right;\">\n",
       "      <th></th>\n",
       "      <th>event_name</th>\n",
       "      <th>device_id</th>\n",
       "      <th>event_ts_in_sec</th>\n",
       "      <th>group_id</th>\n",
       "      <th>event_dt</th>\n",
       "      <th>event_date</th>\n",
       "    </tr>\n",
       "  </thead>\n",
       "  <tbody>\n",
       "    <tr>\n",
       "      <th>0</th>\n",
       "      <td>MainScreenAppear</td>\n",
       "      <td>4575588528974610257</td>\n",
       "      <td>1564029816</td>\n",
       "      <td>246</td>\n",
       "      <td>2019-07-25 04:43:36</td>\n",
       "      <td>2019-07-25</td>\n",
       "    </tr>\n",
       "    <tr>\n",
       "      <th>1</th>\n",
       "      <td>MainScreenAppear</td>\n",
       "      <td>7416695313311560658</td>\n",
       "      <td>1564053102</td>\n",
       "      <td>246</td>\n",
       "      <td>2019-07-25 11:11:42</td>\n",
       "      <td>2019-07-25</td>\n",
       "    </tr>\n",
       "    <tr>\n",
       "      <th>2</th>\n",
       "      <td>PaymentScreenSuccessful</td>\n",
       "      <td>3518123091307005509</td>\n",
       "      <td>1564054127</td>\n",
       "      <td>248</td>\n",
       "      <td>2019-07-25 11:28:47</td>\n",
       "      <td>2019-07-25</td>\n",
       "    </tr>\n",
       "    <tr>\n",
       "      <th>3</th>\n",
       "      <td>CartScreenAppear</td>\n",
       "      <td>3518123091307005509</td>\n",
       "      <td>1564054127</td>\n",
       "      <td>248</td>\n",
       "      <td>2019-07-25 11:28:47</td>\n",
       "      <td>2019-07-25</td>\n",
       "    </tr>\n",
       "    <tr>\n",
       "      <th>4</th>\n",
       "      <td>PaymentScreenSuccessful</td>\n",
       "      <td>6217807653094995999</td>\n",
       "      <td>1564055322</td>\n",
       "      <td>248</td>\n",
       "      <td>2019-07-25 11:48:42</td>\n",
       "      <td>2019-07-25</td>\n",
       "    </tr>\n",
       "  </tbody>\n",
       "</table>\n",
       "</div>"
      ],
      "text/plain": [
       "                event_name            device_id  event_ts_in_sec  group_id  \\\n",
       "0         MainScreenAppear  4575588528974610257       1564029816       246   \n",
       "1         MainScreenAppear  7416695313311560658       1564053102       246   \n",
       "2  PaymentScreenSuccessful  3518123091307005509       1564054127       248   \n",
       "3         CartScreenAppear  3518123091307005509       1564054127       248   \n",
       "4  PaymentScreenSuccessful  6217807653094995999       1564055322       248   \n",
       "\n",
       "             event_dt  event_date  \n",
       "0 2019-07-25 04:43:36  2019-07-25  \n",
       "1 2019-07-25 11:11:42  2019-07-25  \n",
       "2 2019-07-25 11:28:47  2019-07-25  \n",
       "3 2019-07-25 11:28:47  2019-07-25  \n",
       "4 2019-07-25 11:48:42  2019-07-25  "
      ]
     },
     "execution_count": 14,
     "metadata": {},
     "output_type": "execute_result"
    }
   ],
   "source": [
    "logs['event_date'] = logs['event_dt'].dt.date\n",
    "logs.head()"
   ]
  },
  {
   "cell_type": "markdown",
   "id": "19656ab9",
   "metadata": {},
   "source": [
    "### Этап 2. Вывод.\n",
    "\n",
    "Проверка на дубликаты показала, что их количество состаляет 413 или 0.17% от общего количества записей.\n",
    "\n",
    "Распределение дубликатов по группам:\n",
    "* доля дубликатов в группе 246 составляет 0.15%\n",
    "* доля дубликатов в группе 247 составляет 0.16%\n",
    "* доля дубликатов в группе 248 составляет 0.19%\n",
    "\n",
    "Дубликаты удалены.\n",
    "\n",
    "Данные пропусков не имеют.\n",
    "\n",
    "Проведено преобразование количество секунд из формата`int64` в формат `datetime`, отображающий информацию в виде 'дата + время'. Данные сохранены в столбце `event_dt`.\n",
    "\n",
    "Также добавлен отдельный столбец, где хранится только дата события - `event_date`."
   ]
  },
  {
   "cell_type": "markdown",
   "id": "fc3dd15f",
   "metadata": {},
   "source": [
    "## Этап 3. Изучение и проверка данных."
   ]
  },
  {
   "cell_type": "markdown",
   "id": "20851807",
   "metadata": {},
   "source": [
    "### Посмотрим, сколько всего событий в логе."
   ]
  },
  {
   "cell_type": "code",
   "execution_count": 15,
   "id": "ca8b9ffb",
   "metadata": {},
   "outputs": [
    {
     "name": "stdout",
     "output_type": "stream",
     "text": [
      "Всего событий: 243713\n",
      "Количество событий в группе 246: 80181\n",
      "Количество событий в группе 247: 77950\n",
      "Количество событий в группе 248: 85582\n"
     ]
    }
   ],
   "source": [
    "print('Всего событий:', len(logs))\n",
    "for i in groups :\n",
    "    print('Количество событий в группе {0}: {1}'.format(i, len(logs[logs.group_id == i])))"
   ]
  },
  {
   "cell_type": "markdown",
   "id": "be826535",
   "metadata": {},
   "source": [
    "### Определим, сколько всего пользователей в логе."
   ]
  },
  {
   "cell_type": "markdown",
   "id": "f9a9d369",
   "metadata": {},
   "source": [
    "**Важно!**\n",
    "\n",
    "Для этого примем допущение: одно устройство - один пользователь. В реальности это не совсем верно - у одного пользователя может быть несколько устройств (например, рабочий и личный смартфоны, или смартфон и планшет), и с одного устройства могут осуществлять заказы разные люди (например, члены семьи)."
   ]
  },
  {
   "cell_type": "code",
   "execution_count": 16,
   "id": "f832e74d",
   "metadata": {},
   "outputs": [
    {
     "name": "stdout",
     "output_type": "stream",
     "text": [
      "Всего уникальных пользователей: 7551\n"
     ]
    }
   ],
   "source": [
    "initial_users_qty =  logs['device_id'].nunique()\n",
    "print('Всего уникальных пользователей: {0}'.format(initial_users_qty))"
   ]
  },
  {
   "cell_type": "markdown",
   "id": "f23c96b0",
   "metadata": {},
   "source": [
    "### Определим, сколько в среднем событий приходится на пользователя."
   ]
  },
  {
   "cell_type": "code",
   "execution_count": 17,
   "id": "1efd4dcf",
   "metadata": {},
   "outputs": [
    {
     "name": "stdout",
     "output_type": "stream",
     "text": [
      "Среднее число событий на пользователя: 32.28\n"
     ]
    }
   ],
   "source": [
    "print('Среднее число событий на пользователя: {0:.2f}'.format(len(logs) / logs['device_id'].nunique()))"
   ]
  },
  {
   "cell_type": "code",
   "execution_count": 18,
   "id": "e1672086",
   "metadata": {},
   "outputs": [
    {
     "data": {
      "image/png": "[encoded data removed]",
      "text/plain": [
       "<Figure size 640x480 with 1 Axes>"
      ]
     },
     "metadata": {},
     "output_type": "display_data"
    }
   ],
   "source": [
    "logs.groupby('device_id').agg(events=('device_id', 'count')).hist(bins=100)\n",
    "plt.ylabel('Количество пользователей')\n",
    "plt.xlabel('События')\n",
    "plt.xlim(0, 800);"
   ]
  },
  {
   "cell_type": "markdown",
   "id": "3be6f979",
   "metadata": {},
   "source": [
    "### Определим период, за какой мы располагаем данными."
   ]
  },
  {
   "cell_type": "markdown",
   "id": "ea2322a5",
   "metadata": {},
   "source": [
    "Найдем максимальную и минимальную дату:"
   ]
  },
  {
   "cell_type": "code",
   "execution_count": 19,
   "id": "d3f65168",
   "metadata": {},
   "outputs": [
    {
     "data": {
      "text/plain": [
       "Timestamp('2019-07-25 04:43:36')"
      ]
     },
     "execution_count": 19,
     "metadata": {},
     "output_type": "execute_result"
    }
   ],
   "source": [
    "logs['event_dt'].min()"
   ]
  },
  {
   "cell_type": "code",
   "execution_count": 20,
   "id": "68c35dbc",
   "metadata": {},
   "outputs": [
    {
     "data": {
      "text/plain": [
       "Timestamp('2019-08-07 21:15:17')"
      ]
     },
     "execution_count": 20,
     "metadata": {},
     "output_type": "execute_result"
    }
   ],
   "source": [
    "logs['event_dt'].max()"
   ]
  },
  {
   "cell_type": "markdown",
   "id": "a118ba0e",
   "metadata": {},
   "source": [
    "Определим интервал для подсчета количества корзин для гистограммы:"
   ]
  },
  {
   "cell_type": "code",
   "execution_count": 21,
   "id": "8f73af6d",
   "metadata": {},
   "outputs": [
    {
     "data": {
      "text/plain": [
       "Timedelta('13 days 16:31:41')"
      ]
     },
     "execution_count": 21,
     "metadata": {},
     "output_type": "execute_result"
    }
   ],
   "source": [
    "logs['event_dt'].max() - logs['event_dt'].min()"
   ]
  },
  {
   "cell_type": "markdown",
   "id": "29e3963a",
   "metadata": {},
   "source": [
    "Построим гистограмму:"
   ]
  },
  {
   "cell_type": "code",
   "execution_count": 22,
   "id": "0f99c6fa",
   "metadata": {},
   "outputs": [
    {
     "data": {
      "image/png": "[encoded data removed]",
      "text/plain": [
       "<Figure size 640x480 with 1 Axes>"
      ]
     },
     "metadata": {},
     "output_type": "display_data"
    }
   ],
   "source": [
    "sns.histplot(data=logs['event_dt'], bins=14).set_title('Распределение событий по датам')\n",
    "plt.ylabel('Количество событий')\n",
    "plt.xlabel('Дата')\n",
    "plt.xticks(rotation=30);"
   ]
  },
  {
   "cell_type": "markdown",
   "id": "bddc8fcc",
   "metadata": {},
   "source": [
    "Посмотрим то же самое в таблице:"
   ]
  },
  {
   "cell_type": "code",
   "execution_count": 23,
   "id": "20c3398b",
   "metadata": {},
   "outputs": [
    {
     "data": {
      "text/html": [
       "<div>\n",
       "<style scoped>\n",
       "    .dataframe tbody tr th:only-of-type {\n",
       "        vertical-align: middle;\n",
       "    }\n",
       "\n",
       "    .dataframe tbody tr th {\n",
       "        vertical-align: top;\n",
       "    }\n",
       "\n",
       "    .dataframe thead th {\n",
       "        text-align: right;\n",
       "    }\n",
       "</style>\n",
       "<table border=\"1\" class=\"dataframe\">\n",
       "  <thead>\n",
       "    <tr style=\"text-align: right;\">\n",
       "      <th></th>\n",
       "      <th>events</th>\n",
       "    </tr>\n",
       "    <tr>\n",
       "      <th>event_date</th>\n",
       "      <th></th>\n",
       "    </tr>\n",
       "  </thead>\n",
       "  <tbody>\n",
       "    <tr>\n",
       "      <th>2019-07-25</th>\n",
       "      <td>9</td>\n",
       "    </tr>\n",
       "    <tr>\n",
       "      <th>2019-07-26</th>\n",
       "      <td>31</td>\n",
       "    </tr>\n",
       "    <tr>\n",
       "      <th>2019-07-27</th>\n",
       "      <td>55</td>\n",
       "    </tr>\n",
       "    <tr>\n",
       "      <th>2019-07-28</th>\n",
       "      <td>105</td>\n",
       "    </tr>\n",
       "    <tr>\n",
       "      <th>2019-07-29</th>\n",
       "      <td>184</td>\n",
       "    </tr>\n",
       "    <tr>\n",
       "      <th>2019-07-30</th>\n",
       "      <td>412</td>\n",
       "    </tr>\n",
       "    <tr>\n",
       "      <th>2019-07-31</th>\n",
       "      <td>2030</td>\n",
       "    </tr>\n",
       "    <tr>\n",
       "      <th>2019-08-01</th>\n",
       "      <td>36141</td>\n",
       "    </tr>\n",
       "    <tr>\n",
       "      <th>2019-08-02</th>\n",
       "      <td>35554</td>\n",
       "    </tr>\n",
       "    <tr>\n",
       "      <th>2019-08-03</th>\n",
       "      <td>33282</td>\n",
       "    </tr>\n",
       "    <tr>\n",
       "      <th>2019-08-04</th>\n",
       "      <td>32968</td>\n",
       "    </tr>\n",
       "    <tr>\n",
       "      <th>2019-08-05</th>\n",
       "      <td>36058</td>\n",
       "    </tr>\n",
       "    <tr>\n",
       "      <th>2019-08-06</th>\n",
       "      <td>35788</td>\n",
       "    </tr>\n",
       "    <tr>\n",
       "      <th>2019-08-07</th>\n",
       "      <td>31096</td>\n",
       "    </tr>\n",
       "  </tbody>\n",
       "</table>\n",
       "</div>"
      ],
      "text/plain": [
       "            events\n",
       "event_date        \n",
       "2019-07-25       9\n",
       "2019-07-26      31\n",
       "2019-07-27      55\n",
       "2019-07-28     105\n",
       "2019-07-29     184\n",
       "2019-07-30     412\n",
       "2019-07-31    2030\n",
       "2019-08-01   36141\n",
       "2019-08-02   35554\n",
       "2019-08-03   33282\n",
       "2019-08-04   32968\n",
       "2019-08-05   36058\n",
       "2019-08-06   35788\n",
       "2019-08-07   31096"
      ]
     },
     "execution_count": 23,
     "metadata": {},
     "output_type": "execute_result"
    }
   ],
   "source": [
    "logs.groupby(['event_date']).agg(events=('event_date' , 'count'))"
   ]
  },
  {
   "cell_type": "markdown",
   "id": "f12df83d",
   "metadata": {},
   "source": [
    "Мы видим, что нормальное количество данных собирается только начиная с 01.08.2019. Так как мы не знаем причины \"кривизны\" получения данных, то все, что получено до этой даты, необходимо отбросить. И посмотрим, сколько данных осталось:"
   ]
  },
  {
   "cell_type": "code",
   "execution_count": 24,
   "id": "00f0b4ae",
   "metadata": {
    "scrolled": true
   },
   "outputs": [
    {
     "data": {
      "text/plain": [
       "240887"
      ]
     },
     "execution_count": 24,
     "metadata": {},
     "output_type": "execute_result"
    }
   ],
   "source": [
    "logs = logs[logs['event_dt'] >= pd.Timestamp('2019-08-01')]\n",
    "len(logs)"
   ]
  },
  {
   "cell_type": "code",
   "execution_count": 25,
   "id": "c503ce6f",
   "metadata": {},
   "outputs": [
    {
     "data": {
      "image/png": "[encoded data removed]",
      "text/plain": [
       "<Figure size 640x480 with 1 Axes>"
      ]
     },
     "metadata": {},
     "output_type": "display_data"
    }
   ],
   "source": [
    "sns.histplot(data=logs['event_dt'], bins=7*24).set_title('Распределение событий по датам и времени')\n",
    "plt.ylabel('Количество событий')\n",
    "plt.xlabel('Дата')\n",
    "plt.xticks(rotation=30);"
   ]
  },
  {
   "cell_type": "markdown",
   "id": "0b3285f7",
   "metadata": {},
   "source": [
    "Ночью активность пользователей наименьшая, что ожидаемо. Явной зависимости от дня недели нет."
   ]
  },
  {
   "cell_type": "markdown",
   "id": "60e53387",
   "metadata": {},
   "source": [
    "Реальный период, по которому мы располагаем данными: 01.08.2019 - 07.08.2019."
   ]
  },
  {
   "cell_type": "markdown",
   "id": "7705a3e4",
   "metadata": {},
   "source": [
    "### Определим, много ли событий и пользователей мы потеряли, отбросив старые данные."
   ]
  },
  {
   "cell_type": "markdown",
   "id": "35aa93b6",
   "metadata": {},
   "source": [
    "Посчитаем, какой процент данных остался после того, как мы отбросили аномальную часть данных:"
   ]
  },
  {
   "cell_type": "code",
   "execution_count": 26,
   "id": "6460c72d",
   "metadata": {},
   "outputs": [
    {
     "name": "stdout",
     "output_type": "stream",
     "text": [
      "Осталось 98.84% данных от первоначального их числа.\n"
     ]
    }
   ],
   "source": [
    "print('Осталось {0:.2%} данных от первоначального их числа.'.format(len(logs) / initial_data_len))"
   ]
  },
  {
   "cell_type": "markdown",
   "id": "2c6409aa",
   "metadata": {},
   "source": [
    "Посчитаем, какой процент пользователей остался после того, как мы отбросили аномальную часть данных:"
   ]
  },
  {
   "cell_type": "code",
   "execution_count": 27,
   "id": "bf378a7a",
   "metadata": {},
   "outputs": [
    {
     "name": "stdout",
     "output_type": "stream",
     "text": [
      "Осталось 99.77% пользователей от первоначального их числа.\n"
     ]
    }
   ],
   "source": [
    "print('Осталось {0:.2%} пользователей от первоначального их числа.'\n",
    "      .format(logs['device_id'].nunique() / initial_users_qty))"
   ]
  },
  {
   "cell_type": "markdown",
   "id": "4192a0ba",
   "metadata": {},
   "source": [
    "В результате мы удалили незначительную часть данных:\n",
    "* 1.16% о событиях\n",
    "* 0.23% о пользователях"
   ]
  },
  {
   "cell_type": "markdown",
   "id": "91323a71",
   "metadata": {},
   "source": [
    "### Проверим, есть ли пользователи из всех трёх экспериментальных групп."
   ]
  },
  {
   "cell_type": "code",
   "execution_count": 28,
   "id": "f37a0ce8",
   "metadata": {},
   "outputs": [
    {
     "data": {
      "text/plain": [
       "0"
      ]
     },
     "execution_count": 28,
     "metadata": {},
     "output_type": "execute_result"
    }
   ],
   "source": [
    "len(set(logs[logs.group_id == 246]['device_id']) & set(logs[logs.group_id == 247]['device_id']) \n",
    " & set(logs[logs.group_id == 248]['device_id']))"
   ]
  },
  {
   "cell_type": "markdown",
   "id": "df51ba6c",
   "metadata": {},
   "source": [
    "Теперь посмотрим на наличие пользователей в 2 группах. Проверим все возможные пары:"
   ]
  },
  {
   "cell_type": "code",
   "execution_count": 29,
   "id": "750a8472",
   "metadata": {},
   "outputs": [
    {
     "data": {
      "text/plain": [
       "0"
      ]
     },
     "execution_count": 29,
     "metadata": {},
     "output_type": "execute_result"
    }
   ],
   "source": [
    "len(set(logs[logs.group_id == 246]['device_id']) & set(logs[logs.group_id == 247]['device_id']) )"
   ]
  },
  {
   "cell_type": "code",
   "execution_count": 30,
   "id": "53f0b2cb",
   "metadata": {},
   "outputs": [
    {
     "data": {
      "text/plain": [
       "0"
      ]
     },
     "execution_count": 30,
     "metadata": {},
     "output_type": "execute_result"
    }
   ],
   "source": [
    "len(set(logs[logs.group_id == 246]['device_id']) & set(logs[logs.group_id == 248]['device_id']) )"
   ]
  },
  {
   "cell_type": "code",
   "execution_count": 31,
   "id": "b5972a3e",
   "metadata": {},
   "outputs": [
    {
     "data": {
      "text/plain": [
       "0"
      ]
     },
     "execution_count": 31,
     "metadata": {},
     "output_type": "execute_result"
    }
   ],
   "source": [
    "len(set(logs[logs.group_id == 247]['device_id']) & set(logs[logs.group_id == 248]['device_id']) )"
   ]
  },
  {
   "cell_type": "markdown",
   "id": "62015fb4",
   "metadata": {},
   "source": [
    "Мы видим, что наличия одних и тех же пользователей в различных группах нет - по этому параметру данные собраны корректно."
   ]
  },
  {
   "cell_type": "markdown",
   "id": "c2c8f34f",
   "metadata": {},
   "source": [
    "### Этап 3. Вывод.\n",
    "\n",
    "Мы определили, что:\n",
    "* Всего уникальных событий: 243713\n",
    "* Всего уникальных пользователей: 7551\n",
    "* Среднее число событий на пользователя: 32.28\n",
    "* Реальный период, по которому мы располагаем данными: 01.08.2019 - 07.08.2019.\n",
    "* После удаления аномальной части данных:\n",
    "    - Осталось 98.84% данных от первоначального их числа.\n",
    "    - Осталось 99.77% пользователей от первоначального их числа.\n",
    "* Пользователей, присутствующих одновременно во всех трех группах - нет.\n",
    "* Пользователей, присутствующих одновременно в каких-либо двух группах - нет.\n",
    "\n",
    "Реальный период, по которому мы располагаем данными: 01.08.2019 - 07.08.2019.\n",
    "\n",
    "Все три группы имеют уникальный набор пользователей, пересечений нет."
   ]
  },
  {
   "cell_type": "markdown",
   "id": "4c7c3395",
   "metadata": {},
   "source": [
    "## Этап 4. Изучение воронки событий."
   ]
  },
  {
   "cell_type": "markdown",
   "id": "295b5bfd",
   "metadata": {},
   "source": [
    "### Определим, какие события есть в логах, как часто они встречаются. Отсортируем события по частоте."
   ]
  },
  {
   "cell_type": "markdown",
   "id": "6690c4b4",
   "metadata": {},
   "source": [
    "Как мы определили ранее, всего есть 5 названий событий. Выведем их:"
   ]
  },
  {
   "cell_type": "code",
   "execution_count": 32,
   "id": "f5cfb616",
   "metadata": {
    "scrolled": true
   },
   "outputs": [
    {
     "name": "stdout",
     "output_type": "stream",
     "text": [
      "Tutorial MainScreenAppear OffersScreenAppear CartScreenAppear PaymentScreenSuccessful\n"
     ]
    }
   ],
   "source": [
    "print(*logs['event_name'].unique().tolist())"
   ]
  },
  {
   "cell_type": "markdown",
   "id": "80697617",
   "metadata": {},
   "source": [
    "Теперь посмотрим на их частоту:"
   ]
  },
  {
   "cell_type": "code",
   "execution_count": 33,
   "id": "d70d5714",
   "metadata": {
    "scrolled": true
   },
   "outputs": [
    {
     "data": {
      "text/html": [
       "<div>\n",
       "<style scoped>\n",
       "    .dataframe tbody tr th:only-of-type {\n",
       "        vertical-align: middle;\n",
       "    }\n",
       "\n",
       "    .dataframe tbody tr th {\n",
       "        vertical-align: top;\n",
       "    }\n",
       "\n",
       "    .dataframe thead th {\n",
       "        text-align: right;\n",
       "    }\n",
       "</style>\n",
       "<table border=\"1\" class=\"dataframe\">\n",
       "  <thead>\n",
       "    <tr style=\"text-align: right;\">\n",
       "      <th></th>\n",
       "      <th>events</th>\n",
       "    </tr>\n",
       "    <tr>\n",
       "      <th>event_name</th>\n",
       "      <th></th>\n",
       "    </tr>\n",
       "  </thead>\n",
       "  <tbody>\n",
       "    <tr>\n",
       "      <th>MainScreenAppear</th>\n",
       "      <td>117328</td>\n",
       "    </tr>\n",
       "    <tr>\n",
       "      <th>OffersScreenAppear</th>\n",
       "      <td>46333</td>\n",
       "    </tr>\n",
       "    <tr>\n",
       "      <th>CartScreenAppear</th>\n",
       "      <td>42303</td>\n",
       "    </tr>\n",
       "    <tr>\n",
       "      <th>PaymentScreenSuccessful</th>\n",
       "      <td>33918</td>\n",
       "    </tr>\n",
       "    <tr>\n",
       "      <th>Tutorial</th>\n",
       "      <td>1005</td>\n",
       "    </tr>\n",
       "  </tbody>\n",
       "</table>\n",
       "</div>"
      ],
      "text/plain": [
       "                         events\n",
       "event_name                     \n",
       "MainScreenAppear         117328\n",
       "OffersScreenAppear        46333\n",
       "CartScreenAppear          42303\n",
       "PaymentScreenSuccessful   33918\n",
       "Tutorial                   1005"
      ]
     },
     "execution_count": 33,
     "metadata": {},
     "output_type": "execute_result"
    }
   ],
   "source": [
    "logs.groupby('event_name').agg(events=('device_id' , 'count')).sort_values(by='events', ascending=False)"
   ]
  },
  {
   "cell_type": "markdown",
   "id": "6d5bf7db",
   "metadata": {},
   "source": [
    "### Определить, сколько пользователей совершали каждое из этих событий. Отсортировать события по числу пользователей. Посчитать долю пользователей, которые хоть раз совершали событие."
   ]
  },
  {
   "cell_type": "code",
   "execution_count": 34,
   "id": "d2ff6442",
   "metadata": {
    "scrolled": true
   },
   "outputs": [
    {
     "data": {
      "text/html": [
       "<style type=\"text/css\">\n",
       "</style>\n",
       "<table id=\"T_5b18c\">\n",
       "  <thead>\n",
       "    <tr>\n",
       "      <th class=\"blank level0\" >&nbsp;</th>\n",
       "      <th id=\"T_5b18c_level0_col0\" class=\"col_heading level0 col0\" >users</th>\n",
       "      <th id=\"T_5b18c_level0_col1\" class=\"col_heading level0 col1\" >share</th>\n",
       "    </tr>\n",
       "    <tr>\n",
       "      <th class=\"index_name level0\" >event_name</th>\n",
       "      <th class=\"blank col0\" >&nbsp;</th>\n",
       "      <th class=\"blank col1\" >&nbsp;</th>\n",
       "    </tr>\n",
       "  </thead>\n",
       "  <tbody>\n",
       "    <tr>\n",
       "      <th id=\"T_5b18c_level0_row0\" class=\"row_heading level0 row0\" >MainScreenAppear</th>\n",
       "      <td id=\"T_5b18c_row0_col0\" class=\"data row0 col0\" >7419</td>\n",
       "      <td id=\"T_5b18c_row0_col1\" class=\"data row0 col1\" >98.5%</td>\n",
       "    </tr>\n",
       "    <tr>\n",
       "      <th id=\"T_5b18c_level0_row1\" class=\"row_heading level0 row1\" >OffersScreenAppear</th>\n",
       "      <td id=\"T_5b18c_row1_col0\" class=\"data row1 col0\" >4593</td>\n",
       "      <td id=\"T_5b18c_row1_col1\" class=\"data row1 col1\" >61.0%</td>\n",
       "    </tr>\n",
       "    <tr>\n",
       "      <th id=\"T_5b18c_level0_row2\" class=\"row_heading level0 row2\" >CartScreenAppear</th>\n",
       "      <td id=\"T_5b18c_row2_col0\" class=\"data row2 col0\" >3734</td>\n",
       "      <td id=\"T_5b18c_row2_col1\" class=\"data row2 col1\" >49.6%</td>\n",
       "    </tr>\n",
       "    <tr>\n",
       "      <th id=\"T_5b18c_level0_row3\" class=\"row_heading level0 row3\" >PaymentScreenSuccessful</th>\n",
       "      <td id=\"T_5b18c_row3_col0\" class=\"data row3 col0\" >3539</td>\n",
       "      <td id=\"T_5b18c_row3_col1\" class=\"data row3 col1\" >47.0%</td>\n",
       "    </tr>\n",
       "    <tr>\n",
       "      <th id=\"T_5b18c_level0_row4\" class=\"row_heading level0 row4\" >Tutorial</th>\n",
       "      <td id=\"T_5b18c_row4_col0\" class=\"data row4 col0\" >840</td>\n",
       "      <td id=\"T_5b18c_row4_col1\" class=\"data row4 col1\" >11.1%</td>\n",
       "    </tr>\n",
       "  </tbody>\n",
       "</table>\n"
      ],
      "text/plain": [
       "<pandas.io.formats.style.Styler at 0x178df50fb50>"
      ]
     },
     "execution_count": 34,
     "metadata": {},
     "output_type": "execute_result"
    }
   ],
   "source": [
    "# сделаем сводную таблицу:\n",
    "events_by_users = logs.groupby('event_name').agg(users=('device_id' , 'nunique')).sort_values(by='users' ,ascending=False)\n",
    "\n",
    "# добавим долю пользователей для каждого из событий:\n",
    "events_by_users['share'] = events_by_users['users'] / logs['device_id'].nunique()\n",
    "\n",
    "# отформатируем и выведем на экран:\n",
    "events_by_users.style.format({'share' : '{:.1%}'})"
   ]
  },
  {
   "cell_type": "markdown",
   "id": "a39ec007",
   "metadata": {},
   "source": [
    "### Предположить, в каком порядке происходят события. Определить, все ли они выстраиваются в последовательную цепочку. Их не нужно учитывать при расчёте воронки."
   ]
  },
  {
   "cell_type": "code",
   "execution_count": 35,
   "id": "884d6a35",
   "metadata": {
    "scrolled": true
   },
   "outputs": [
    {
     "name": "stdout",
     "output_type": "stream",
     "text": [
      "MainScreenAppear OffersScreenAppear CartScreenAppear PaymentScreenSuccessful Tutorial\n"
     ]
    }
   ],
   "source": [
    "print(*events_by_users.index.tolist())"
   ]
  },
  {
   "cell_type": "markdown",
   "id": "97db9abd",
   "metadata": {},
   "source": [
    "Воронка должна выглядеть следующим образом:\n",
    "\n",
    "`MainScreenAppear` -> `OffersScreenAppear` -> `CartScreenAppear` -> `PaymentScreenSuccessful`\n",
    "\n",
    "`Tutorial`  в воронку не входит."
   ]
  },
  {
   "cell_type": "markdown",
   "id": "4fbbcce4",
   "metadata": {},
   "source": [
    "### По воронке событий посчитать, какая доля пользователей проходит на следующий шаг воронки (от числа пользователей на предыдущем). То есть для последовательности событий A → B → C посчитать отношение числа пользователей с событием B к количеству пользователей с событием A, а также отношение числа пользователей с событием C к количеству пользователей с событием B."
   ]
  },
  {
   "cell_type": "code",
   "execution_count": 36,
   "id": "cee32159",
   "metadata": {},
   "outputs": [
    {
     "data": {
      "text/html": [
       "<style type=\"text/css\">\n",
       "</style>\n",
       "<table id=\"T_238fa\">\n",
       "  <thead>\n",
       "    <tr>\n",
       "      <th class=\"blank level0\" >&nbsp;</th>\n",
       "      <th id=\"T_238fa_level0_col0\" class=\"col_heading level0 col0\" >users</th>\n",
       "      <th id=\"T_238fa_level0_col1\" class=\"col_heading level0 col1\" >conversion</th>\n",
       "    </tr>\n",
       "    <tr>\n",
       "      <th class=\"index_name level0\" >event_name</th>\n",
       "      <th class=\"blank col0\" >&nbsp;</th>\n",
       "      <th class=\"blank col1\" >&nbsp;</th>\n",
       "    </tr>\n",
       "  </thead>\n",
       "  <tbody>\n",
       "    <tr>\n",
       "      <th id=\"T_238fa_level0_row0\" class=\"row_heading level0 row0\" >MainScreenAppear</th>\n",
       "      <td id=\"T_238fa_row0_col0\" class=\"data row0 col0\" >7419</td>\n",
       "      <td id=\"T_238fa_row0_col1\" class=\"data row0 col1\" >98.5%</td>\n",
       "    </tr>\n",
       "    <tr>\n",
       "      <th id=\"T_238fa_level0_row1\" class=\"row_heading level0 row1\" >OffersScreenAppear</th>\n",
       "      <td id=\"T_238fa_row1_col0\" class=\"data row1 col0\" >4593</td>\n",
       "      <td id=\"T_238fa_row1_col1\" class=\"data row1 col1\" >61.9%</td>\n",
       "    </tr>\n",
       "    <tr>\n",
       "      <th id=\"T_238fa_level0_row2\" class=\"row_heading level0 row2\" >CartScreenAppear</th>\n",
       "      <td id=\"T_238fa_row2_col0\" class=\"data row2 col0\" >3734</td>\n",
       "      <td id=\"T_238fa_row2_col1\" class=\"data row2 col1\" >81.3%</td>\n",
       "    </tr>\n",
       "    <tr>\n",
       "      <th id=\"T_238fa_level0_row3\" class=\"row_heading level0 row3\" >PaymentScreenSuccessful</th>\n",
       "      <td id=\"T_238fa_row3_col0\" class=\"data row3 col0\" >3539</td>\n",
       "      <td id=\"T_238fa_row3_col1\" class=\"data row3 col1\" >94.8%</td>\n",
       "    </tr>\n",
       "  </tbody>\n",
       "</table>\n"
      ],
      "text/plain": [
       "<pandas.io.formats.style.Styler at 0x178e05ce090>"
      ]
     },
     "execution_count": 36,
     "metadata": {},
     "output_type": "execute_result"
    }
   ],
   "source": [
    "# уберем из воронки в нее не входящее:\n",
    "funnel = events_by_users.drop(index='Tutorial')\n",
    "\n",
    "# посчитаем конверсию:\n",
    "funnel['conversion'] = funnel['users'] / funnel['users'].shift()\n",
    "\n",
    "# добавим конверсию для первого пункта, так как мы уже знаем, что не 100% открывают основной экран\n",
    "funnel = funnel.fillna(funnel.loc['MainScreenAppear', 'share'])\n",
    "\n",
    "# выведем результат:\n",
    "funnel[['users', 'conversion']].style.format({'conversion' : '{:.1%}'})"
   ]
  },
  {
   "cell_type": "markdown",
   "id": "f3a55a42",
   "metadata": {},
   "source": [
    "Показатели очень хорошие, но есть 2 странности:\n",
    "* 1.5% вообще не попадают на основной экран;\n",
    "* резкая просадка на первом этапе воронки - только 61.9% переходят с основного экрана к предложениям."
   ]
  },
  {
   "cell_type": "markdown",
   "id": "9d01616d",
   "metadata": {},
   "source": [
    "### Определить, на каком шаге теряете больше всего пользователей."
   ]
  },
  {
   "cell_type": "markdown",
   "id": "d854cefe",
   "metadata": {},
   "source": [
    "Больше всего пользователей мы теряем на первом этапе воронки - только 61.9% переходят с основного экрана к предложениям. <br>Это при том, что конверсия на остальных этапах составляет 98.5%, 81.3% и 94.8%."
   ]
  },
  {
   "cell_type": "markdown",
   "id": "8a0eac4b",
   "metadata": {},
   "source": [
    "### Определить, какая доля пользователей доходит от первого события до оплаты."
   ]
  },
  {
   "cell_type": "code",
   "execution_count": 37,
   "id": "93787c56",
   "metadata": {},
   "outputs": [
    {
     "name": "stdout",
     "output_type": "stream",
     "text": [
      "До оплаты доходит 47.7% пользователей.\n"
     ]
    }
   ],
   "source": [
    "print('До оплаты доходит {0:.1%} пользователей.'\n",
    ".format(funnel.loc['PaymentScreenSuccessful', 'users'] / funnel.loc['MainScreenAppear', 'users']))"
   ]
  },
  {
   "cell_type": "markdown",
   "id": "f4b92e57",
   "metadata": {},
   "source": [
    "### Этап 4. Вывод.\n",
    "\n",
    "В исходных данных имеется всего 5 различных событий. По частоте они распределены следующим образом:\n",
    "\n",
    "| event_name | events |\n",
    "| --- | --- |\n",
    "|MainScreenAppear |117328 |\n",
    "|OffersScreenAppear |46333 |\n",
    "|CartScreenAppear |42303 |\n",
    "|PaymentScreenSuccessful |33918 |\n",
    "|Tutorial |1005 |\n",
    "\n",
    "Мы посчитали количество уникальных пользователей и их долю для каждого из событий:\n",
    "\n",
    "| event_name | users | share |\n",
    "| --- | --- | --- |\n",
    "|MainScreenAppear |7419 |98.5% |\n",
    "|OffersScreenAppear |4593 |61.0% |\n",
    "|CartScreenAppear |3734 |49.6% |\n",
    "|PaymentScreenSuccessful |3539 |47.0% |\n",
    "|Tutorial |840 |11.1% |\n",
    "\n",
    "Исходя из полученных данных, воронка выглядит следующим образом:\n",
    "<br>`MainScreenAppear` -> `OffersScreenAppear` -> `CartScreenAppear` -> `PaymentScreenSuccessful`\n",
    "<br>Событие `Tutorial`  в воронку не входит.\n",
    "\n",
    "Мы рассчитали конверсию для каждого из этапов воронки:\n",
    "\n",
    "| event_name | users | conversion |\n",
    "| --- | --- | --- |\n",
    "|MainScreenAppear |7419 |98.5% |\n",
    "|OffersScreenAppear |4593 |61.9% |\n",
    "|CartScreenAppear |3734 |81.3% |\n",
    "|PaymentScreenSuccessful |3539 |94.8% |\n",
    "\n",
    "Больше всего пользователей мы теряем на первом этапе воронки - только 61.9% переходят с основного экрана к предложениям.\n",
    "Это при том, что конверсия на остальных этапах составляет 98.5%, 81.3% и 94.8%.\n",
    "\n",
    "До оплаты доходит 47.7% пользователей от первого события (что составляет 47% от общего числа пользователей).\n",
    "\n",
    "**Предложения:**\n",
    "* Проверить, почему 1.5% пользователей вообще не попадают на главный экран.\n",
    "* Проверить, почему конверсия 1го этапа (`MainScreenAppear` -> `OffersScreenAppear`) резко ниже всех остальных. С большой долей вероятности можно предроложить, что имеет место неявная проблема.\n",
    "\n",
    "**Комментарий:**\n",
    "\n",
    "Тот факт, что 1.5% пользователей не попадают на главный экран, говорит о необходимости оптимизации самой воронки. Это ведь не сайт, а мобильное приложение. На главном экране размещаются новинки, специальные предложения и персонифицированные подборки - а пользователь проходит мимо этого. Наряду с техническими проблемеми, это может являться причиной столь низкой относительной конверсии первого этапа (`MainScreenAppear` -> `OffersScreenAppear`). Именно в этой точке находится самый большой потенциал для роста."
   ]
  },
  {
   "cell_type": "markdown",
   "id": "79c78b19",
   "metadata": {},
   "source": [
    "## Объявление функций."
   ]
  },
  {
   "cell_type": "markdown",
   "id": "d9aa2047",
   "metadata": {},
   "source": [
    "### distr_cdf"
   ]
  },
  {
   "cell_type": "code",
   "execution_count": 38,
   "id": "802c32b2",
   "metadata": {},
   "outputs": [],
   "source": [
    "def distr_cdf(successes, inbound) :\n",
    "    '''\n",
    "    функция расчета значения p-value двустороннего z-теста.\n",
    "    '''\n",
    "\n",
    "    # пропорция успехов в первой группе:\n",
    "    p1 = successes[0]/inbound[0]\n",
    "\n",
    "    # пропорция успехов во второй группе:\n",
    "    p2 = successes[1]/inbound[1]\n",
    "\n",
    "    # пропорция успехов в комбинированном датасете:\n",
    "    p_combined = (successes[0] + successes[1]) / (inbound[0] + inbound[1])\n",
    "\n",
    "    # разница пропорций в датасетах\n",
    "    difference = p1 - p2 \n",
    "\n",
    "    # считаем статистику в ст.отклонениях стандартного нормального распределения\n",
    "    z_value = difference / mth.sqrt(p_combined * (1 - p_combined) * (1/inbound[0] + 1/inbound[1]))\n",
    "\n",
    "    # задаем стандартное нормальное распределение (среднее 0, ст.отклонение 1)\n",
    "    distr = stats.norm(0, 1)  \n",
    "\n",
    "    # статистику возьмём по модулю, т.к тест двусторонний. По этой же причине удваиваем результат\n",
    "    return (1 - distr.cdf(abs(z_value))) * 2"
   ]
  },
  {
   "cell_type": "markdown",
   "id": "9982b7ec",
   "metadata": {},
   "source": [
    "## Этап 5. Изучение результатов эксперимента."
   ]
  },
  {
   "cell_type": "markdown",
   "id": "c65e73c7",
   "metadata": {},
   "source": [
    "### Определим, сколько пользователей в каждой экспериментальной группе."
   ]
  },
  {
   "cell_type": "code",
   "execution_count": 39,
   "id": "db1bf3f6",
   "metadata": {},
   "outputs": [
    {
     "name": "stdout",
     "output_type": "stream",
     "text": [
      "Количество уникальных пользователей в группе 246: 2484\n",
      "Количество уникальных пользователей в группе 247: 2513\n",
      "Количество уникальных пользователей в группе 248: 2537\n"
     ]
    }
   ],
   "source": [
    "# подсчитаем и сохраним количество пользователей по группам:\n",
    "users_qty_by_group = {}\n",
    "for i in groups :\n",
    "    users_qty_by_group[i] = logs[logs['group_id'] == i]['device_id'].nunique()\n",
    "    print('Количество уникальных пользователей в группе {0}: {1}'.format(i, users_qty_by_group[i]))"
   ]
  },
  {
   "cell_type": "markdown",
   "id": "840f87e6",
   "metadata": {},
   "source": [
    "### Есть 2 контрольные группы для А/А-эксперимента, чтобы проверить корректность всех механизмов и расчётов. Проверить, находят ли статистические критерии разницу между выборками 246 и 247."
   ]
  },
  {
   "cell_type": "markdown",
   "id": "7f0907b2",
   "metadata": {},
   "source": [
    "Разобьём данные по группам:"
   ]
  },
  {
   "cell_type": "code",
   "execution_count": 40,
   "id": "0d325841",
   "metadata": {
    "scrolled": true
   },
   "outputs": [],
   "source": [
    "g246_df = logs[logs['group_id'] == 246]\n",
    "g247_df = logs[logs['group_id'] == 247]\n",
    "g248_df = logs[logs['group_id'] == 248]"
   ]
  },
  {
   "cell_type": "markdown",
   "id": "08d9615d",
   "metadata": {},
   "source": [
    "Проверим распределение по критерию Шапиро-Уилка для 246 группы по пользователям и датам:"
   ]
  },
  {
   "cell_type": "code",
   "execution_count": 41,
   "id": "58a26b54",
   "metadata": {},
   "outputs": [
    {
     "name": "stdout",
     "output_type": "stream",
     "text": [
      "p_value = 0.279\n",
      "Не получилось отвергнуть нулевую гипотезу, распределение нормальное.\n"
     ]
    }
   ],
   "source": [
    "alpha = 0.05  # критический уровень статистической значимости\n",
    "\n",
    "results = stats.shapiro(g246_df.groupby('event_date').agg(data=('device_id' , 'nunique'))['data'].to_list())\n",
    "p_value = results[1] \n",
    "\n",
    "print(f'p_value = {p_value:.3f}')\n",
    "\n",
    "if p_value < alpha:\n",
    "    print('Отвергаем нулевую гипотезу: распределение не нормально.')\n",
    "else:\n",
    "    print('Не получилось отвергнуть нулевую гипотезу, распределение нормальное.') "
   ]
  },
  {
   "cell_type": "markdown",
   "id": "d034aea7",
   "metadata": {},
   "source": [
    "Проверим распределение по критерию Шапиро-Уилка для 247 группы по пользователям и датам:"
   ]
  },
  {
   "cell_type": "code",
   "execution_count": 42,
   "id": "0da1312a",
   "metadata": {},
   "outputs": [
    {
     "name": "stdout",
     "output_type": "stream",
     "text": [
      "p_value = 0.709\n",
      "Не получилось отвергнуть нулевую гипотезу, распределение нормальное.\n"
     ]
    }
   ],
   "source": [
    "alpha = 0.05  # критический уровень статистической значимости\n",
    "\n",
    "results = stats.shapiro(g247_df.groupby('event_date').agg(data=('device_id' , 'nunique'))['data'].to_list())\n",
    "p_value = results[1] \n",
    "\n",
    "print(f'p_value = {p_value:.3f}')\n",
    "\n",
    "if p_value < alpha:\n",
    "    print('Отвергаем нулевую гипотезу: распределение не нормально.')\n",
    "else:\n",
    "    print('Не получилось отвергнуть нулевую гипотезу, распределение нормальное.') "
   ]
  },
  {
   "cell_type": "markdown",
   "id": "0bb9210b",
   "metadata": {},
   "source": [
    "Проверим распределение по критерию Шапиро-Уилка для 246 группы по событиям и датам:"
   ]
  },
  {
   "cell_type": "code",
   "execution_count": 43,
   "id": "bb18b44b",
   "metadata": {},
   "outputs": [
    {
     "name": "stdout",
     "output_type": "stream",
     "text": [
      "p_value = 0.554\n",
      "Не получилось отвергнуть нулевую гипотезу, распределение нормальное.\n"
     ]
    }
   ],
   "source": [
    "alpha = 0.05  # критический уровень статистической значимости\n",
    "\n",
    "results = stats.shapiro(g246_df.groupby('event_date').agg(data=('device_id' , 'count'))['data'].to_list())\n",
    "p_value = results[1] \n",
    "\n",
    "print(f'p_value = {p_value:.3f}')\n",
    "\n",
    "if p_value < alpha:\n",
    "    print('Отвергаем нулевую гипотезу: распределение не нормально.')\n",
    "else:\n",
    "    print('Не получилось отвергнуть нулевую гипотезу, распределение нормальное.') "
   ]
  },
  {
   "cell_type": "markdown",
   "id": "d8b13738",
   "metadata": {},
   "source": [
    "Проверим распределение по критерию Шапиро-Уилка для 247 группы по событиям и датам:"
   ]
  },
  {
   "cell_type": "code",
   "execution_count": 44,
   "id": "4592859f",
   "metadata": {},
   "outputs": [
    {
     "name": "stdout",
     "output_type": "stream",
     "text": [
      "p_value = 0.611\n",
      "Не получилось отвергнуть нулевую гипотезу, распределение нормальное.\n"
     ]
    }
   ],
   "source": [
    "alpha = 0.05  # критический уровень статистической значимости\n",
    "\n",
    "results = stats.shapiro(g247_df.groupby('event_date').agg(data=('device_id' , 'count'))['data'].to_list())\n",
    "p_value = results[1] \n",
    "\n",
    "print(f'p_value = {p_value:.3f}')\n",
    "\n",
    "if p_value < alpha:\n",
    "    print('Отвергаем нулевую гипотезу: распределение не нормально.')\n",
    "else:\n",
    "    print('Не получилось отвергнуть нулевую гипотезу, распределение нормальное.') "
   ]
  },
  {
   "cell_type": "markdown",
   "id": "411f9368",
   "metadata": {},
   "source": [
    "Обе контрольные группы (246 и 247) проходят тест Шапиро-Уилка, распределение нормальное и в разрезе пользователь/дата, и в разрезе событие/дата."
   ]
  },
  {
   "cell_type": "markdown",
   "id": "47d153ef",
   "metadata": {},
   "source": [
    "Применим тест Манна-Уитни для проверки среднего числа событий в группах 246 и 247 по дням."
   ]
  },
  {
   "cell_type": "code",
   "execution_count": 45,
   "id": "8b422ecc",
   "metadata": {},
   "outputs": [
    {
     "name": "stdout",
     "output_type": "stream",
     "text": [
      "p_value = 0.611\n",
      "Не получилось отвергнуть нулевую гипотезу, среднее число событий по дням не различается.\n"
     ]
    }
   ],
   "source": [
    "alpha = 0.05  # критический уровень статистической значимости\n",
    "\n",
    "result =  stats.mannwhitneyu(g246_df.groupby('event_date').agg(data=('device_id' , 'count'))['data'].to_list(), \n",
    "                             g247_df.groupby('event_date').agg(data=('device_id' , 'count'))['data'].to_list())\n",
    "\n",
    "p_value = results[1] \n",
    "\n",
    "print(f'p_value = {p_value:.3f}')\n",
    "\n",
    "if p_value < alpha:\n",
    "    print('Отвергаем нулевую гипотезу: среднее число событий по дням различается.')\n",
    "else:\n",
    "    print('Не получилось отвергнуть нулевую гипотезу, среднее число событий по дням не различается.') "
   ]
  },
  {
   "cell_type": "markdown",
   "id": "5198f23c",
   "metadata": {},
   "source": [
    "Применим тест Манна-Уитни для проверки среднего числа пользователей в группах 246 и 247 по дням."
   ]
  },
  {
   "cell_type": "code",
   "execution_count": 46,
   "id": "c31ae195",
   "metadata": {},
   "outputs": [
    {
     "name": "stdout",
     "output_type": "stream",
     "text": [
      "p_value = 0.611\n",
      "Не получилось отвергнуть нулевую гипотезу, среднее число пользователей по дням не различается.\n"
     ]
    }
   ],
   "source": [
    "alpha = 0.05  # критический уровень статистической значимости\n",
    "\n",
    "result =  stats.mannwhitneyu(g246_df.groupby('event_date').agg(data=('device_id' , 'nunique'))['data'].to_list(), \n",
    "                             g247_df.groupby('event_date').agg(data=('device_id' , 'nunique'))['data'].to_list())\n",
    "\n",
    "p_value = results[1] \n",
    "\n",
    "print(f'p_value = {p_value:.3f}')\n",
    "\n",
    "if p_value < alpha:\n",
    "    print('Отвергаем нулевую гипотезу: среднее число пользователей по дням различается.')\n",
    "else:\n",
    "    print('Не получилось отвергнуть нулевую гипотезу, среднее число пользователей по дням не различается.') "
   ]
  },
  {
   "cell_type": "markdown",
   "id": "fcc19b00",
   "metadata": {},
   "source": [
    "Обе контрольные группы (246 и 247) совместно проходят тест Манна-Уитни в разрезе событие/дата и пользователи/дата, статистически значимых различий не выявлено.\n",
    "\n",
    "z-тесты сделаем в следующем блоке."
   ]
  },
  {
   "cell_type": "markdown",
   "id": "9ee47c11",
   "metadata": {},
   "source": [
    "### Определить самое популярное событие. Посчитать число пользователей, совершивших это событие в каждой из контрольных групп. Посчитать долю пользователей, совершивших это событие. Проверить, будет ли отличие между группами статистически достоверным. Проделать то же самое для всех других событий (удобно обернуть проверку в отдельную функцию). Определить, корректно ли работает разбиение на группы."
   ]
  },
  {
   "cell_type": "markdown",
   "id": "c72a17ca",
   "metadata": {},
   "source": [
    "Самое популярное событие мы определили ранее, это `MainScreenAppear`.\n",
    "\n",
    "Посчитаем число пользователей для него. Для этого соберём сводные данные по событиям и пользователям в один датафрейм:"
   ]
  },
  {
   "cell_type": "code",
   "execution_count": 47,
   "id": "3cf65a74",
   "metadata": {
    "scrolled": true
   },
   "outputs": [
    {
     "data": {
      "text/html": [
       "<div>\n",
       "<style scoped>\n",
       "    .dataframe tbody tr th:only-of-type {\n",
       "        vertical-align: middle;\n",
       "    }\n",
       "\n",
       "    .dataframe tbody tr th {\n",
       "        vertical-align: top;\n",
       "    }\n",
       "\n",
       "    .dataframe thead th {\n",
       "        text-align: right;\n",
       "    }\n",
       "</style>\n",
       "<table border=\"1\" class=\"dataframe\">\n",
       "  <thead>\n",
       "    <tr style=\"text-align: right;\">\n",
       "      <th></th>\n",
       "      <th>users_246</th>\n",
       "      <th>users_247</th>\n",
       "      <th>users_248</th>\n",
       "    </tr>\n",
       "    <tr>\n",
       "      <th>event_name</th>\n",
       "      <th></th>\n",
       "      <th></th>\n",
       "      <th></th>\n",
       "    </tr>\n",
       "  </thead>\n",
       "  <tbody>\n",
       "    <tr>\n",
       "      <th>MainScreenAppear</th>\n",
       "      <td>2450</td>\n",
       "      <td>2476</td>\n",
       "      <td>2493</td>\n",
       "    </tr>\n",
       "    <tr>\n",
       "      <th>OffersScreenAppear</th>\n",
       "      <td>1542</td>\n",
       "      <td>1520</td>\n",
       "      <td>1531</td>\n",
       "    </tr>\n",
       "    <tr>\n",
       "      <th>CartScreenAppear</th>\n",
       "      <td>1266</td>\n",
       "      <td>1238</td>\n",
       "      <td>1230</td>\n",
       "    </tr>\n",
       "    <tr>\n",
       "      <th>PaymentScreenSuccessful</th>\n",
       "      <td>1200</td>\n",
       "      <td>1158</td>\n",
       "      <td>1181</td>\n",
       "    </tr>\n",
       "  </tbody>\n",
       "</table>\n",
       "</div>"
      ],
      "text/plain": [
       "                         users_246  users_247  users_248\n",
       "event_name                                              \n",
       "MainScreenAppear              2450       2476       2493\n",
       "OffersScreenAppear            1542       1520       1531\n",
       "CartScreenAppear              1266       1238       1230\n",
       "PaymentScreenSuccessful       1200       1158       1181"
      ]
     },
     "execution_count": 47,
     "metadata": {},
     "output_type": "execute_result"
    }
   ],
   "source": [
    "# сначала подготовим сводную таблицу по 246 группе:\n",
    "events_by_users_and_groups = (g246_df.groupby('event_name').\n",
    " agg(users=('device_id' , 'nunique')).sort_values(by='users', ascending=False).drop(index='Tutorial'))\n",
    "\n",
    "# добавим к ней данные по 247 группе:\n",
    "events_by_users_and_groups = events_by_users_and_groups.join((g247_df.groupby('event_name').\n",
    "    agg(users=('device_id' , 'nunique')).sort_values(by='users',\n",
    "    ascending=False).drop(index='Tutorial')), lsuffix='_246', rsuffix='_247')\n",
    "\n",
    "# добавим к ней данные по последней, 248 группе:\n",
    "events_by_users_and_groups = events_by_users_and_groups.join((g248_df.groupby('event_name').\n",
    "    agg(users=('device_id' , 'nunique')).sort_values(by='users',\n",
    "    ascending=False).drop(index='Tutorial')))\n",
    "\n",
    "# Переименуем последний столбец:\n",
    "events_by_users_and_groups = events_by_users_and_groups.rename(columns={'users' : 'users_248'})\n",
    "\n",
    "# выведем результат:\n",
    "events_by_users_and_groups"
   ]
  },
  {
   "cell_type": "markdown",
   "id": "491c904b",
   "metadata": {},
   "source": [
    "Добавим общее число пользователей по группам:"
   ]
  },
  {
   "cell_type": "code",
   "execution_count": 48,
   "id": "6921d2b3",
   "metadata": {
    "scrolled": true
   },
   "outputs": [
    {
     "data": {
      "text/html": [
       "<div>\n",
       "<style scoped>\n",
       "    .dataframe tbody tr th:only-of-type {\n",
       "        vertical-align: middle;\n",
       "    }\n",
       "\n",
       "    .dataframe tbody tr th {\n",
       "        vertical-align: top;\n",
       "    }\n",
       "\n",
       "    .dataframe thead th {\n",
       "        text-align: right;\n",
       "    }\n",
       "</style>\n",
       "<table border=\"1\" class=\"dataframe\">\n",
       "  <thead>\n",
       "    <tr style=\"text-align: right;\">\n",
       "      <th></th>\n",
       "      <th>users_246</th>\n",
       "      <th>users_247</th>\n",
       "      <th>users_248</th>\n",
       "    </tr>\n",
       "    <tr>\n",
       "      <th>event_name</th>\n",
       "      <th></th>\n",
       "      <th></th>\n",
       "      <th></th>\n",
       "    </tr>\n",
       "  </thead>\n",
       "  <tbody>\n",
       "    <tr>\n",
       "      <th>Initial</th>\n",
       "      <td>2484</td>\n",
       "      <td>2513</td>\n",
       "      <td>2537</td>\n",
       "    </tr>\n",
       "    <tr>\n",
       "      <th>MainScreenAppear</th>\n",
       "      <td>2450</td>\n",
       "      <td>2476</td>\n",
       "      <td>2493</td>\n",
       "    </tr>\n",
       "    <tr>\n",
       "      <th>OffersScreenAppear</th>\n",
       "      <td>1542</td>\n",
       "      <td>1520</td>\n",
       "      <td>1531</td>\n",
       "    </tr>\n",
       "    <tr>\n",
       "      <th>CartScreenAppear</th>\n",
       "      <td>1266</td>\n",
       "      <td>1238</td>\n",
       "      <td>1230</td>\n",
       "    </tr>\n",
       "    <tr>\n",
       "      <th>PaymentScreenSuccessful</th>\n",
       "      <td>1200</td>\n",
       "      <td>1158</td>\n",
       "      <td>1181</td>\n",
       "    </tr>\n",
       "  </tbody>\n",
       "</table>\n",
       "</div>"
      ],
      "text/plain": [
       "                         users_246  users_247  users_248\n",
       "event_name                                              \n",
       "Initial                       2484       2513       2537\n",
       "MainScreenAppear              2450       2476       2493\n",
       "OffersScreenAppear            1542       1520       1531\n",
       "CartScreenAppear              1266       1238       1230\n",
       "PaymentScreenSuccessful       1200       1158       1181"
      ]
     },
     "execution_count": 48,
     "metadata": {},
     "output_type": "execute_result"
    }
   ],
   "source": [
    "events_by_users_and_groups.loc['Initial'] = [users_qty_by_group[246], users_qty_by_group[247], users_qty_by_group[248]]\n",
    "events_by_users_and_groups = events_by_users_and_groups.sort_values(by='users_246', ascending=False)\n",
    "\n",
    "events_by_users_and_groups"
   ]
  },
  {
   "cell_type": "markdown",
   "id": "ffc9f133",
   "metadata": {},
   "source": [
    "Добавим доли пользователей для каждой из групп:"
   ]
  },
  {
   "cell_type": "code",
   "execution_count": 49,
   "id": "db40e709",
   "metadata": {},
   "outputs": [
    {
     "data": {
      "text/html": [
       "<style type=\"text/css\">\n",
       "</style>\n",
       "<table id=\"T_07bdc\">\n",
       "  <thead>\n",
       "    <tr>\n",
       "      <th class=\"blank level0\" >&nbsp;</th>\n",
       "      <th id=\"T_07bdc_level0_col0\" class=\"col_heading level0 col0\" >users_246</th>\n",
       "      <th id=\"T_07bdc_level0_col1\" class=\"col_heading level0 col1\" >share_246</th>\n",
       "      <th id=\"T_07bdc_level0_col2\" class=\"col_heading level0 col2\" >users_247</th>\n",
       "      <th id=\"T_07bdc_level0_col3\" class=\"col_heading level0 col3\" >share_247</th>\n",
       "      <th id=\"T_07bdc_level0_col4\" class=\"col_heading level0 col4\" >users_248</th>\n",
       "      <th id=\"T_07bdc_level0_col5\" class=\"col_heading level0 col5\" >share_248</th>\n",
       "    </tr>\n",
       "    <tr>\n",
       "      <th class=\"index_name level0\" >event_name</th>\n",
       "      <th class=\"blank col0\" >&nbsp;</th>\n",
       "      <th class=\"blank col1\" >&nbsp;</th>\n",
       "      <th class=\"blank col2\" >&nbsp;</th>\n",
       "      <th class=\"blank col3\" >&nbsp;</th>\n",
       "      <th class=\"blank col4\" >&nbsp;</th>\n",
       "      <th class=\"blank col5\" >&nbsp;</th>\n",
       "    </tr>\n",
       "  </thead>\n",
       "  <tbody>\n",
       "    <tr>\n",
       "      <th id=\"T_07bdc_level0_row0\" class=\"row_heading level0 row0\" >MainScreenAppear</th>\n",
       "      <td id=\"T_07bdc_row0_col0\" class=\"data row0 col0\" >2450</td>\n",
       "      <td id=\"T_07bdc_row0_col1\" class=\"data row0 col1\" >98.6%</td>\n",
       "      <td id=\"T_07bdc_row0_col2\" class=\"data row0 col2\" >2476</td>\n",
       "      <td id=\"T_07bdc_row0_col3\" class=\"data row0 col3\" >98.5%</td>\n",
       "      <td id=\"T_07bdc_row0_col4\" class=\"data row0 col4\" >2493</td>\n",
       "      <td id=\"T_07bdc_row0_col5\" class=\"data row0 col5\" >98.3%</td>\n",
       "    </tr>\n",
       "    <tr>\n",
       "      <th id=\"T_07bdc_level0_row1\" class=\"row_heading level0 row1\" >OffersScreenAppear</th>\n",
       "      <td id=\"T_07bdc_row1_col0\" class=\"data row1 col0\" >1542</td>\n",
       "      <td id=\"T_07bdc_row1_col1\" class=\"data row1 col1\" >62.9%</td>\n",
       "      <td id=\"T_07bdc_row1_col2\" class=\"data row1 col2\" >1520</td>\n",
       "      <td id=\"T_07bdc_row1_col3\" class=\"data row1 col3\" >61.4%</td>\n",
       "      <td id=\"T_07bdc_row1_col4\" class=\"data row1 col4\" >1531</td>\n",
       "      <td id=\"T_07bdc_row1_col5\" class=\"data row1 col5\" >61.4%</td>\n",
       "    </tr>\n",
       "    <tr>\n",
       "      <th id=\"T_07bdc_level0_row2\" class=\"row_heading level0 row2\" >CartScreenAppear</th>\n",
       "      <td id=\"T_07bdc_row2_col0\" class=\"data row2 col0\" >1266</td>\n",
       "      <td id=\"T_07bdc_row2_col1\" class=\"data row2 col1\" >82.1%</td>\n",
       "      <td id=\"T_07bdc_row2_col2\" class=\"data row2 col2\" >1238</td>\n",
       "      <td id=\"T_07bdc_row2_col3\" class=\"data row2 col3\" >81.4%</td>\n",
       "      <td id=\"T_07bdc_row2_col4\" class=\"data row2 col4\" >1230</td>\n",
       "      <td id=\"T_07bdc_row2_col5\" class=\"data row2 col5\" >80.3%</td>\n",
       "    </tr>\n",
       "    <tr>\n",
       "      <th id=\"T_07bdc_level0_row3\" class=\"row_heading level0 row3\" >PaymentScreenSuccessful</th>\n",
       "      <td id=\"T_07bdc_row3_col0\" class=\"data row3 col0\" >1200</td>\n",
       "      <td id=\"T_07bdc_row3_col1\" class=\"data row3 col1\" >94.8%</td>\n",
       "      <td id=\"T_07bdc_row3_col2\" class=\"data row3 col2\" >1158</td>\n",
       "      <td id=\"T_07bdc_row3_col3\" class=\"data row3 col3\" >93.5%</td>\n",
       "      <td id=\"T_07bdc_row3_col4\" class=\"data row3 col4\" >1181</td>\n",
       "      <td id=\"T_07bdc_row3_col5\" class=\"data row3 col5\" >96.0%</td>\n",
       "    </tr>\n",
       "  </tbody>\n",
       "</table>\n"
      ],
      "text/plain": [
       "<pandas.io.formats.style.Styler at 0x178e193f390>"
      ]
     },
     "execution_count": 49,
     "metadata": {},
     "output_type": "execute_result"
    }
   ],
   "source": [
    "events_by_users_and_groups['share_246'] = (events_by_users_and_groups['users_246'] \n",
    "                                           / events_by_users_and_groups['users_246'].shift())\n",
    "\n",
    "events_by_users_and_groups['share_247'] = (events_by_users_and_groups['users_247'] \n",
    "                                           / events_by_users_and_groups['users_247'].shift())\n",
    "\n",
    "events_by_users_and_groups['share_248'] = (events_by_users_and_groups['users_248'] \n",
    "                                           / events_by_users_and_groups['users_248'].shift())\n",
    "\n",
    "# изменим порядок столбцов для удобства:\n",
    "columns_list = events_by_users_and_groups.columns.to_list()\n",
    "new_order = []\n",
    "new_order.append(columns_list[0])\n",
    "new_order.append(columns_list[-3])\n",
    "new_order.append(columns_list[1])\n",
    "new_order.append(columns_list[-2])\n",
    "new_order.append(columns_list[2])\n",
    "new_order.append(columns_list[-1])\n",
    "events_by_users_and_groups = events_by_users_and_groups.reindex(columns=new_order)\n",
    "\n",
    "# выведем на экран без начальной строки:\n",
    "events_by_users_and_groups[1:].style.format({'share_246' : '{:.1%}', 'share_247' : '{:.1%}', 'share_248' : '{:.1%}'})"
   ]
  },
  {
   "cell_type": "code",
   "execution_count": 50,
   "id": "57899275",
   "metadata": {},
   "outputs": [
    {
     "name": "stdout",
     "output_type": "stream",
     "text": [
      "u246= [2484, 2450, 1542, 1266, 1200]\n",
      "u247= [2513, 2476, 1520, 1238, 1158]\n",
      "u248= [2537, 2493, 1531, 1230, 1181]\n",
      "['Initial', 'MainScreenAppear', 'OffersScreenAppear', 'CartScreenAppear', 'PaymentScreenSuccessful']\n"
     ]
    }
   ],
   "source": [
    "# создадим список количества пользователей для каждого из этапов воронки для каждой группы.\n",
    "\n",
    "# создадим список с количеством пользователей для каждого из событий для группы 246:\n",
    "u246 = events_by_users_and_groups['users_246'].to_list()\n",
    "\n",
    "# создадим список с количеством пользователей для каждого из событий для группы 247:\n",
    "u247 = events_by_users_and_groups['users_247'].to_list()\n",
    "\n",
    "# создадим список с количеством пользователей для каждого из событий для группы 248:\n",
    "u248 = events_by_users_and_groups['users_248'].to_list()\n",
    "\n",
    "# создадим список событий (включая `Initial`, которое событием не является, но необходимо для дальнейших расчётов)\n",
    "event_names = events_by_users_and_groups.index.to_list()\n",
    "\n",
    "# проверим, что получилось:\n",
    "print('u246=', u246)\n",
    "print('u247=', u247)\n",
    "print('u248=', u248)\n",
    "print(event_names)"
   ]
  },
  {
   "cell_type": "markdown",
   "id": "1d65a913",
   "metadata": {},
   "source": [
    "Проведем статистический анализ групп 246 и 247 (z-тест):"
   ]
  },
  {
   "cell_type": "markdown",
   "id": "7ff03494",
   "metadata": {},
   "source": [
    "Сформулируем гипотезы для z-теста:\n",
    "* **нулевая: статистически значимой разницы между конверсией в тестируемых группах нет**\n",
    "* **альтернативная: статистически значимая разница между конверсией есть**"
   ]
  },
  {
   "cell_type": "code",
   "execution_count": 51,
   "id": "80ed8464",
   "metadata": {
    "scrolled": true
   },
   "outputs": [
    {
     "name": "stdout",
     "output_type": "stream",
     "text": [
      "Расчет для события `MainScreenAppear`:\n",
      "p_value = 0.757\n",
      "статистически значимой разницы между конверсией в тестируемых группах нет.\n",
      "\n",
      "Расчет для события `OffersScreenAppear`:\n",
      "p_value = 0.248\n",
      "статистически значимой разницы между конверсией в тестируемых группах нет.\n",
      "\n",
      "Расчет для события `CartScreenAppear`:\n",
      "p_value = 0.229\n",
      "статистически значимой разницы между конверсией в тестируемых группах нет.\n",
      "\n",
      "Расчет для события `PaymentScreenSuccessful`:\n",
      "p_value = 0.115\n",
      "статистически значимой разницы между конверсией в тестируемых группах нет.\n",
      "\n"
     ]
    }
   ],
   "source": [
    "# подготовим данные по 2 группам: исходное количество пользователей и количество успешных пользователей события:\n",
    "for i in range(1, len(event_names)) :\n",
    "    \n",
    "    # выберем данные для текущего события и для сравнения\n",
    "    inbound = [u246[0], u247[0]]\n",
    "    successes = [u246[i], u247[i]]\n",
    "\n",
    "    # зададим критический уровень статистической значимости:\n",
    "    alpha = 0.05\n",
    "\n",
    "    # вызовем нашу статистическую функцию для расчета p-value:\n",
    "    p_value = distr_cdf(successes, inbound) \n",
    "\n",
    "    print(f'Расчет для события `{event_names[i]}`:')\n",
    "    print(f'p_value = {p_value:.3f}')\n",
    "\n",
    "    if p_value < alpha:\n",
    "        print('Отвергаем нулевую гипотезу: статистически значимая разница между конверсией есть.')\n",
    "    else:\n",
    "        print(\n",
    "            'статистически значимой разницы между конверсией в тестируемых группах нет.'\n",
    "        ) \n",
    "    print()"
   ]
  },
  {
   "cell_type": "markdown",
   "id": "97e0c9de",
   "metadata": {},
   "source": [
    "Разбиение на контрольные группы (246 и 247) корректно - ни по одному из событий мы не можем отвергнуть нулевую гипотезу, нет оснований считать доли разными (z-тест). "
   ]
  },
  {
   "cell_type": "markdown",
   "id": "c2f694b6",
   "metadata": {},
   "source": [
    "### Аналогично поступите с группой В (экспериментальной). Сравнить результаты с каждой из контрольных групп в отдельности по каждому событию. Сравнить результаты с объединённой контрольной группой. корректно, какие выводы из эксперимента можно сделать."
   ]
  },
  {
   "cell_type": "markdown",
   "id": "723c0ce2",
   "metadata": {},
   "source": [
    "Проведем статистический анализ групп 246 и 248 (z-тест):"
   ]
  },
  {
   "cell_type": "code",
   "execution_count": 52,
   "id": "fad662be",
   "metadata": {},
   "outputs": [
    {
     "name": "stdout",
     "output_type": "stream",
     "text": [
      "Расчет для события `MainScreenAppear`:\n",
      "p_value = 0.295\n",
      "статистически значимой разницы между конверсией в тестируемых группах нет.\n",
      "\n",
      "Расчет для события `OffersScreenAppear`:\n",
      "p_value = 0.208\n",
      "статистически значимой разницы между конверсией в тестируемых группах нет.\n",
      "\n",
      "Расчет для события `CartScreenAppear`:\n",
      "p_value = 0.078\n",
      "статистически значимой разницы между конверсией в тестируемых группах нет.\n",
      "\n",
      "Расчет для события `PaymentScreenSuccessful`:\n",
      "p_value = 0.212\n",
      "статистически значимой разницы между конверсией в тестируемых группах нет.\n",
      "\n"
     ]
    }
   ],
   "source": [
    "# подготовим данные по 2 группам: исходное количество пользователей и количество успешных пользователей события\n",
    "# первую строку пропускаем - это начальные данные для расчёта:\n",
    "for i in range(1, len(event_names)) :\n",
    "    \n",
    "    # выберем данные для текущего события и для сравнения\n",
    "    inbound = [u246[0], u248[0]]\n",
    "    successes = [u246[i], u248[i]]\n",
    "\n",
    "    # зададим критический уровень статистической значимости:\n",
    "    alpha = 0.05 / 3\n",
    "\n",
    "    # вызовем нашу статистическую функцию для расчета p-value:\n",
    "    p_value = distr_cdf(successes, inbound) \n",
    "\n",
    "    print(f'Расчет для события `{event_names[i]}`:')\n",
    "    print(f'p_value = {p_value:.3f}')\n",
    "\n",
    "    if p_value < alpha:\n",
    "        print('Отвергаем нулевую гипотезу: статистически значимая разница между конверсией есть.')\n",
    "    else:\n",
    "        print(\n",
    "            'статистически значимой разницы между конверсией в тестируемых группах нет.'\n",
    "        ) \n",
    "    print()"
   ]
  },
  {
   "cell_type": "markdown",
   "id": "4a687cd2",
   "metadata": {},
   "source": [
    "Статистических различий между 246 и 248 группами не выявлено (z-тест).\n",
    "\n",
    "Переходим к группам 247 и 248 (z-тест):"
   ]
  },
  {
   "cell_type": "code",
   "execution_count": 53,
   "id": "9a4003f2",
   "metadata": {},
   "outputs": [
    {
     "name": "stdout",
     "output_type": "stream",
     "text": [
      "Расчет для события `MainScreenAppear`:\n",
      "p_value = 0.459\n",
      "статистически значимой разницы между конверсией в тестируемых группах нет.\n",
      "\n",
      "Расчет для события `OffersScreenAppear`:\n",
      "p_value = 0.920\n",
      "статистически значимой разницы между конверсией в тестируемых группах нет.\n",
      "\n",
      "Расчет для события `CartScreenAppear`:\n",
      "p_value = 0.579\n",
      "статистически значимой разницы между конверсией в тестируемых группах нет.\n",
      "\n",
      "Расчет для события `PaymentScreenSuccessful`:\n",
      "p_value = 0.737\n",
      "статистически значимой разницы между конверсией в тестируемых группах нет.\n",
      "\n"
     ]
    }
   ],
   "source": [
    "# подготовим данные по 2 группам: исходное количество пользователей и количество успешных пользователей события.\n",
    "# первую строку пропускаем - это начальные данные для расчёта:\n",
    "for i in range(1, len(event_names)) :\n",
    "    \n",
    "    # выберем данные для текущего события и для сравнения \n",
    "    inbound = [u247[0], u248[0]]\n",
    "    successes = [u247[i], u248[i]]\n",
    "\n",
    "    # зададим критический уровень статистической значимости:\n",
    "    alpha = 0.05 / 3\n",
    "\n",
    "    # вызовем нашу статистическую функцию для расчета p-value:\n",
    "    p_value = distr_cdf(successes, inbound) \n",
    "\n",
    "    print(f'Расчет для события `{event_names[i]}`:')\n",
    "    print(f'p_value = {p_value:.3f}')\n",
    "\n",
    "    if p_value < alpha:\n",
    "        print('Отвергаем нулевую гипотезу: статистически значимая разница между конверсией есть.')\n",
    "    else:\n",
    "        print(\n",
    "            'статистически значимой разницы между конверсией в тестируемых группах нет.'\n",
    "        ) \n",
    "    print()"
   ]
  },
  {
   "cell_type": "markdown",
   "id": "e0fb00a5",
   "metadata": {},
   "source": [
    "Статистических различий между 247 и 248 группами не выявлено (z-тест)."
   ]
  },
  {
   "cell_type": "code",
   "execution_count": 54,
   "id": "3f23f667",
   "metadata": {
    "scrolled": true
   },
   "outputs": [
    {
     "data": {
      "text/html": [
       "<style type=\"text/css\">\n",
       "</style>\n",
       "<table id=\"T_ba7b9\">\n",
       "  <thead>\n",
       "    <tr>\n",
       "      <th class=\"blank level0\" >&nbsp;</th>\n",
       "      <th id=\"T_ba7b9_level0_col0\" class=\"col_heading level0 col0\" >users_246</th>\n",
       "      <th id=\"T_ba7b9_level0_col1\" class=\"col_heading level0 col1\" >share_246</th>\n",
       "      <th id=\"T_ba7b9_level0_col2\" class=\"col_heading level0 col2\" >users_247</th>\n",
       "      <th id=\"T_ba7b9_level0_col3\" class=\"col_heading level0 col3\" >share_247</th>\n",
       "      <th id=\"T_ba7b9_level0_col4\" class=\"col_heading level0 col4\" >users_248</th>\n",
       "      <th id=\"T_ba7b9_level0_col5\" class=\"col_heading level0 col5\" >share_248</th>\n",
       "      <th id=\"T_ba7b9_level0_col6\" class=\"col_heading level0 col6\" >aa_group</th>\n",
       "      <th id=\"T_ba7b9_level0_col7\" class=\"col_heading level0 col7\" >aa_group_share</th>\n",
       "    </tr>\n",
       "    <tr>\n",
       "      <th class=\"index_name level0\" >event_name</th>\n",
       "      <th class=\"blank col0\" >&nbsp;</th>\n",
       "      <th class=\"blank col1\" >&nbsp;</th>\n",
       "      <th class=\"blank col2\" >&nbsp;</th>\n",
       "      <th class=\"blank col3\" >&nbsp;</th>\n",
       "      <th class=\"blank col4\" >&nbsp;</th>\n",
       "      <th class=\"blank col5\" >&nbsp;</th>\n",
       "      <th class=\"blank col6\" >&nbsp;</th>\n",
       "      <th class=\"blank col7\" >&nbsp;</th>\n",
       "    </tr>\n",
       "  </thead>\n",
       "  <tbody>\n",
       "    <tr>\n",
       "      <th id=\"T_ba7b9_level0_row0\" class=\"row_heading level0 row0\" >Initial</th>\n",
       "      <td id=\"T_ba7b9_row0_col0\" class=\"data row0 col0\" >2484</td>\n",
       "      <td id=\"T_ba7b9_row0_col1\" class=\"data row0 col1\" >nan%</td>\n",
       "      <td id=\"T_ba7b9_row0_col2\" class=\"data row0 col2\" >2513</td>\n",
       "      <td id=\"T_ba7b9_row0_col3\" class=\"data row0 col3\" >nan%</td>\n",
       "      <td id=\"T_ba7b9_row0_col4\" class=\"data row0 col4\" >2537</td>\n",
       "      <td id=\"T_ba7b9_row0_col5\" class=\"data row0 col5\" >nan%</td>\n",
       "      <td id=\"T_ba7b9_row0_col6\" class=\"data row0 col6\" >4997</td>\n",
       "      <td id=\"T_ba7b9_row0_col7\" class=\"data row0 col7\" >nan%</td>\n",
       "    </tr>\n",
       "    <tr>\n",
       "      <th id=\"T_ba7b9_level0_row1\" class=\"row_heading level0 row1\" >MainScreenAppear</th>\n",
       "      <td id=\"T_ba7b9_row1_col0\" class=\"data row1 col0\" >2450</td>\n",
       "      <td id=\"T_ba7b9_row1_col1\" class=\"data row1 col1\" >98.6%</td>\n",
       "      <td id=\"T_ba7b9_row1_col2\" class=\"data row1 col2\" >2476</td>\n",
       "      <td id=\"T_ba7b9_row1_col3\" class=\"data row1 col3\" >98.5%</td>\n",
       "      <td id=\"T_ba7b9_row1_col4\" class=\"data row1 col4\" >2493</td>\n",
       "      <td id=\"T_ba7b9_row1_col5\" class=\"data row1 col5\" >98.3%</td>\n",
       "      <td id=\"T_ba7b9_row1_col6\" class=\"data row1 col6\" >4926</td>\n",
       "      <td id=\"T_ba7b9_row1_col7\" class=\"data row1 col7\" >98.6%</td>\n",
       "    </tr>\n",
       "    <tr>\n",
       "      <th id=\"T_ba7b9_level0_row2\" class=\"row_heading level0 row2\" >OffersScreenAppear</th>\n",
       "      <td id=\"T_ba7b9_row2_col0\" class=\"data row2 col0\" >1542</td>\n",
       "      <td id=\"T_ba7b9_row2_col1\" class=\"data row2 col1\" >62.9%</td>\n",
       "      <td id=\"T_ba7b9_row2_col2\" class=\"data row2 col2\" >1520</td>\n",
       "      <td id=\"T_ba7b9_row2_col3\" class=\"data row2 col3\" >61.4%</td>\n",
       "      <td id=\"T_ba7b9_row2_col4\" class=\"data row2 col4\" >1531</td>\n",
       "      <td id=\"T_ba7b9_row2_col5\" class=\"data row2 col5\" >61.4%</td>\n",
       "      <td id=\"T_ba7b9_row2_col6\" class=\"data row2 col6\" >3062</td>\n",
       "      <td id=\"T_ba7b9_row2_col7\" class=\"data row2 col7\" >62.2%</td>\n",
       "    </tr>\n",
       "    <tr>\n",
       "      <th id=\"T_ba7b9_level0_row3\" class=\"row_heading level0 row3\" >CartScreenAppear</th>\n",
       "      <td id=\"T_ba7b9_row3_col0\" class=\"data row3 col0\" >1266</td>\n",
       "      <td id=\"T_ba7b9_row3_col1\" class=\"data row3 col1\" >82.1%</td>\n",
       "      <td id=\"T_ba7b9_row3_col2\" class=\"data row3 col2\" >1238</td>\n",
       "      <td id=\"T_ba7b9_row3_col3\" class=\"data row3 col3\" >81.4%</td>\n",
       "      <td id=\"T_ba7b9_row3_col4\" class=\"data row3 col4\" >1230</td>\n",
       "      <td id=\"T_ba7b9_row3_col5\" class=\"data row3 col5\" >80.3%</td>\n",
       "      <td id=\"T_ba7b9_row3_col6\" class=\"data row3 col6\" >2504</td>\n",
       "      <td id=\"T_ba7b9_row3_col7\" class=\"data row3 col7\" >81.8%</td>\n",
       "    </tr>\n",
       "    <tr>\n",
       "      <th id=\"T_ba7b9_level0_row4\" class=\"row_heading level0 row4\" >PaymentScreenSuccessful</th>\n",
       "      <td id=\"T_ba7b9_row4_col0\" class=\"data row4 col0\" >1200</td>\n",
       "      <td id=\"T_ba7b9_row4_col1\" class=\"data row4 col1\" >94.8%</td>\n",
       "      <td id=\"T_ba7b9_row4_col2\" class=\"data row4 col2\" >1158</td>\n",
       "      <td id=\"T_ba7b9_row4_col3\" class=\"data row4 col3\" >93.5%</td>\n",
       "      <td id=\"T_ba7b9_row4_col4\" class=\"data row4 col4\" >1181</td>\n",
       "      <td id=\"T_ba7b9_row4_col5\" class=\"data row4 col5\" >96.0%</td>\n",
       "      <td id=\"T_ba7b9_row4_col6\" class=\"data row4 col6\" >2358</td>\n",
       "      <td id=\"T_ba7b9_row4_col7\" class=\"data row4 col7\" >94.2%</td>\n",
       "    </tr>\n",
       "  </tbody>\n",
       "</table>\n"
      ],
      "text/plain": [
       "<pandas.io.formats.style.Styler at 0x178e176ffd0>"
      ]
     },
     "execution_count": 54,
     "metadata": {},
     "output_type": "execute_result"
    }
   ],
   "source": [
    "events_by_users_and_groups['aa_group'] = events_by_users_and_groups['users_246'] + events_by_users_and_groups['users_247']\n",
    "events_by_users_and_groups['aa_group_share'] = (events_by_users_and_groups['aa_group'] \n",
    "                                                / events_by_users_and_groups['aa_group'].shift())\n",
    "\n",
    "# отформатируем и выведем на экран:\n",
    "columns_to_format = events_by_users_and_groups[['share_246', 'share_247', 'share_248', 'aa_group_share']] \n",
    "events_by_users_and_groups.style.format('{:.1%}', subset=[col for col in columns_to_format])"
   ]
  },
  {
   "cell_type": "code",
   "execution_count": 55,
   "id": "4a3620e7",
   "metadata": {},
   "outputs": [
    {
     "data": {
      "text/plain": [
       "[4997, 4926, 3062, 2504, 2358]"
      ]
     },
     "execution_count": 55,
     "metadata": {},
     "output_type": "execute_result"
    }
   ],
   "source": [
    "# создадим список количества пользователей для каждого из этапов воронки для объединённой группы:\n",
    "\n",
    "# добавим количество пользователей для каждого из событий для группы 246:\n",
    "u_aa = events_by_users_and_groups['aa_group'].to_list()\n",
    "\n",
    "# выведем на экран:\n",
    "u_aa"
   ]
  },
  {
   "cell_type": "markdown",
   "id": "58042c36",
   "metadata": {},
   "source": [
    "Остальные данные у нас уже есть, можем проводить тест:"
   ]
  },
  {
   "cell_type": "code",
   "execution_count": 56,
   "id": "36ced454",
   "metadata": {},
   "outputs": [
    {
     "name": "stdout",
     "output_type": "stream",
     "text": [
      "Расчет для события `MainScreenAppear`:\n",
      "p_value = 0.294\n",
      "статистически значимой разницы между конверсией в тестируемых группах нет.\n",
      "\n",
      "Расчет для события `OffersScreenAppear`:\n",
      "p_value = 0.434\n",
      "статистически значимой разницы между конверсией в тестируемых группах нет.\n",
      "\n",
      "Расчет для события `CartScreenAppear`:\n",
      "p_value = 0.182\n",
      "статистически значимой разницы между конверсией в тестируемых группах нет.\n",
      "\n",
      "Расчет для события `PaymentScreenSuccessful`:\n",
      "p_value = 0.600\n",
      "статистически значимой разницы между конверсией в тестируемых группах нет.\n",
      "\n"
     ]
    }
   ],
   "source": [
    "# подготовим данные по 2 группам: исходное количество пользователей и количество успешных пользователей события.\n",
    "# первую строку пропускаем - это начальные данные для расчёта:\n",
    "for i in range(1, len(event_names)) :\n",
    "    \n",
    "    # выберем данные для текущего события и для сравнения\n",
    "    inbound = [u_aa[0], u248[0]]\n",
    "    successes = [u_aa[i], u248[i]]\n",
    "\n",
    "    # зададим критический уровень статистической значимости:\n",
    "    alpha = 0.05 / 3\n",
    "\n",
    "    # вызовем нашу статистическую функцию для расчета p-value:\n",
    "    p_value = distr_cdf(successes, inbound) \n",
    "\n",
    "    print(f'Расчет для события `{event_names[i]}`:')\n",
    "    print(f'p_value = {p_value:.3f}')\n",
    "\n",
    "    if p_value < alpha:\n",
    "        print('Отвергаем нулевую гипотезу: статистически значимая разница между конверсией есть.')\n",
    "    else:\n",
    "        print(\n",
    "            'статистически значимой разницы между конверсией в тестируемых группах нет.'\n",
    "        ) \n",
    "    print()"
   ]
  },
  {
   "cell_type": "markdown",
   "id": "990a9bf5",
   "metadata": {},
   "source": [
    "Статистических различий между объединённой контрольной (246+247) и экспериментальной (248) группами не выявлено (z-тест)."
   ]
  },
  {
   "cell_type": "markdown",
   "id": "47f313a1",
   "metadata": {},
   "source": [
    "### Объяснить, какой уровень значимости мы выбрали при проверке статистических гипотез выше. Посчитать, сколько проверок статистических гипотез было сделано. При уровне значимости 0.1 каждый десятый раз можно получать ложный результат. Определить, какой уровень значимости стоит применить. "
   ]
  },
  {
   "cell_type": "markdown",
   "id": "46244d29",
   "metadata": {},
   "source": [
    "Мы выбрали критический уровень статистической значимости alpha = 0.05. Это устоявшаяся практика - использовать такое значение. Безусловно, это не догма, можно выбрать любое обоснованное значение.\n",
    "\n",
    "Всего мы проводим 4 теста - 1 контрольный и 3 экспериментальных.\n",
    "\n",
    "Первый тест является контрольным (группы 246 и 247), поэтому поправки в критический уровень статистической значимости вносить не надо, оставляем его значение на уровне 0.05\n",
    "\n",
    "Остальные тесты экспериментальные, а проверка является множественной. Поэтому необходимо применить поправку Бонферрони у установить критический уровень статистической значимости для каждого из экспериментальных тестов на уровне 0.05/3."
   ]
  },
  {
   "cell_type": "markdown",
   "id": "1b730977",
   "metadata": {},
   "source": [
    "### Этап 5. Вывод.\n",
    "\n",
    "Мы определили количество пользователей по грппам:\n",
    "* Количество уникальных пользователей в группе 246: 2484\n",
    "* Количество уникальных пользователей в группе 247: 2513\n",
    "* Количество уникальных пользователей в группе 248: 2537\n",
    "\n",
    "Разбиение на контрольные группы (246 и 247) корректно - ни по одному из событий мы не можем отвергнуть нулевую гипотезу, нет оснований считать доли разными (z-тест).\n",
    "\n",
    "Статистических различий между 246 и 248 группами не выявлено (z-тест).\n",
    "\n",
    "Статистических различий между 247 и 248 группами не выявлено (z-тест).\n",
    "\n",
    "Статистических различий между объединённой контрольной (246+247) и экспериментальной (248) группами не выявлено (z-тест).\n",
    "\n",
    "Мы выбрали критический уровень статистической значимости alpha = 0.05. Это устоявшаяся практика - использовать такое значение. Безусловно, это не догма, можно выбрать любое обоснованное значение.\n",
    "\n",
    "Всего мы проводим 4 теста - 1 контрольный и 3 экспериментальных.\n",
    "<br>Первый тест является контрольным (группы 246 и 247), поэтому поправки в критический уровень статистической значимости вносить не надо, оставляем его значение на уровне 0.05\n",
    "<br>Остальные тесты экспериментальные, а проверка является множественной. Поэтому необходимо применить поправку Бонферрони у установить критический уровень статистической значимости для каждого из экспериментальных тестов на уровне 0.05/3.\n",
    "\n",
    "\n",
    "**Рекомендаций к внедрению изменения в основной релиз НЕТ.**"
   ]
  },
  {
   "cell_type": "markdown",
   "id": "4fdee728",
   "metadata": {},
   "source": [
    "# Общий вывод.\n",
    "\n",
    "---\n",
    "\n",
    "Успешно загружены данные из файла `logs_exp.csv`.\n",
    "\n",
    "Файл содержит в себе 244126 записей событий и 4 поля в каждой записи: \n",
    "* название события (содержит всего 5 различных названий), \n",
    "* идентификатор устройства пользователя, \n",
    "* дата и время события,\n",
    "* идентификатор группы (246 и 247 - контрольные группы, 248 - экспериментальная).\n",
    "\n",
    "Поля пропусков не имеют.\n",
    "<br>Первое поле имеет формат `object`, остальные три - `int64`. \n",
    "<br>Для даты необходимо будет изменить формат - сделаем это на 2м этапе.\n",
    "\n",
    "---\n",
    "\n",
    "Проверка на дубликаты показала, что их количество состаляет 413 или 0.17% от общего количества записей.\n",
    "\n",
    "Распределение дубликатов по группам:\n",
    "* доля дубликатов в группе 246 составляет 0.15%\n",
    "* доля дубликатов в группе 247 составляет 0.16%\n",
    "* доля дубликатов в группе 248 составляет 0.19%\n",
    "\n",
    "Дубликаты удалены.\n",
    "\n",
    "Данные пропусков не имеют.\n",
    "\n",
    "Проведено преобразование количество секунд из формата`int64` в формат `datetime`, отображающий информацию в виде 'дата + время'. Данные сохранены в столбце `event_dt`.\n",
    "\n",
    "Также добавлен отдельный столбец, где хранится только дата события - `event_date`.\n",
    "\n",
    "---\n",
    "\n",
    "Мы определили, что:\n",
    "* Всего уникальных событий: 243713\n",
    "* Всего уникальных пользователей: 7551\n",
    "* Среднее число событий на пользователя: 32.28\n",
    "* Реальный период, по которому мы располагаем данными: 01.08.2019 - 07.08.2019.\n",
    "* После удаления аномальной части данных:\n",
    "    - Осталось 98.84% данных от первоначального их числа.\n",
    "    - Осталось 99.77% пользователей от первоначального их числа.\n",
    "* Пользователей, присутствующих одновременно во всех трех группах - нет.\n",
    "* Пользователей, присутствующих одновременно в каких-либо двух группах - нет.\n",
    "\n",
    "Реальный период, по которому мы располагаем данными: 01.08.2019 - 07.08.2019.\n",
    "\n",
    "Все три группы имеют уникальный набор пользователей, пересечений нет.\n",
    "\n",
    "---\n",
    "\n",
    "В исходных данных имеется всего 5 различных событий. По частоте они распределены следующим образом:\n",
    "\n",
    "| event_name | events |\n",
    "| --- | --- |\n",
    "|MainScreenAppear |117328 |\n",
    "|OffersScreenAppear |46333 |\n",
    "|CartScreenAppear |42303 |\n",
    "|PaymentScreenSuccessful |33918 |\n",
    "|Tutorial |1005 |\n",
    "\n",
    "Мы посчитали количество уникальных пользователей и их долю для каждого из событий:\n",
    "\n",
    "| event_name | users | share |\n",
    "| --- | --- | --- |\n",
    "|MainScreenAppear |7419 |98.5% |\n",
    "|OffersScreenAppear |4593 |61.0% |\n",
    "|CartScreenAppear |3734 |49.6% |\n",
    "|PaymentScreenSuccessful |3539 |47.0% |\n",
    "|Tutorial |840 |11.1% |\n",
    "\n",
    "Исходя из полученных данных, воронка выглядит следующим образом:\n",
    "<br>**`MainScreenAppear` -> `OffersScreenAppear` -> `CartScreenAppear` -> `PaymentScreenSuccessful`**\n",
    "<br>Событие `Tutorial`  в воронку не входит.\n",
    "\n",
    "Мы рассчитали конверсию для каждого из этапов воронки:\n",
    "\n",
    "| event_name | users | conversion |\n",
    "| --- | --- | --- |\n",
    "|MainScreenAppear |7419 |98.5% |\n",
    "|OffersScreenAppear |4593 |61.9% |\n",
    "|CartScreenAppear |3734 |81.3% |\n",
    "|PaymentScreenSuccessful |3539 |94.8% |\n",
    "\n",
    "Больше всего пользователей мы теряем на первом этапе воронки - только 61.9% переходят с основного экрана к предложениям.\n",
    "Это при том, что конверсия на остальных этапах составляет 98.5%, 81.3% и 94.8%.\n",
    "\n",
    "До оплаты доходит 47.7% пользователей от первого события (что составляет 47% от общего числа пользователей).\n",
    "\n",
    "---\n",
    "\n",
    "Мы определили количество пользователей по грппам:\n",
    "* Количество уникальных пользователей в группе 246: 2484\n",
    "* Количество уникальных пользователей в группе 247: 2513\n",
    "* Количество уникальных пользователей в группе 248: 2537\n",
    "\n",
    "Разбиение на контрольные группы (246 и 247) корректно - ни по одному из событий мы не можем отвергнуть нулевую гипотезу, нет оснований считать доли разными (z-тест).\n",
    "\n",
    "Статистических различий между 246 и 248 группами не выявлено (z-тест).\n",
    "\n",
    "Статистических различий между 247 и 248 группами не выявлено (z-тест).\n",
    "\n",
    "Статистических различий между объединённой контрольной (246+247) и экспериментальной (248) группами не выявлено (z-тест).\n",
    "\n",
    "Мы выбрали критический уровень статистической значимости alpha = 0.05. Это устоявшаяся практика - использовать такое значение. Безусловно, это не догма, можно выбрать любое обоснованное значение.\n",
    "\n",
    "Всего мы проводим 4 теста - 1 контрольный и 3 экспериментальных.\n",
    "<br>Первый тест является контрольным (группы 246 и 247), поэтому поправки в критический уровень статистической значимости вносить не надо, оставляем его значение на уровне 0.05\n",
    "<br>Остальные тесты экспериментальные, а проверка является множественной. Поэтому необходимо применить поправку Бонферрони у установить критический уровень статистической значимости для каждого из экспериментальных тестов на уровне 0.05/3.\n",
    "\n",
    "---\n",
    "\n",
    "**Результаты анализа:**\n",
    "\n",
    "**Рекомендаций к внедрению изменения в основной релиз НЕТ.**\n",
    "\n",
    "**Предложения:**\n",
    "* Проверить, почему 1.5% пользователей вообще не попадают на главный экран.\n",
    "* Проверить, почему конверсия 1го этапа (`MainScreenAppear` -> `OffersScreenAppear`) резко ниже всех остальных. С большой долей вероятности можно предроложить, что имеет место неявная проблема.\n",
    "\n",
    "**Комментарий:**\n",
    "\n",
    "Тот факт, что 1.5% пользователей не попадают на главный экран, говорит о необходимости оптимизации самой воронки. Это ведь не сайт, а мобильное приложение. На главном экране размещаются новинки, специальные предложения и персонифицированные подборки - а пользователь проходит мимо этого. Наряду с техническими проблемеми, это может являться причиной столь низкой относительной конверсии первого этапа (`MainScreenAppear` -> `OffersScreenAppear`). Именно в этой точке находится самый большой потенциал для роста."
   ]
  }
 ],
 "metadata": {
  "ExecuteTimeLog": [
   {
    "duration": 2079,
    "start_time": "2023-06-27T21:44:32.437Z"
   },
   {
    "duration": 1109,
    "start_time": "2023-06-27T21:44:34.519Z"
   },
   {
    "duration": 14,
    "start_time": "2023-06-27T21:44:35.631Z"
   },
   {
    "duration": 33,
    "start_time": "2023-06-27T21:44:35.647Z"
   },
   {
    "duration": 9,
    "start_time": "2023-06-27T21:44:35.683Z"
   },
   {
    "duration": 51,
    "start_time": "2023-06-27T21:44:35.695Z"
   },
   {
    "duration": 106,
    "start_time": "2023-06-27T21:44:35.748Z"
   },
   {
    "duration": 92,
    "start_time": "2023-06-27T21:44:35.856Z"
   },
   {
    "duration": 142,
    "start_time": "2023-06-27T21:44:35.949Z"
   },
   {
    "duration": 118,
    "start_time": "2023-06-27T21:44:36.095Z"
   },
   {
    "duration": 16,
    "start_time": "2023-06-27T21:44:36.215Z"
   },
   {
    "duration": 41,
    "start_time": "2023-06-27T21:44:36.233Z"
   },
   {
    "duration": 147,
    "start_time": "2023-06-27T21:44:36.276Z"
   },
   {
    "duration": 46,
    "start_time": "2023-06-27T21:44:36.427Z"
   },
   {
    "duration": 10,
    "start_time": "2023-06-27T21:44:36.476Z"
   },
   {
    "duration": 13,
    "start_time": "2023-06-27T21:44:36.490Z"
   },
   {
    "duration": 14,
    "start_time": "2023-06-27T21:44:36.520Z"
   },
   {
    "duration": 7,
    "start_time": "2023-06-27T21:44:36.537Z"
   },
   {
    "duration": 7,
    "start_time": "2023-06-27T21:44:36.546Z"
   },
   {
    "duration": 1556,
    "start_time": "2023-06-27T21:44:36.555Z"
   },
   {
    "duration": 81,
    "start_time": "2023-06-27T21:44:38.113Z"
   },
   {
    "duration": 38,
    "start_time": "2023-06-27T21:44:38.197Z"
   },
   {
    "duration": 4,
    "start_time": "2023-06-27T21:44:38.237Z"
   },
   {
    "duration": 10,
    "start_time": "2023-06-27T21:44:38.242Z"
   },
   {
    "duration": 95,
    "start_time": "2023-06-27T21:44:38.253Z"
   },
   {
    "duration": 70,
    "start_time": "2023-06-27T21:44:38.350Z"
   },
   {
    "duration": 42,
    "start_time": "2023-06-27T21:44:38.422Z"
   },
   {
    "duration": 68,
    "start_time": "2023-06-27T21:44:38.469Z"
   },
   {
    "duration": 19,
    "start_time": "2023-06-27T21:44:38.539Z"
   },
   {
    "duration": 76,
    "start_time": "2023-06-27T21:44:38.570Z"
   },
   {
    "duration": 156,
    "start_time": "2023-06-27T21:44:38.648Z"
   },
   {
    "duration": 6,
    "start_time": "2023-06-27T21:44:38.807Z"
   },
   {
    "duration": 14,
    "start_time": "2023-06-27T21:44:38.816Z"
   },
   {
    "duration": 9,
    "start_time": "2023-06-27T21:44:38.832Z"
   },
   {
    "duration": 16,
    "start_time": "2023-06-27T21:44:38.843Z"
   },
   {
    "duration": 70,
    "start_time": "2023-06-27T21:44:38.861Z"
   },
   {
    "duration": 29,
    "start_time": "2023-06-27T21:44:38.935Z"
   },
   {
    "duration": 52,
    "start_time": "2023-06-27T21:44:38.966Z"
   },
   {
    "duration": 36,
    "start_time": "2023-06-27T21:44:39.020Z"
   },
   {
    "duration": 30,
    "start_time": "2023-06-27T21:44:39.058Z"
   },
   {
    "duration": 36,
    "start_time": "2023-06-27T21:44:39.090Z"
   },
   {
    "duration": 61,
    "start_time": "2023-06-27T21:44:39.129Z"
   },
   {
    "duration": 61,
    "start_time": "2023-06-27T21:44:39.193Z"
   },
   {
    "duration": 103,
    "start_time": "2023-06-27T21:44:39.257Z"
   },
   {
    "duration": 22,
    "start_time": "2023-06-27T21:44:39.361Z"
   },
   {
    "duration": 47,
    "start_time": "2023-06-27T21:44:39.387Z"
   },
   {
    "duration": 10,
    "start_time": "2023-06-27T21:44:39.437Z"
   },
   {
    "duration": 16,
    "start_time": "2023-06-27T21:44:39.449Z"
   },
   {
    "duration": 32,
    "start_time": "2023-06-27T21:44:39.467Z"
   },
   {
    "duration": 17,
    "start_time": "2023-06-27T21:44:39.502Z"
   },
   {
    "duration": 16,
    "start_time": "2023-06-27T21:44:39.521Z"
   },
   {
    "duration": 6,
    "start_time": "2023-06-27T21:44:39.539Z"
   },
   {
    "duration": 31,
    "start_time": "2023-06-27T21:44:39.547Z"
   },
   {
    "duration": 40,
    "start_time": "2023-06-27T21:49:05.167Z"
   }
  ],
  "kernelspec": {
   "display_name": "Python 3 (ipykernel)",
   "language": "python",
   "name": "python3"
  },
  "language_info": {
   "codemirror_mode": {
    "name": "ipython",
    "version": 3
   },
   "file_extension": ".py",
   "mimetype": "text/x-python",
   "name": "python",
   "nbconvert_exporter": "python",
   "pygments_lexer": "ipython3",
   "version": "3.11.4"
  },
  "toc": {
   "base_numbering": 1,
   "nav_menu": {},
   "number_sections": false,
   "sideBar": true,
   "skip_h1_title": false,
   "title_cell": "Table of Contents",
   "title_sidebar": "Contents",
   "toc_cell": false,
   "toc_position": {
    "height": "calc(100% - 180px)",
    "left": "10px",
    "top": "150px",
    "width": "218.31px"
   },
   "toc_section_display": true,
   "toc_window_display": true
  },
  "varInspector": {
   "cols": {
    "lenName": 16,
    "lenType": 16,
    "lenVar": 40
   },
   "kernels_config": {
    "python": {
     "delete_cmd_postfix": "",
     "delete_cmd_prefix": "del ",
     "library": "var_list.py",
     "varRefreshCmd": "print(var_dic_list())"
    },
    "r": {
     "delete_cmd_postfix": ") ",
     "delete_cmd_prefix": "rm(",
     "library": "var_list.r",
     "varRefreshCmd": "cat(var_dic_list()) "
    }
   },
   "types_to_exclude": [
    "module",
    "function",
    "builtin_function_or_method",
    "instance",
    "_Feature"
   ],
   "window_display": false
  }
 },
 "nbformat": 4,
 "nbformat_minor": 5
}
